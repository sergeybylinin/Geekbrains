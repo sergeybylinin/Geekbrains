{
 "cells": [
  {
   "cell_type": "code",
   "execution_count": 1,
   "metadata": {},
   "outputs": [],
   "source": [
    "import numpy as np\n",
    "from scipy import stats"
   ]
  },
  {
   "cell_type": "markdown",
   "metadata": {},
   "source": [
    "**Задача 1**\n",
    "\n",
    "Известно, что генеральная совокупность распределена нормально с известным средним квадратическим отклонением 16. Найти доверительный интервал для оценки математического ожидания mu с надёжностью 0.95, если выборочное среднее равно 80, а объём равен 256."
   ]
  },
  {
   "cell_type": "code",
   "execution_count": 2,
   "metadata": {},
   "outputs": [
    {
     "data": {
      "text/plain": [
       "1.959963984540054"
      ]
     },
     "execution_count": 2,
     "metadata": {},
     "output_type": "execute_result"
    }
   ],
   "source": [
    "# Найдем необходимые квантили для вычисления доверительного интервала.\n",
    "\n",
    "alpha = 0.05\n",
    "stats.norm.ppf(1-alpha/2)"
   ]
  },
  {
   "cell_type": "code",
   "execution_count": 3,
   "metadata": {},
   "outputs": [
    {
     "data": {
      "text/plain": [
       "(78.04, 81.96)"
      ]
     },
     "execution_count": 3,
     "metadata": {},
     "output_type": "execute_result"
    }
   ],
   "source": [
    "# Тогда доверительный интервал:\n",
    "\n",
    "left = 80 - 1.96 * (16 / pow(256, 0.5))\n",
    "right = 80 + 1.96 * (16 / pow(256, 0.5))\n",
    "\n",
    "left, right"
   ]
  },
  {
   "cell_type": "markdown",
   "metadata": {},
   "source": [
    "**Задача 2**\n",
    "\n",
    "Продавец утверждает, что средний вес пачки печенья составляет 200 г. Из партии извлечена выборка из 10 пачек. Вес каждой пачки составляет:\n",
    "\n",
    "202, 203, 199, 197, 195, 201, 200, 204, 194, 190\n",
    "\n",
    "Известно, что их веса распределены нормально.\n",
    "1. Верно ли утверждение продавца, если учитывать, что уровень значимости равен 1%?\n",
    "2. Найдите P-значение для данного теста."
   ]
  },
  {
   "cell_type": "code",
   "execution_count": 4,
   "metadata": {},
   "outputs": [],
   "source": [
    "def t_statistic(x, M, n, sigma_x):\n",
    "    return (x - M) / (sigma_x / np.math.sqrt(n))"
   ]
  },
  {
   "cell_type": "code",
   "execution_count": 5,
   "metadata": {},
   "outputs": [],
   "source": [
    "M = 200\n",
    "n = 10\n",
    "alpha = 0.01\n",
    "sample = np.array((202, 203, 199, 197, 195, 201, 200, 204, 194, 190))\n",
    "x = sample.mean()\n",
    "sigma_x = sample.std(ddof=1)"
   ]
  },
  {
   "cell_type": "code",
   "execution_count": 6,
   "metadata": {},
   "outputs": [
    {
     "data": {
      "text/plain": [
       "-1.0651074037450896"
      ]
     },
     "execution_count": 6,
     "metadata": {},
     "output_type": "execute_result"
    }
   ],
   "source": [
    "# Вычислим t-статистику\n",
    "\n",
    "S_t = t_statistic(x, M, n, sigma_x)\n",
    "\n",
    "S_t"
   ]
  },
  {
   "cell_type": "code",
   "execution_count": 7,
   "metadata": {},
   "outputs": [
    {
     "name": "stdout",
     "output_type": "stream",
     "text": [
      "(-inf;-3.24983554401537),(3.2498355440153697;+inf)\n"
     ]
    }
   ],
   "source": [
    "# Вычислим критическую область\n",
    "\n",
    "t1 = stats.t.ppf(alpha / 2, df=n-1)\n",
    "t2 = stats.t.ppf(1 - alpha / 2, df=n-1)\n",
    "\n",
    "print(f\"(-inf;{t1}),({t2};+inf)\")"
   ]
  },
  {
   "cell_type": "code",
   "execution_count": 8,
   "metadata": {},
   "outputs": [],
   "source": [
    "# Вычисляемая статистика не попала в критическую область,\n",
    "# значит наша нулевая гипотеза верна при нашем уровне значимости 0.001"
   ]
  },
  {
   "cell_type": "code",
   "execution_count": 9,
   "metadata": {},
   "outputs": [
    {
     "data": {
      "text/plain": [
       "0.31456660352472854"
      ]
     },
     "execution_count": 9,
     "metadata": {},
     "output_type": "execute_result"
    }
   ],
   "source": [
    "# Вычислим P-значение, для двусторнней области:\n",
    "\n",
    "p_left = stats.t.cdf(S_t, df=n - 1)\n",
    "p_right = 1 - stats.t.cdf(S_t, df=n - 1)\n",
    "pvalue = 2 * min(p_left, p_right)\n",
    "\n",
    "pvalue"
   ]
  },
  {
   "cell_type": "markdown",
   "metadata": {},
   "source": [
    "**Задача 3**\n",
    "\n",
    "Утверждается, что шарики для подшипников, изготовленные автоматическим станком, имеют средний диаметр 17 мм. Используя уровень значимости 0.025 и правостороннюю критическую область, проверить данную гипотезу при условии, что в выборке из 100 шариков средний диаметр оказался равным 17.5 мм, а дисперсия известна и равна 4 мм."
   ]
  },
  {
   "cell_type": "markdown",
   "metadata": {},
   "source": [
    "В качестве нулевой гипотезы $H_0$ берётся гипотеза о том, что шарики для подшипников, изготовленные автоматическим станком, имеют средний диаметр 17 мм."
   ]
  },
  {
   "cell_type": "markdown",
   "metadata": {},
   "source": [
    "$$Z = \\dfrac{\\overline{X} - \\mu}{\\sigma / \\sqrt{n}}$$"
   ]
  },
  {
   "cell_type": "code",
   "execution_count": 10,
   "metadata": {},
   "outputs": [
    {
     "data": {
      "text/plain": [
       "2.241402727604947"
      ]
     },
     "execution_count": 10,
     "metadata": {},
     "output_type": "execute_result"
    }
   ],
   "source": [
    "alpha = 0.025\n",
    "t = stats.norm.ppf(1 - alpha / 2)\n",
    "\n",
    "t"
   ]
  },
  {
   "cell_type": "markdown",
   "metadata": {},
   "source": [
    "Критическая область:$$\\Omega_\\alpha = (2.24, \\infty)$$"
   ]
  },
  {
   "cell_type": "code",
   "execution_count": 11,
   "metadata": {},
   "outputs": [
    {
     "data": {
      "text/plain": [
       "2.5"
      ]
     },
     "execution_count": 11,
     "metadata": {},
     "output_type": "execute_result"
    }
   ],
   "source": [
    "Z = (17.5 - 17) / (np.sqrt(4) / np.sqrt(100))\n",
    "Z"
   ]
  },
  {
   "cell_type": "code",
   "execution_count": 12,
   "metadata": {},
   "outputs": [],
   "source": [
    "# Значение попало в критическую область, следовательно,\n",
    "# нулевая гипотеза отвергается"
   ]
  }
 ],
 "metadata": {
  "kernelspec": {
   "display_name": "Python 3",
   "language": "python",
   "name": "python3"
  },
  "language_info": {
   "codemirror_mode": {
    "name": "ipython",
    "version": 3
   },
   "file_extension": ".py",
   "mimetype": "text/x-python",
   "name": "python",
   "nbconvert_exporter": "python",
   "pygments_lexer": "ipython3",
   "version": "3.8.5"
  }
 },
 "nbformat": 4,
 "nbformat_minor": 2
}
