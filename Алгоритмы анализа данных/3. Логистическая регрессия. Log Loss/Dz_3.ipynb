{
 "cells": [
  {
   "cell_type": "code",
   "execution_count": 1,
   "metadata": {},
   "outputs": [],
   "source": [
    "import numpy as np\n",
    "from sklearn import datasets\n",
    "import matplotlib.pyplot as plt\n",
    "\n",
    "%matplotlib inline"
   ]
  },
  {
   "cell_type": "code",
   "execution_count": 2,
   "metadata": {},
   "outputs": [],
   "source": [
    "X = np.array([[1, 1, 1, 1, 1, 1, 1, 1, 1, 1],\n",
    "              [1, 1, 2, 5, 3, 0, 5, 10, 1, 2],\n",
    "              [500, 700, 750, 600, 1450, 800, 1500, 2000, 450, 1000],\n",
    "              [1, 1, 2, 1, 2,  1, 3, 3, 1, 2]], dtype = np.float64)\n",
    "y = np.array([0, 0, 1, 0, 1, 0, 1, 0, 1, 1], dtype = np.float64)"
   ]
  },
  {
   "cell_type": "markdown",
   "metadata": {},
   "source": [
    "1. Измените функцию calc_logloss так, чтобы нули по возможности не попадали в np.log."
   ]
  },
  {
   "cell_type": "code",
   "execution_count": 3,
   "metadata": {},
   "outputs": [],
   "source": [
    "def calc_logloss(y_true, y_pred):\n",
    "    k = 1e-5\n",
    "    y_pred = y_pred.copy()\n",
    "    y_pred = np.clip(y_pred, a_min=k, a_max=1-k)\n",
    "    err = - np.mean(y_true * np.log(y_pred) + (1.0 - y_true) * np.log(1.0 - y_pred))\n",
    "    return err"
   ]
  },
  {
   "cell_type": "markdown",
   "metadata": {},
   "source": [
    "2. Подберите аргументы функции eval_model для логистической регрессии таким образом, чтобы log loss был минимальным."
   ]
  },
  {
   "cell_type": "code",
   "execution_count": 4,
   "metadata": {},
   "outputs": [],
   "source": [
    "X = np.array([[1, 1, 1, 1, 1, 1, 1, 1, 1, 1],\n",
    "              [1, 1, 2, 1, 3, 0, 5, 10, 1, 2],\n",
    "              [500, 700, 750, 600, 1450,\n",
    "               800, 1500, 2000, 450, 1000],\n",
    "              [1, 1, 2, 1, 2, \n",
    "               1, 3, 3, 1, 2]], dtype = np.float64)\n",
    "\n",
    "y = np.array([0, 0, 1, 0, 1, 0, 1, 0, 1, 1], dtype = np.float64)"
   ]
  },
  {
   "cell_type": "code",
   "execution_count": 5,
   "metadata": {},
   "outputs": [
    {
     "data": {
      "text/plain": [
       "(array([[1.00e+00, 1.00e+00, 1.00e+00, 1.00e+00, 1.00e+00, 1.00e+00,\n",
       "         1.00e+00, 1.00e+00, 1.00e+00, 1.00e+00],\n",
       "        [1.00e+00, 1.00e+00, 2.00e+00, 1.00e+00, 3.00e+00, 0.00e+00,\n",
       "         5.00e+00, 1.00e+01, 1.00e+00, 2.00e+00],\n",
       "        [5.00e+02, 7.00e+02, 7.50e+02, 6.00e+02, 1.45e+03, 8.00e+02,\n",
       "         1.50e+03, 2.00e+03, 4.50e+02, 1.00e+03],\n",
       "        [1.00e+00, 1.00e+00, 2.00e+00, 1.00e+00, 2.00e+00, 1.00e+00,\n",
       "         3.00e+00, 3.00e+00, 1.00e+00, 2.00e+00]]),\n",
       " array([0., 0., 1., 0., 1., 0., 1., 0., 1., 1.]))"
      ]
     },
     "execution_count": 5,
     "metadata": {},
     "output_type": "execute_result"
    }
   ],
   "source": [
    "X, y"
   ]
  },
  {
   "cell_type": "code",
   "execution_count": 6,
   "metadata": {},
   "outputs": [],
   "source": [
    "def calc_std_feat(x):\n",
    "    x[1:] = ((x[1:].T - x[1:].mean(axis=1)) / x[1:].std(axis=1)).T\n",
    "    return x"
   ]
  },
  {
   "cell_type": "code",
   "execution_count": 7,
   "metadata": {},
   "outputs": [],
   "source": [
    "x = calc_std_feat(X)"
   ]
  },
  {
   "cell_type": "code",
   "execution_count": 8,
   "metadata": {},
   "outputs": [],
   "source": [
    "def calc_std_feat(X):\n",
    "    X_tr = X[1:,].copy()\n",
    "    X_mean, X_std = X_tr.mean(axis=1), X_tr.std(axis=1)\n",
    "    X_mean, X_std = X_mean.reshape(X_tr.shape[0], 1), X_std.reshape(X_tr.shape[0], 1)\n",
    "    X_tr = (X_tr - X_mean)/X_std\n",
    "    X_tr = np.vstack((np.ones(X_tr.shape[1]), X_tr))\n",
    "    return X_tr"
   ]
  },
  {
   "cell_type": "code",
   "execution_count": 9,
   "metadata": {},
   "outputs": [],
   "source": [
    "def sigmoid(z):\n",
    "    rec = 1 / (1 + np.exp(-z))\n",
    "    return rec"
   ]
  },
  {
   "cell_type": "code",
   "execution_count": 10,
   "metadata": {},
   "outputs": [],
   "source": [
    "def eval_model(X, y, iteration, alpha=1e-4, k=1e-5):\n",
    "    np.random.seed(42)\n",
    "    W = np.random.randn(X.shape[0])\n",
    "    n = X.shape[1]\n",
    "    err = []\n",
    "    w = []\n",
    "    \n",
    "    for n_iter in range (1, iteration+1):\n",
    "        z = np.dot(W, X)\n",
    "        y_pred = sigmoid(z)\n",
    "        err_new = calc_logloss(y, y_pred)\n",
    "        W = W - alpha*(1/n * np.dot((y_pred - y), X.T))\n",
    "        #W -= alpha * (1/n * np.dot((y_pred - y), X.T))\n",
    "        err.append(err_new)\n",
    "        w.append(W)\n",
    "        \n",
    "        if n_iter > 2 and np.abs(err_new - err[-2]) < k:\n",
    "            print(n_iter, W, err_new)\n",
    "            break\n",
    "    err = np.array(err)\n",
    "    return err, w"
   ]
  },
  {
   "cell_type": "code",
   "execution_count": 11,
   "metadata": {},
   "outputs": [
    {
     "name": "stdout",
     "output_type": "stream",
     "text": [
      "6236 [ 1.80385313 -5.00023322 -4.03203415 10.50060735] 0.20882355724960694\n",
      "6193 [ 0.22322901 -2.33314778 -0.81934289  3.73020567] 0.33794925766901673\n",
      "5495 [ 0.19641082 -0.94005846 -0.0076054   1.43621037] 0.49456917344192275\n",
      "8140 [ 0.45930427 -0.33157412  0.47217682  1.43686081] 0.6690360538916053\n"
     ]
    }
   ],
   "source": [
    "learning_model = [0.1, 0.01, 0.001, 0.0001]\n",
    "\n",
    "for alpha1 in learning_model:\n",
    "    W = eval_model(X, y, iteration=1000000, alpha=alpha1)"
   ]
  },
  {
   "cell_type": "code",
   "execution_count": 12,
   "metadata": {},
   "outputs": [
    {
     "name": "stdout",
     "output_type": "stream",
     "text": [
      "6236 [ 1.80385313 -5.00023322 -4.03203415 10.50060735] 0.20882355724960694\n",
      "6193 [ 0.22322901 -2.33314778 -0.81934289  3.73020567] 0.33794925766901673\n",
      "5495 [ 0.19641082 -0.94005846 -0.0076054   1.43621037] 0.49456917344192275\n",
      "8140 [ 0.45930427 -0.33157412  0.47217682  1.43686081] 0.6690360538916053\n"
     ]
    }
   ],
   "source": [
    "for alpha in [0.1, 0.01, 0.001, 0.0001]:\n",
    "    err_1, w_1 = eval_model(X=X, y=y, iteration = 1000000, alpha=alpha)"
   ]
  },
  {
   "cell_type": "markdown",
   "metadata": {},
   "source": [
    "3. Создайте функцию calc_pred_proba, возвращающую предсказанную вероятность класса 1 (на вход подаются W, который уже посчитан функцией eval_model и X, на выходе - массив y_pred_proba)."
   ]
  },
  {
   "cell_type": "code",
   "execution_count": 13,
   "metadata": {},
   "outputs": [],
   "source": [
    "def calc_pred_proba(W, X):\n",
    "    y_pred = 1 /(1+ np.exp(-np.dot(W, X)))\n",
    "    return y_pred"
   ]
  },
  {
   "cell_type": "code",
   "execution_count": 14,
   "metadata": {},
   "outputs": [
    {
     "data": {
      "text/plain": [
       "array([0.24944723, 0.28765324, 0.70332289, 0.26811923, 0.80633815,\n",
       "       0.33380776, 0.95597403, 0.95132722, 0.24044325, 0.75149724])"
      ]
     },
     "execution_count": 14,
     "metadata": {},
     "output_type": "execute_result"
    }
   ],
   "source": [
    "calc_pred_proba(w_1[-1], X)"
   ]
  },
  {
   "cell_type": "markdown",
   "metadata": {},
   "source": [
    "4. Создайте функцию calc_pred, возвращающую предсказанный класс (на вход подаются W, который уже посчитан функцией eval_model и X, на выходе - массив y_pred)."
   ]
  },
  {
   "cell_type": "code",
   "execution_count": 15,
   "metadata": {},
   "outputs": [],
   "source": [
    "def calc_pred(W, X, threshold=0.5):\n",
    "    y_pred = calc_pred_proba(W, X)\n",
    "    y_pred = np.where(y_pred > threshold, 1, 0)\n",
    "    return y_pred"
   ]
  },
  {
   "cell_type": "code",
   "execution_count": 16,
   "metadata": {},
   "outputs": [
    {
     "data": {
      "text/plain": [
       "array([0, 0, 1, 0, 1, 0, 1, 1, 0, 1])"
      ]
     },
     "execution_count": 16,
     "metadata": {},
     "output_type": "execute_result"
    }
   ],
   "source": [
    "y_pred = calc_pred(w_1[-1], X)\n",
    "y_pred"
   ]
  }
 ],
 "metadata": {
  "kernelspec": {
   "display_name": "Python 3",
   "language": "python",
   "name": "python3"
  },
  "language_info": {
   "codemirror_mode": {
    "name": "ipython",
    "version": 3
   },
   "file_extension": ".py",
   "mimetype": "text/x-python",
   "name": "python",
   "nbconvert_exporter": "python",
   "pygments_lexer": "ipython3",
   "version": "3.8.5"
  }
 },
 "nbformat": 4,
 "nbformat_minor": 4
}
