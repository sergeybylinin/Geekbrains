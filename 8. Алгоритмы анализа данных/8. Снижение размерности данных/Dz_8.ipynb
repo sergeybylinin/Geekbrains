{
 "cells": [
  {
   "cell_type": "code",
   "execution_count": 1,
   "metadata": {},
   "outputs": [],
   "source": [
    "import numpy as np\n",
    "from sklearn import model_selection\n",
    "from sklearn.datasets import load_iris\n",
    "\n",
    "import matplotlib.pyplot as plt"
   ]
  },
  {
   "cell_type": "markdown",
   "metadata": {},
   "source": [
    "1. Обучить любую модель классификации на датасете IRIS до применения PCA и после него. Сравнить качество классификации по отложенной выборке.\n",
    "2. Написать свою реализацию метода главных компонент с помощью сингулярного разложения с использованием функции numpy.linalg.svd()"
   ]
  },
  {
   "cell_type": "code",
   "execution_count": 2,
   "metadata": {},
   "outputs": [],
   "source": [
    "def normalize(data):\n",
    "    X_ = data.astype(float)\n",
    "\n",
    "    rows, cols = X_.shape\n",
    "\n",
    "    means = X_.mean(0)\n",
    "    for i in range(rows):\n",
    "        for j in range(cols):\n",
    "            X_[i, j] -= means[j]\n",
    "\n",
    "    std = np.std(X_, axis=0)\n",
    "    for i in range(cols):\n",
    "        for j in range(rows):\n",
    "            X_[j][i] /= std[i]\n",
    "    return X_"
   ]
  },
  {
   "cell_type": "code",
   "execution_count": 3,
   "metadata": {},
   "outputs": [],
   "source": [
    "def my_pca(data, n_components):   \n",
    "    u, d, v = np.linalg.svd(data)\n",
    "    if not (0 < n_components <= len(v)):\n",
    "        raise ValueError('n_components should be between 0 and number of features')\n",
    "    W = v.T[:, :n_components]\n",
    "    \n",
    "    return data @ W"
   ]
  },
  {
   "cell_type": "code",
   "execution_count": 4,
   "metadata": {},
   "outputs": [],
   "source": [
    "# Сравнивать качество будем с помощью accuracy\n",
    "def accuracy(pred, y):\n",
    "    return np.mean(pred == y)"
   ]
  },
  {
   "cell_type": "code",
   "execution_count": 5,
   "metadata": {},
   "outputs": [],
   "source": [
    "X, y = load_iris(return_X_y=True)"
   ]
  },
  {
   "cell_type": "code",
   "execution_count": 6,
   "metadata": {},
   "outputs": [],
   "source": [
    "# Данные до PCA\n",
    "\n",
    "X_train, X_test, y_train, y_test = model_selection.train_test_split(\n",
    "    X, y, test_size=0.3, random_state=23\n",
    ")"
   ]
  },
  {
   "cell_type": "code",
   "execution_count": 7,
   "metadata": {},
   "outputs": [],
   "source": [
    "# Данные после PCA\n",
    "# Нормализация и снижение размерности до 2 признаков\n",
    "\n",
    "X = normalize(X)\n",
    "Z = my_pca(X, 2)\n",
    "\n",
    "X_train_, X_test_, y_train_, y_test_ = model_selection.train_test_split(\n",
    "    Z, y, test_size=0.3, random_state=23\n",
    ")"
   ]
  },
  {
   "cell_type": "code",
   "execution_count": 8,
   "metadata": {},
   "outputs": [],
   "source": [
    "from sklearn.neighbors import KNeighborsClassifier"
   ]
  },
  {
   "cell_type": "code",
   "execution_count": 9,
   "metadata": {},
   "outputs": [
    {
     "name": "stdout",
     "output_type": "stream",
     "text": [
      "accuracy before PCA: 1.0\n"
     ]
    }
   ],
   "source": [
    "neigh = KNeighborsClassifier(n_neighbors=5)\n",
    "neigh.fit(X_train, y_train)\n",
    "y_pred = neigh.predict(X_test)\n",
    "print(f\"accuracy before PCA: {accuracy(y_pred, y_test)}\")"
   ]
  },
  {
   "cell_type": "code",
   "execution_count": 10,
   "metadata": {},
   "outputs": [
    {
     "name": "stdout",
     "output_type": "stream",
     "text": [
      "accuracy after PCA: 0.9777777777777777\n"
     ]
    }
   ],
   "source": [
    "neigh = KNeighborsClassifier(n_neighbors=5)\n",
    "neigh.fit(X_train_, y_train_)\n",
    "y_pred_ = neigh.predict(X_test_)\n",
    "print(f\"accuracy after PCA: {accuracy(y_pred_, y_test_)}\")"
   ]
  },
  {
   "cell_type": "code",
   "execution_count": 11,
   "metadata": {},
   "outputs": [],
   "source": [
    "X, y = load_iris(return_X_y=True)\n",
    "\n",
    "X = normalize(X)\n",
    "Z = my_pca(X, 2)"
   ]
  },
  {
   "cell_type": "code",
   "execution_count": 12,
   "metadata": {},
   "outputs": [
    {
     "data": {
      "image/png": "[encoded data removed]",
      "text/plain": [
       "<Figure size 432x288 with 1 Axes>"
      ]
     },
     "metadata": {
      "needs_background": "light"
     },
     "output_type": "display_data"
    }
   ],
   "source": [
    "plt.figure()\n",
    "for c, i in zip(\"rgb\", [0, 1, 2]):\n",
    "    plt.scatter(Z[y==i, 0], Z[y==i, 1], c=c)\n",
    "plt.xlabel('Главная компонента 1')\n",
    "plt.ylabel('Главная компонента 2')\n",
    "plt.title('PCA датасета IRIS')\n",
    "plt.show()"
   ]
  }
 ],
 "metadata": {
  "kernelspec": {
   "display_name": "Python 3",
   "language": "python",
   "name": "python3"
  },
  "language_info": {
   "codemirror_mode": {
    "name": "ipython",
    "version": 3
   },
   "file_extension": ".py",
   "mimetype": "text/x-python",
   "name": "python",
   "nbconvert_exporter": "python",
   "pygments_lexer": "ipython3",
   "version": "3.8.5"
  }
 },
 "nbformat": 4,
 "nbformat_minor": 4
}
