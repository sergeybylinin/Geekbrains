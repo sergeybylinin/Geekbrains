{
 "cells": [
  {
   "cell_type": "markdown",
   "metadata": {},
   "source": [
    "**Задача 1**\n",
    "\n",
    "Контрольная работа состоит из пяти вопросов. На каждый вопрос приведено четыре варианта ответа, один из которых правильный. Составьте закон распределения числа правильных ответов при простом угадывании. Найдите M(X), D(X)."
   ]
  },
  {
   "cell_type": "code",
   "execution_count": 1,
   "metadata": {},
   "outputs": [],
   "source": [
    "import numpy as np"
   ]
  },
  {
   "cell_type": "code",
   "execution_count": 2,
   "metadata": {},
   "outputs": [
    {
     "name": "stdout",
     "output_type": "stream",
     "text": [
      "Вероятность для 0 правильных ответов - 0.001\n",
      "Вероятность для 1 правильных ответов - 0.026\n",
      "Вероятность для 2 правильных ответов - 0.218\n",
      "Вероятность для 3 правильных ответов - 0.484\n",
      "Вероятность для 4 правильных ответов - 0.272\n"
     ]
    }
   ],
   "source": [
    "def distribution_law(x, n, k):\n",
    "    def combinations(n, k):\n",
    "        return np.math.factorial(n) // (np.math.factorial(k) * np.math.factorial(n - k))\n",
    "    a = combinations((n-k), x)\n",
    "    b = combinations(k, (k-x))\n",
    "    c = combinations(n, k)\n",
    "    return a * b / c\n",
    "\n",
    "x_probabilities = []\n",
    "for i in range(5):    # 5 - количество вопросов в контрольной работе\n",
    "    a = distribution_law(i, 16, 4)    # 16 = 4 * 4 (количесво вопросов в задаче * количество задач)\n",
    "                                      # 4 - число возможных верных ответов в контрольной работе\n",
    "    print(f'Вероятность для {i} правильных ответов - ', end='' )\n",
    "    print('%.3f' % a)\n",
    "    x_probabilities.append(a)"
   ]
  },
  {
   "cell_type": "code",
   "execution_count": 3,
   "metadata": {},
   "outputs": [],
   "source": [
    "# Применим формулу Бернулли"
   ]
  },
  {
   "cell_type": "markdown",
   "metadata": {},
   "source": [
    "$$P_n(X=k) = C_n^k p^k q^{n-k}$$"
   ]
  },
  {
   "cell_type": "code",
   "execution_count": 4,
   "metadata": {},
   "outputs": [],
   "source": [
    "def bernully(n, k, p, q):\n",
    "    \n",
    "    \"\"\"\n",
    "    ---Биноминальное распределение---\n",
    "    n - число независимых экспериментов\n",
    "    k - число \"успехов\"\n",
    "    p - вероятность \"успеха\"\n",
    "    q - вероятность \"неудачи\"\n",
    "    \"\"\"\n",
    "    \n",
    "    def combinations(n, k):\n",
    "        return np.math.factorial(n) // (np.math.factorial(k) * np.math.factorial(n - k))\n",
    "    \n",
    "    return combinations(n, k) * p**k * q**(n-k)"
   ]
  },
  {
   "cell_type": "code",
   "execution_count": 5,
   "metadata": {},
   "outputs": [
    {
     "name": "stdout",
     "output_type": "stream",
     "text": [
      "Вероятность для 0 правильных ответов - 0.237\n",
      "Вероятность для 1 правильных ответов - 0.396\n",
      "Вероятность для 2 правильных ответов - 0.264\n",
      "Вероятность для 3 правильных ответов - 0.088\n",
      "Вероятность для 4 правильных ответов - 0.015\n"
     ]
    }
   ],
   "source": [
    "n = 5     # количество вопросов в контрольной работе\n",
    "p = 1/4   # вероятность правильного ответа\n",
    "q = 3/4   # вероятность ошибочного ответа\n",
    "\n",
    "x_probabilities = []\n",
    "for k in range(n):\n",
    "    a = bernully(n, k, p, q)\n",
    "    print(f'Вероятность для {k} правильных ответов - ', end='' )\n",
    "    print('%.3f' % a)\n",
    "    x_probabilities.append(a)"
   ]
  },
  {
   "cell_type": "code",
   "execution_count": 6,
   "metadata": {},
   "outputs": [],
   "source": [
    "# Посчитаем математическое ожидание случайной величины"
   ]
  },
  {
   "cell_type": "code",
   "execution_count": 7,
   "metadata": {},
   "outputs": [
    {
     "name": "stdout",
     "output_type": "stream",
     "text": [
      "Математическое ожидание равно 1.25\n"
     ]
    }
   ],
   "source": [
    "x_values = np.arange(n)\n",
    "x_probabilities = np.array(x_probabilities)\n",
    "m = x_values.dot(x_probabilities)\n",
    "print(f'Математическое ожидание равно {round(m, 2)}')"
   ]
  },
  {
   "cell_type": "code",
   "execution_count": 8,
   "metadata": {},
   "outputs": [],
   "source": [
    "# Посчитаем дисперсию случайной величины"
   ]
  },
  {
   "cell_type": "code",
   "execution_count": 9,
   "metadata": {},
   "outputs": [
    {
     "name": "stdout",
     "output_type": "stream",
     "text": [
      "Дисперсия случайной величины равна 0.92\n"
     ]
    }
   ],
   "source": [
    "y_values = x_values - m\n",
    "z_values = y_values ** 2\n",
    "d = z_values.dot(x_probabilities)\n",
    "print(f'Дисперсия случайной величины равна {round(d, 2)}')"
   ]
  },
  {
   "cell_type": "markdown",
   "metadata": {},
   "source": [
    "**Задача 2**\n",
    "\n",
    "Вероятность поймать рыбу при одном забрасывании удочки равна 0.01. Какова вероятность того, что число пойманных рыб при 200 забросах удочки будет не менее 5 и не более 10?"
   ]
  },
  {
   "cell_type": "code",
   "execution_count": 10,
   "metadata": {},
   "outputs": [],
   "source": [
    "# Применим формулу распределиния дискретной случайной величины Пуанссона"
   ]
  },
  {
   "cell_type": "markdown",
   "metadata": {},
   "source": [
    "$$P(X = k) = \\dfrac{a^k e ^{-a}}{k!}$$"
   ]
  },
  {
   "cell_type": "code",
   "execution_count": 11,
   "metadata": {},
   "outputs": [],
   "source": [
    "def poisson_proba(k, a):\n",
    "    \n",
    "    return (a ** k) * (np.exp(-a)) / np.math.factorial(k)"
   ]
  },
  {
   "cell_type": "code",
   "execution_count": 12,
   "metadata": {},
   "outputs": [],
   "source": [
    "n = 200\n",
    "p = 0.01\n",
    "a = n * p"
   ]
  },
  {
   "cell_type": "code",
   "execution_count": 13,
   "metadata": {},
   "outputs": [
    {
     "name": "stdout",
     "output_type": "stream",
     "text": [
      "Вероятность того, что число пойманных рыб при 200 забросах удочки будет не менее 5 - 0.017\n"
     ]
    }
   ],
   "source": [
    "# Не менее 5\n",
    "p1 = 1 - sum(poisson_proba(k=i, a=a) for i in range(6))\n",
    "print('Вероятность того, что число пойманных рыб при 200 забросах удочки будет не менее 5 - %.3f' % p1)"
   ]
  },
  {
   "cell_type": "code",
   "execution_count": 14,
   "metadata": {},
   "outputs": [],
   "source": [
    "# Не более 10\n",
    "p2 = sum(poisson_proba(k=i, a=a) for i in range(11))"
   ]
  },
  {
   "cell_type": "code",
   "execution_count": 15,
   "metadata": {},
   "outputs": [
    {
     "name": "stdout",
     "output_type": "stream",
     "text": [
      "Вероятность того, что число пойманных рыб при 200 забросах удочки будет не более 10 - 0.999992\n"
     ]
    }
   ],
   "source": [
    "print('Вероятность того, что число пойманных рыб при 200 забросах удочки будет не более 10 - %.6f' % p2)"
   ]
  },
  {
   "cell_type": "markdown",
   "metadata": {},
   "source": [
    "**Задача 3**\n",
    "\n",
    "В условиях предыдущей задачи сколько забросов удочки нужно сделать чтобы быть уверенным с вероятностью 0.9, что хотя бы 10 раз будет поймана рыба?\n",
    "\n",
    "Подсказка. Как посчитать P(X >= k) для величины X, имеющей биномиальное распределение? Здесь предстоит немножко покодить."
   ]
  },
  {
   "cell_type": "code",
   "execution_count": 16,
   "metadata": {},
   "outputs": [],
   "source": [
    "# т.к. для решения этой задачи потребуется большое кол-во забросов удочки и вероятность поймать рыбу очень мала,\n",
    "# то применим биноминальный закон распределения и формулу Бернулли:"
   ]
  }
 ],
 "metadata": {
  "kernelspec": {
   "display_name": "Python 3",
   "language": "python",
   "name": "python3"
  },
  "language_info": {
   "codemirror_mode": {
    "name": "ipython",
    "version": 3
   },
   "file_extension": ".py",
   "mimetype": "text/x-python",
   "name": "python",
   "nbconvert_exporter": "python",
   "pygments_lexer": "ipython3",
   "version": "3.8.5"
  }
 },
 "nbformat": 4,
 "nbformat_minor": 4
}
