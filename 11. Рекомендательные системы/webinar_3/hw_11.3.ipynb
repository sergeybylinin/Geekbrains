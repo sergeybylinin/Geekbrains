{
 "cells": [
  {
   "cell_type": "markdown",
   "metadata": {
    "id": "AnG9DXhe49cH"
   },
   "source": [
    "## Теоретическая часть"
   ]
  },
  {
   "cell_type": "markdown",
   "metadata": {},
   "source": [
    "---"
   ]
  },
  {
   "cell_type": "markdown",
   "metadata": {
    "id": "RxDIQTAh49cO"
   },
   "source": [
    "1. Вспомним прошлый вебинар, мы рассматривали User-User рекомендации и Item-Item рекомендации. Чем они отличаются и чем они похожи? Если есть функция item_item_rec(interaction_matrix). Можно ли использовать эту функцию для user_user_rec?  \n",
    "В чем принципиальные отличия item-item рекомендаций от ALS?\n"
   ]
  },
  {
   "cell_type": "markdown",
   "metadata": {},
   "source": [
    "*Принципиальным отличием item-item и ALS методов является то, что item-item не является машинным обучением это алгоритм основанный на KNN, работающий в очень разреженной зашумленной матрице user-item, и поэтому работает очень медленно и ресурсозатратно, как результат он предсказывает вероятность числа из этой матрицы. В свою очередь, ALS это уже машинное обучение, и является способом оптимизации основанном на принципе минимизации среднеквадратичной ошибки на существующих рейтингах, как результат предсказывает не вероятности, а числа. Для больших данных ALS оказывается значительно быстрее в работе, чем item-item метод.*"
   ]
  },
  {
   "cell_type": "markdown",
   "metadata": {},
   "source": [
    "---"
   ]
  },
  {
   "cell_type": "markdown",
   "metadata": {
    "id": "XnuQ5DDD49cP"
   },
   "source": [
    "2. Приведите 3 примера весов (те, которых не было на вебинаре: сумма покупок, количество покупок - неинтересно) user-item матрицы для задачи рекомендаций товаров \n"
   ]
  },
  {
   "cell_type": "markdown",
   "metadata": {},
   "source": [
    "* Кол-во походов в магазин покупателя за товаром (basket_id, count)\n",
    "* Суммарный объем продаж для покупателя товара (sales_value, sum)\n",
    "* Отношение кол-ва походов в магазин покупателя за товаром (basket_id, count) к кол-ву купленных товаров (quantity, count)\n"
   ]
  },
  {
   "cell_type": "markdown",
   "metadata": {},
   "source": [
    "---"
   ]
  },
  {
   "cell_type": "markdown",
   "metadata": {
    "id": "UmKifKo649cQ"
   },
   "source": [
    "3. Какие ограничения есть у ALS? (Тип информации, линейность/нелинейность факторов и т д)\n"
   ]
  },
  {
   "cell_type": "markdown",
   "metadata": {},
   "source": [
    "* Предсказывает не вероятность, а некое число, которое определяет: чем больше число, тем более релевантен товар;\n",
    "* Не учитывается сезонность;\n",
    "* Не учитываются признаки покупателей или товаров."
   ]
  },
  {
   "cell_type": "markdown",
   "metadata": {},
   "source": [
    "---"
   ]
  },
  {
   "cell_type": "markdown",
   "metadata": {
    "id": "ZFhlzsTb49cR"
   },
   "source": [
    "## Практическая часть\n"
   ]
  },
  {
   "cell_type": "markdown",
   "metadata": {},
   "source": [
    "---"
   ]
  },
  {
   "cell_type": "code",
   "execution_count": 1,
   "metadata": {
    "id": "qI6TyXCL49cS"
   },
   "outputs": [],
   "source": [
    "import pandas as pd\n",
    "import numpy as np\n",
    "import matplotlib.pyplot as plt\n",
    "%matplotlib inline\n",
    "\n",
    "# Для работы с матрицами\n",
    "from scipy.sparse import csr_matrix\n",
    "\n",
    "# Матричная факторизация\n",
    "from implicit.als import AlternatingLeastSquares\n",
    "from implicit.nearest_neighbours import bm25_weight, tfidf_weight\n",
    "\n",
    "# Функции из 1-ого вебинара\n",
    "import os, sys\n"
   ]
  },
  {
   "cell_type": "code",
   "execution_count": 2,
   "metadata": {
    "colab": {
     "base_uri": "https://localhost:8080/",
     "height": 111
    },
    "executionInfo": {
     "elapsed": 4557,
     "status": "ok",
     "timestamp": 1634549218008,
     "user": {
      "displayName": "Николай -",
      "photoUrl": "https://lh3.googleusercontent.com/a-/AOh14GiCS90olAsBznR3WLZOaJ5ukcv2LPYBRWvHEQUZ-A=s64",
      "userId": "17372739142422056321"
     },
     "user_tz": -180
    },
    "id": "LsYDeTEC49cU",
    "outputId": "d1246437-ea35-456e-b859-cca0b9abc21f"
   },
   "outputs": [
    {
     "data": {
      "text/html": [
       "<div>\n",
       "<style scoped>\n",
       "    .dataframe tbody tr th:only-of-type {\n",
       "        vertical-align: middle;\n",
       "    }\n",
       "\n",
       "    .dataframe tbody tr th {\n",
       "        vertical-align: top;\n",
       "    }\n",
       "\n",
       "    .dataframe thead th {\n",
       "        text-align: right;\n",
       "    }\n",
       "</style>\n",
       "<table border=\"1\" class=\"dataframe\">\n",
       "  <thead>\n",
       "    <tr style=\"text-align: right;\">\n",
       "      <th></th>\n",
       "      <th>user_id</th>\n",
       "      <th>basket_id</th>\n",
       "      <th>day</th>\n",
       "      <th>item_id</th>\n",
       "      <th>quantity</th>\n",
       "      <th>sales_value</th>\n",
       "      <th>store_id</th>\n",
       "      <th>retail_disc</th>\n",
       "      <th>trans_time</th>\n",
       "      <th>week_no</th>\n",
       "      <th>coupon_disc</th>\n",
       "      <th>coupon_match_disc</th>\n",
       "    </tr>\n",
       "  </thead>\n",
       "  <tbody>\n",
       "    <tr>\n",
       "      <th>0</th>\n",
       "      <td>2375</td>\n",
       "      <td>26984851472</td>\n",
       "      <td>1</td>\n",
       "      <td>1004906</td>\n",
       "      <td>1</td>\n",
       "      <td>1.39</td>\n",
       "      <td>364</td>\n",
       "      <td>-0.6</td>\n",
       "      <td>1631</td>\n",
       "      <td>1</td>\n",
       "      <td>0.0</td>\n",
       "      <td>0.0</td>\n",
       "    </tr>\n",
       "    <tr>\n",
       "      <th>1</th>\n",
       "      <td>2375</td>\n",
       "      <td>26984851472</td>\n",
       "      <td>1</td>\n",
       "      <td>1033142</td>\n",
       "      <td>1</td>\n",
       "      <td>0.82</td>\n",
       "      <td>364</td>\n",
       "      <td>0.0</td>\n",
       "      <td>1631</td>\n",
       "      <td>1</td>\n",
       "      <td>0.0</td>\n",
       "      <td>0.0</td>\n",
       "    </tr>\n",
       "  </tbody>\n",
       "</table>\n",
       "</div>"
      ],
      "text/plain": [
       "   user_id    basket_id  day  item_id  quantity  sales_value  store_id  \\\n",
       "0     2375  26984851472    1  1004906         1         1.39       364   \n",
       "1     2375  26984851472    1  1033142         1         0.82       364   \n",
       "\n",
       "   retail_disc  trans_time  week_no  coupon_disc  coupon_match_disc  \n",
       "0         -0.6        1631        1          0.0                0.0  \n",
       "1          0.0        1631        1          0.0                0.0  "
      ]
     },
     "execution_count": 2,
     "metadata": {},
     "output_type": "execute_result"
    }
   ],
   "source": [
    "data = pd.read_csv('../webinar_2/retail_train.csv')\n",
    "\n",
    "data.columns = [col.lower() for col in data.columns]\n",
    "data.rename(\n",
    "    columns={\n",
    "        'household_key': 'user_id',\n",
    "        'product_id': 'item_id'\n",
    "    },\n",
    "    inplace=True\n",
    ")\n",
    "\n",
    "test_size_weeks = 3\n",
    "\n",
    "data_train = data[data['week_no'] < data['week_no'].max() - test_size_weeks]\n",
    "data_test = data[data['week_no'] >= data['week_no'].max() - test_size_weeks]\n",
    "\n",
    "data_train.head(2)"
   ]
  },
  {
   "cell_type": "code",
   "execution_count": 3,
   "metadata": {},
   "outputs": [
    {
     "name": "stdout",
     "output_type": "stream",
     "text": [
      "user_id\n",
      "basket_id\n",
      "day\n",
      "item_id\n",
      "quantity\n",
      "sales_value\n",
      "store_id\n",
      "retail_disc\n",
      "trans_time\n",
      "week_no\n",
      "coupon_disc\n",
      "coupon_match_disc\n"
     ]
    }
   ],
   "source": [
    "print('\\n'.join(data_train.columns.tolist()))"
   ]
  },
  {
   "cell_type": "code",
   "execution_count": 4,
   "metadata": {
    "colab": {
     "base_uri": "https://localhost:8080/"
    },
    "executionInfo": {
     "elapsed": 436,
     "status": "ok",
     "timestamp": 1634549218436,
     "user": {
      "displayName": "Николай -",
      "photoUrl": "https://lh3.googleusercontent.com/a-/AOh14GiCS90olAsBznR3WLZOaJ5ukcv2LPYBRWvHEQUZ-A=s64",
      "userId": "17372739142422056321"
     },
     "user_tz": -180
    },
    "id": "EtukvUpC49cX",
    "outputId": "20ccbc7e-2d61-4c32-b804-9c15d6c1bdc7"
   },
   "outputs": [
    {
     "name": "stderr",
     "output_type": "stream",
     "text": [
      "/home/sergey/anaconda3/lib/python3.7/site-packages/pandas/core/indexing.py:965: SettingWithCopyWarning: \n",
      "A value is trying to be set on a copy of a slice from a DataFrame.\n",
      "Try using .loc[row_indexer,col_indexer] = value instead\n",
      "\n",
      "See the caveats in the documentation: https://pandas.pydata.org/pandas-docs/stable/user_guide/indexing.html#returning-a-view-versus-a-copy\n",
      "  self.obj[item] = s\n"
     ]
    }
   ],
   "source": [
    "popularity = data_train\\\n",
    "    .groupby('item_id', as_index=False)\\\n",
    "    ['quantity'].sum()\\\n",
    "    .rename(columns={'quantity': 'n_sold'})\n",
    "\n",
    "k=5000\n",
    "\n",
    "top_k = popularity\\\n",
    "    .sort_values('n_sold', ascending=False)\\\n",
    "    .head(k)\\\n",
    "    .item_id\\\n",
    "    .tolist()\n",
    "\n",
    "# Заведем фиктивный item_id (если юзер покупал товары из топ-5000, \n",
    "# то он \"купил\" такой товар)\n",
    "\n",
    "data_train.loc[\n",
    "    ~data_train['item_id'].isin(top_k), \n",
    "    'item_id'\n",
    "] = 999999"
   ]
  },
  {
   "cell_type": "markdown",
   "metadata": {
    "id": "wk05OovH49cY"
   },
   "source": [
    "### Подбор матрицы $c_{ui}$\n",
    "Попробуйте различные варианты матрицы весов (3+ вариантов). Обучите алгоритм для различных $C$. В качестве результата приведите таблицу: матрица весов - результат на train и validation.\n",
    "Сделате качественные выводы.\n"
   ]
  },
  {
   "cell_type": "code",
   "execution_count": 5,
   "metadata": {},
   "outputs": [
    {
     "data": {
      "text/html": [
       "<div>\n",
       "<style scoped>\n",
       "    .dataframe tbody tr th:only-of-type {\n",
       "        vertical-align: middle;\n",
       "    }\n",
       "\n",
       "    .dataframe tbody tr th {\n",
       "        vertical-align: top;\n",
       "    }\n",
       "\n",
       "    .dataframe thead th {\n",
       "        text-align: right;\n",
       "    }\n",
       "</style>\n",
       "<table border=\"1\" class=\"dataframe\">\n",
       "  <thead>\n",
       "    <tr style=\"text-align: right;\">\n",
       "      <th></th>\n",
       "      <th>user_id</th>\n",
       "      <th>n_item</th>\n",
       "      <th>actual</th>\n",
       "    </tr>\n",
       "  </thead>\n",
       "  <tbody>\n",
       "    <tr>\n",
       "      <th>0</th>\n",
       "      <td>1</td>\n",
       "      <td>235</td>\n",
       "      <td>[999999, 840361, 845307, 852014, 856942, 91267...</td>\n",
       "    </tr>\n",
       "    <tr>\n",
       "      <th>1</th>\n",
       "      <td>2</td>\n",
       "      <td>280</td>\n",
       "      <td>[854852, 930118, 1077555, 1098066, 999999, 556...</td>\n",
       "    </tr>\n",
       "    <tr>\n",
       "      <th>2</th>\n",
       "      <td>3</td>\n",
       "      <td>352</td>\n",
       "      <td>[866211, 878996, 882830, 904360, 921345, 99999...</td>\n",
       "    </tr>\n",
       "  </tbody>\n",
       "</table>\n",
       "</div>"
      ],
      "text/plain": [
       "   user_id  n_item                                             actual\n",
       "0        1     235  [999999, 840361, 845307, 852014, 856942, 91267...\n",
       "1        2     280  [854852, 930118, 1077555, 1098066, 999999, 556...\n",
       "2        3     352  [866211, 878996, 882830, 904360, 921345, 99999..."
      ]
     },
     "execution_count": 5,
     "metadata": {},
     "output_type": "execute_result"
    }
   ],
   "source": [
    "result_train = data_train.groupby('user_id')['item_id'].unique().reset_index()\n",
    "result_train.columns = ['user_id', 'actual']\n",
    "result_train['n_item'] = result_train.actual.apply(len)\n",
    "result_train = result_train[['user_id', 'n_item', 'actual']]\n",
    "result_train.head(3)"
   ]
  },
  {
   "cell_type": "code",
   "execution_count": 6,
   "metadata": {},
   "outputs": [
    {
     "data": {
      "text/html": [
       "<div>\n",
       "<style scoped>\n",
       "    .dataframe tbody tr th:only-of-type {\n",
       "        vertical-align: middle;\n",
       "    }\n",
       "\n",
       "    .dataframe tbody tr th {\n",
       "        vertical-align: top;\n",
       "    }\n",
       "\n",
       "    .dataframe thead th {\n",
       "        text-align: right;\n",
       "    }\n",
       "</style>\n",
       "<table border=\"1\" class=\"dataframe\">\n",
       "  <thead>\n",
       "    <tr style=\"text-align: right;\">\n",
       "      <th></th>\n",
       "      <th>user_id</th>\n",
       "      <th>n_item</th>\n",
       "      <th>actual</th>\n",
       "    </tr>\n",
       "  </thead>\n",
       "  <tbody>\n",
       "    <tr>\n",
       "      <th>0</th>\n",
       "      <td>1</td>\n",
       "      <td>72</td>\n",
       "      <td>[821867, 834484, 856942, 865456, 889248, 90795...</td>\n",
       "    </tr>\n",
       "    <tr>\n",
       "      <th>1</th>\n",
       "      <td>3</td>\n",
       "      <td>19</td>\n",
       "      <td>[835476, 851057, 872021, 878302, 879948, 90963...</td>\n",
       "    </tr>\n",
       "    <tr>\n",
       "      <th>2</th>\n",
       "      <td>6</td>\n",
       "      <td>62</td>\n",
       "      <td>[920308, 926804, 946489, 1006718, 1017061, 107...</td>\n",
       "    </tr>\n",
       "  </tbody>\n",
       "</table>\n",
       "</div>"
      ],
      "text/plain": [
       "   user_id  n_item                                             actual\n",
       "0        1      72  [821867, 834484, 856942, 865456, 889248, 90795...\n",
       "1        3      19  [835476, 851057, 872021, 878302, 879948, 90963...\n",
       "2        6      62  [920308, 926804, 946489, 1006718, 1017061, 107..."
      ]
     },
     "execution_count": 6,
     "metadata": {},
     "output_type": "execute_result"
    }
   ],
   "source": [
    "result_test = data_test.groupby('user_id')['item_id'].unique().reset_index()\n",
    "result_test.columns = ['user_id', 'actual']\n",
    "result_test['n_item'] = result_test.actual.apply(len)\n",
    "result_test = result_test[['user_id', 'n_item', 'actual']]\n",
    "result_test.head(3)"
   ]
  },
  {
   "cell_type": "code",
   "execution_count": 7,
   "metadata": {},
   "outputs": [],
   "source": [
    "# Кол-во походов в магазин покупателя за товаром\n",
    "user_item_matrix_1 = pd.pivot_table(\n",
    "    data_train, \n",
    "    index='user_id', columns='item_id', \n",
    "    values='basket_id',\n",
    "    aggfunc='count', \n",
    "    fill_value=0\n",
    ")\n",
    "\n",
    "# Суммарный объем продаж для покупателя товара\n",
    "user_item_matrix_2 = pd.pivot_table(\n",
    "    data_train, \n",
    "    index='user_id', columns='item_id', \n",
    "    values='sales_value',\n",
    "    aggfunc='sum', \n",
    "    fill_value=0\n",
    ")\n",
    "\n",
    "# Отношение кол-ва походов в магазин покупателя за товаром \n",
    "# к кол-ву купленных товаров\n",
    "pvt = pd.pivot_table(\n",
    "    data_train, \n",
    "    index='user_id', columns='item_id', \n",
    "    values=['basket_id', 'quantity'],\n",
    "    aggfunc={\n",
    "        'basket_id': 'count',\n",
    "        'quantity': 'count'\n",
    "    },\n",
    "    fill_value=0\n",
    ")\n",
    "\n",
    "user_item_matrix_3 = pvt.basket_id / pvt.quantity\n",
    "user_item_matrix_3.fillna(0, inplace=True)"
   ]
  },
  {
   "cell_type": "code",
   "execution_count": 8,
   "metadata": {},
   "outputs": [],
   "source": [
    "def get_recommendations(user, model, N=5):\n",
    "    result = [id_to_itemid[rec[0]] for rec in\n",
    "              model.recommend(\n",
    "                  userid=userid_to_id[user],\n",
    "                  user_items=sparse_user_item,\n",
    "                  N=N,\n",
    "                  filter_already_liked_items=False,\n",
    "                  filter_items=[itemid_to_id[999999]],\n",
    "                  recalculate_user=True\n",
    "              )]\n",
    "    return result"
   ]
  },
  {
   "cell_type": "code",
   "execution_count": 9,
   "metadata": {},
   "outputs": [
    {
     "name": "stderr",
     "output_type": "stream",
     "text": [
      "WARNING:root:Intel MKL BLAS detected. Its highly recommend to set the environment variable 'export MKL_NUM_THREADS=1' to disable its internal multithreading\n"
     ]
    },
    {
     "data": {
      "application/vnd.jupyter.widget-view+json": {
       "model_id": "ddb5e60c1b184491af168243b0cc250e",
       "version_major": 2,
       "version_minor": 0
      },
      "text/plain": [
       "HBox(children=(FloatProgress(value=0.0, max=15.0), HTML(value='')))"
      ]
     },
     "metadata": {},
     "output_type": "display_data"
    },
    {
     "name": "stdout",
     "output_type": "stream",
     "text": [
      "\n"
     ]
    },
    {
     "data": {
      "application/vnd.jupyter.widget-view+json": {
       "model_id": "6af2dc488cda404bac45f190d1d5e21c",
       "version_major": 2,
       "version_minor": 0
      },
      "text/plain": [
       "HBox(children=(FloatProgress(value=0.0, max=15.0), HTML(value='')))"
      ]
     },
     "metadata": {},
     "output_type": "display_data"
    },
    {
     "name": "stdout",
     "output_type": "stream",
     "text": [
      "\n"
     ]
    },
    {
     "data": {
      "application/vnd.jupyter.widget-view+json": {
       "model_id": "537bc085b4f94a8388b3c1f05e3082a9",
       "version_major": 2,
       "version_minor": 0
      },
      "text/plain": [
       "HBox(children=(FloatProgress(value=0.0, max=15.0), HTML(value='')))"
      ]
     },
     "metadata": {},
     "output_type": "display_data"
    },
    {
     "name": "stdout",
     "output_type": "stream",
     "text": [
      "\n"
     ]
    }
   ],
   "source": [
    "user_item_matrixs = [\n",
    "    user_item_matrix_1, \n",
    "    user_item_matrix_2, \n",
    "    user_item_matrix_3\n",
    "]\n",
    "\n",
    "for i, user_item_matrix in enumerate(user_item_matrixs, 1):\n",
    "    \n",
    "    user_item_matrix = user_item_matrix.astype(float)\n",
    "    \n",
    "    sparse_user_item = csr_matrix(user_item_matrix).tocsr()\n",
    "    \n",
    "    userids = user_item_matrix.index.values\n",
    "    itemids = user_item_matrix.columns.values\n",
    "\n",
    "    matrix_userids = np.arange(len(userids))\n",
    "    matrix_itemids = np.arange(len(itemids))\n",
    "\n",
    "    id_to_itemid = dict(zip(matrix_itemids, itemids))\n",
    "    id_to_userid = dict(zip(matrix_userids, userids))\n",
    "\n",
    "    itemid_to_id = dict(zip(itemids, matrix_itemids))\n",
    "    userid_to_id = dict(zip(userids, matrix_userids))\n",
    "\n",
    "    model = AlternatingLeastSquares(\n",
    "        factors=44, \n",
    "        regularization=0.001,\n",
    "        iterations=15, \n",
    "        calculate_training_loss=True, \n",
    "        use_gpu=False)\n",
    "\n",
    "    model.fit(\n",
    "        csr_matrix(user_item_matrix).T.tocsr(),\n",
    "        show_progress=True\n",
    "    )    \n",
    "    \n",
    "    result_train[f'als_{i}'] = result_train['user_id']\\\n",
    "        .apply(lambda x: get_recommendations(x, model=model, N=5))\n",
    "    \n",
    "    result_test[f'als_{i}'] = result_test['user_id']\\\n",
    "        .apply(lambda x: get_recommendations(x, model=model, N=5))"
   ]
  },
  {
   "cell_type": "code",
   "execution_count": 10,
   "metadata": {},
   "outputs": [],
   "source": [
    "def precision_at_k(recommended_list, bought_list, k=5):\n",
    "    \n",
    "    bought_list = np.array(bought_list)\n",
    "    recommended_list = np.array(recommended_list)\n",
    "    \n",
    "    bought_list = bought_list  # Тут нет [:k] !!\n",
    "    recommended_list = recommended_list[:k]\n",
    "    \n",
    "    flags = np.isin(bought_list, recommended_list)\n",
    "    \n",
    "    precision = flags.sum() / len(recommended_list)\n",
    "    \n",
    "    \n",
    "    return precision"
   ]
  },
  {
   "cell_type": "code",
   "execution_count": 11,
   "metadata": {},
   "outputs": [],
   "source": [
    "def precision_model(result):\n",
    "    dict_precision_at_k = {\n",
    "        col: round(result.apply(\n",
    "        lambda row: precision_at_k(row[col], row['actual']), \n",
    "        axis=1).mean(), 4) for col in result.columns[3:].tolist()\n",
    "    }\n",
    "\n",
    "    df = pd.DataFrame(\n",
    "        pd.Series(dict_precision_at_k), \n",
    "        columns=['precision_at_k']\n",
    "    )\n",
    "\n",
    "    print(df)\n",
    "    print()\n",
    "    print(f'Вывод:\\nЛучшая модель {df.precision_at_k.sort_values(ascending=False).index[0]}')"
   ]
  },
  {
   "cell_type": "code",
   "execution_count": 12,
   "metadata": {},
   "outputs": [
    {
     "name": "stdout",
     "output_type": "stream",
     "text": [
      "       precision_at_k\n",
      "als_1          0.7046\n",
      "als_2          0.5684\n",
      "als_3          0.8463\n",
      "\n",
      "Вывод:\n",
      "Лучшая модель als_3\n"
     ]
    }
   ],
   "source": [
    "precision_model(result_train)"
   ]
  },
  {
   "cell_type": "code",
   "execution_count": 13,
   "metadata": {},
   "outputs": [
    {
     "name": "stdout",
     "output_type": "stream",
     "text": [
      "       precision_at_k\n",
      "als_1          0.1838\n",
      "als_2          0.1168\n",
      "als_3          0.2141\n",
      "\n",
      "Вывод:\n",
      "Лучшая модель als_3\n"
     ]
    }
   ],
   "source": [
    "precision_model(result_test)"
   ]
  },
  {
   "cell_type": "markdown",
   "metadata": {},
   "source": [
    "Вывод:\n",
    "* Лучшую метрику показала модель №3.\n",
    "\n",
    "Веса в user-item матрице заданы как отношение кол-ва походов в магазин покупателя за товаром к кол-ву купленных товаров"
   ]
  },
  {
   "cell_type": "markdown",
   "metadata": {
    "id": "PHer9wto49cZ"
   },
   "source": [
    "### Оптимизация гипперпараметров\n",
    "Для лучшей матрицы весов из первого задания подберите оптимальные $\\lambda$ и n_factors. Подбор можно делать вручную (цикл в цикле, аналог sklearn.GridSearch, или случайно - sklearn.RandomSearch). Или Вы можете воспользоваться библиотеками для автоматического подбора гипперпараметров (любые на Ваш вкус). В качестве результата постройте графики:\n",
    "1. Значение параметра - время обучения \n",
    "2. Значение параметра - качество train, качество validation  \n",
    "\n",
    "Сделайте качественные выводы"
   ]
  },
  {
   "cell_type": "code",
   "execution_count": 14,
   "metadata": {},
   "outputs": [],
   "source": [
    "user_item_matrix = pd.pivot_table(\n",
    "    data_train, \n",
    "    index='user_id', columns='item_id', \n",
    "    values=['basket_id', 'quantity'],\n",
    "    aggfunc={\n",
    "        'basket_id': 'count',\n",
    "        'quantity': 'count'\n",
    "    },\n",
    "    fill_value=0\n",
    ")\n",
    "\n",
    "user_item_matrix = user_item_matrix.basket_id / user_item_matrix.quantity\n",
    "user_item_matrix.fillna(0, inplace=True)\n",
    "\n",
    "user_item_matrix = user_item_matrix.astype(float)\n",
    "    \n",
    "sparse_user_item = csr_matrix(user_item_matrix).tocsr()\n",
    "\n",
    "userids = user_item_matrix.index.values\n",
    "itemids = user_item_matrix.columns.values\n",
    "\n",
    "matrix_userids = np.arange(len(userids))\n",
    "matrix_itemids = np.arange(len(itemids))\n",
    "\n",
    "id_to_itemid = dict(zip(matrix_itemids, itemids))\n",
    "id_to_userid = dict(zip(matrix_userids, userids))\n",
    "\n",
    "itemid_to_id = dict(zip(itemids, matrix_itemids))\n",
    "userid_to_id = dict(zip(userids, matrix_userids))"
   ]
  },
  {
   "cell_type": "code",
   "execution_count": null,
   "metadata": {},
   "outputs": [],
   "source": [
    "from sklearn.model_selection import RandomizedSearchCV"
   ]
  },
  {
   "cell_type": "code",
   "execution_count": null,
   "metadata": {},
   "outputs": [],
   "source": [
    "params_model = {\n",
    "    'factors': [50, 100, 300],\n",
    "    'regularization': [0.001, 0.0015, 0.002],\n",
    "    'iterations': [15, 30, 45],\n",
    "    'calculate_training_loss': [True],\n",
    "    'use_gpu': [False]\n",
    "}\n",
    "\n",
    "rand_search_model = RandomizedSearchCV(\n",
    "    AlternatingLeastSquares(),\n",
    "    param_distributions=params_model,\n",
    "    n_iter=15,\n",
    "    cv=6,\n",
    "    refit=False\n",
    ")\n",
    "\n",
    "search_model = rand_search_model.fit(\n",
    "    csr_matrix(user_item_matrix).T.tocsr(),\n",
    "    show_progress=True\n",
    ")\n",
    "\n",
    "params = search_model.best_params_\n",
    "params\n",
    "\n",
    "# Пишет, что у модели ALS нет score_a ???"
   ]
  },
  {
   "cell_type": "code",
   "execution_count": 15,
   "metadata": {
    "colab": {
     "base_uri": "https://localhost:8080/",
     "height": 180
    },
    "executionInfo": {
     "elapsed": 298,
     "status": "error",
     "timestamp": 1634549219073,
     "user": {
      "displayName": "Николай -",
      "photoUrl": "https://lh3.googleusercontent.com/a-/AOh14GiCS90olAsBznR3WLZOaJ5ukcv2LPYBRWvHEQUZ-A=s64",
      "userId": "17372739142422056321"
     },
     "user_tz": -180
    },
    "id": "tPE1gwHW49ca",
    "outputId": "56427b96-6966-4763-cd0a-92dec024ee33"
   },
   "outputs": [
    {
     "name": "stdout",
     "output_type": "stream",
     "text": [
      "27, 26, 25, 24, 23, 22, 21, 20, 19, 18, 17, 16, 15, 14, 13, 12, 11, 10, 9, 8, 7, 6, 5, 4, 3, 2, 1, "
     ]
    }
   ],
   "source": [
    "max_precision = 0\n",
    "\n",
    "factors_list = [50, 100, 300]\n",
    "regularization_list = [0.001, 0.002, 0.006]\n",
    "iterations_list = [15, 30, 90]\n",
    "\n",
    "sp = []\n",
    "\n",
    "k = len(factors_list) * len(regularization_list) * len(iterations_list)\n",
    "\n",
    "for factors in factors_list:\n",
    "    for regularization in regularization_list:\n",
    "        for iterations in iterations_list:\n",
    "            \n",
    "            model = AlternatingLeastSquares(\n",
    "                factors=factors, \n",
    "                regularization=regularization,\n",
    "                iterations=iterations, \n",
    "                calculate_training_loss=True, \n",
    "                use_gpu=False\n",
    "            )\n",
    "            \n",
    "            model.fit(\n",
    "                csr_matrix(user_item_matrix).T.tocsr(),\n",
    "                show_progress=False\n",
    "            )\n",
    "            \n",
    "            result_test['als'] = result_test['user_id'].apply(\n",
    "                lambda x: get_recommendations(x, model=model, N=5)\n",
    "            )\n",
    "            \n",
    "            precision = result_test.apply(\n",
    "                lambda row: precision_at_k(\n",
    "                    row['als'], \n",
    "                    row['actual']\n",
    "                ), \n",
    "                axis=1\n",
    "            ).mean()\n",
    "            \n",
    "            \n",
    "            sp.append([round(precision, 4), model.factors, \n",
    "                       model.regularization, model.iterations])\n",
    "            \n",
    "            if precision > max_precision:\n",
    "                \n",
    "                max_precision = precision\n",
    "                \n",
    "                best_factors = factors\n",
    "                best_regularization = regularization\n",
    "                best_iterations = iterations\n",
    "            \n",
    "            print(k, end=', ')\n",
    "            k-=1\n",
    "            \n",
    "best_params = {\n",
    "    'factors': best_factors,\n",
    "    'regularization': best_regularization, \n",
    "    'iterations': best_iterations\n",
    "}"
   ]
  },
  {
   "cell_type": "code",
   "execution_count": 16,
   "metadata": {},
   "outputs": [
    {
     "name": "stdout",
     "output_type": "stream",
     "text": [
      "  Максимальное значение метрики precision_at_k достигается при следующих параметрах:\n",
      "\n",
      "factors:\t       50\n",
      "regularization:\t    0.006\n",
      "iterations:\t       15\n",
      "\n",
      "  И имееет значение:\n",
      "\n",
      "max_precision_@k = 0.2175\n"
     ]
    }
   ],
   "source": [
    "print('  Максимальное значение метрики precision_at_k достигается при следующих параметрах:\\n')\n",
    "for i, j in best_params.items(): print(f'{i}:\\t{j:>9}')\n",
    "print(f'\\n  И имееет значение:\\n\\nmax_precision_@k = {round(max_precision, 4)}')"
   ]
  },
  {
   "cell_type": "markdown",
   "metadata": {
    "id": "sKevvD1349cb"
   },
   "source": [
    "**P.S.** Не пишите отписки в качестве выводов. Мне интресены Ваши рассуждения, трудности, с которыми Вы сталкнулись и что-то, что Вас удивило. Если выводы контринтуитивны - напишите об этом, в этом нет ничего страшного!"
   ]
  },
  {
   "cell_type": "code",
   "execution_count": 17,
   "metadata": {},
   "outputs": [
    {
     "data": {
      "text/html": [
       "<div>\n",
       "<style scoped>\n",
       "    .dataframe tbody tr th:only-of-type {\n",
       "        vertical-align: middle;\n",
       "    }\n",
       "\n",
       "    .dataframe tbody tr th {\n",
       "        vertical-align: top;\n",
       "    }\n",
       "\n",
       "    .dataframe thead th {\n",
       "        text-align: right;\n",
       "    }\n",
       "</style>\n",
       "<table border=\"1\" class=\"dataframe\">\n",
       "  <thead>\n",
       "    <tr style=\"text-align: right;\">\n",
       "      <th></th>\n",
       "      <th>precision</th>\n",
       "      <th>factors</th>\n",
       "      <th>regularization</th>\n",
       "      <th>iterations</th>\n",
       "    </tr>\n",
       "  </thead>\n",
       "  <tbody>\n",
       "    <tr>\n",
       "      <th>0</th>\n",
       "      <td>0.2130</td>\n",
       "      <td>50</td>\n",
       "      <td>0.001</td>\n",
       "      <td>15</td>\n",
       "    </tr>\n",
       "    <tr>\n",
       "      <th>1</th>\n",
       "      <td>0.2085</td>\n",
       "      <td>50</td>\n",
       "      <td>0.001</td>\n",
       "      <td>30</td>\n",
       "    </tr>\n",
       "    <tr>\n",
       "      <th>2</th>\n",
       "      <td>0.2151</td>\n",
       "      <td>50</td>\n",
       "      <td>0.001</td>\n",
       "      <td>90</td>\n",
       "    </tr>\n",
       "    <tr>\n",
       "      <th>3</th>\n",
       "      <td>0.2148</td>\n",
       "      <td>50</td>\n",
       "      <td>0.002</td>\n",
       "      <td>15</td>\n",
       "    </tr>\n",
       "    <tr>\n",
       "      <th>4</th>\n",
       "      <td>0.2119</td>\n",
       "      <td>50</td>\n",
       "      <td>0.002</td>\n",
       "      <td>30</td>\n",
       "    </tr>\n",
       "    <tr>\n",
       "      <th>5</th>\n",
       "      <td>0.2122</td>\n",
       "      <td>50</td>\n",
       "      <td>0.002</td>\n",
       "      <td>90</td>\n",
       "    </tr>\n",
       "    <tr>\n",
       "      <th>6</th>\n",
       "      <td>0.2175</td>\n",
       "      <td>50</td>\n",
       "      <td>0.006</td>\n",
       "      <td>15</td>\n",
       "    </tr>\n",
       "    <tr>\n",
       "      <th>7</th>\n",
       "      <td>0.2087</td>\n",
       "      <td>50</td>\n",
       "      <td>0.006</td>\n",
       "      <td>30</td>\n",
       "    </tr>\n",
       "    <tr>\n",
       "      <th>8</th>\n",
       "      <td>0.2136</td>\n",
       "      <td>50</td>\n",
       "      <td>0.006</td>\n",
       "      <td>90</td>\n",
       "    </tr>\n",
       "    <tr>\n",
       "      <th>9</th>\n",
       "      <td>0.2058</td>\n",
       "      <td>100</td>\n",
       "      <td>0.001</td>\n",
       "      <td>15</td>\n",
       "    </tr>\n",
       "    <tr>\n",
       "      <th>10</th>\n",
       "      <td>0.2030</td>\n",
       "      <td>100</td>\n",
       "      <td>0.001</td>\n",
       "      <td>30</td>\n",
       "    </tr>\n",
       "    <tr>\n",
       "      <th>11</th>\n",
       "      <td>0.2037</td>\n",
       "      <td>100</td>\n",
       "      <td>0.001</td>\n",
       "      <td>90</td>\n",
       "    </tr>\n",
       "    <tr>\n",
       "      <th>12</th>\n",
       "      <td>0.2016</td>\n",
       "      <td>100</td>\n",
       "      <td>0.002</td>\n",
       "      <td>15</td>\n",
       "    </tr>\n",
       "    <tr>\n",
       "      <th>13</th>\n",
       "      <td>0.2046</td>\n",
       "      <td>100</td>\n",
       "      <td>0.002</td>\n",
       "      <td>30</td>\n",
       "    </tr>\n",
       "    <tr>\n",
       "      <th>14</th>\n",
       "      <td>0.2029</td>\n",
       "      <td>100</td>\n",
       "      <td>0.002</td>\n",
       "      <td>90</td>\n",
       "    </tr>\n",
       "    <tr>\n",
       "      <th>15</th>\n",
       "      <td>0.2037</td>\n",
       "      <td>100</td>\n",
       "      <td>0.006</td>\n",
       "      <td>15</td>\n",
       "    </tr>\n",
       "    <tr>\n",
       "      <th>16</th>\n",
       "      <td>0.2008</td>\n",
       "      <td>100</td>\n",
       "      <td>0.006</td>\n",
       "      <td>30</td>\n",
       "    </tr>\n",
       "    <tr>\n",
       "      <th>17</th>\n",
       "      <td>0.2033</td>\n",
       "      <td>100</td>\n",
       "      <td>0.006</td>\n",
       "      <td>90</td>\n",
       "    </tr>\n",
       "    <tr>\n",
       "      <th>18</th>\n",
       "      <td>0.1673</td>\n",
       "      <td>300</td>\n",
       "      <td>0.001</td>\n",
       "      <td>15</td>\n",
       "    </tr>\n",
       "    <tr>\n",
       "      <th>19</th>\n",
       "      <td>0.1667</td>\n",
       "      <td>300</td>\n",
       "      <td>0.001</td>\n",
       "      <td>30</td>\n",
       "    </tr>\n",
       "    <tr>\n",
       "      <th>20</th>\n",
       "      <td>0.1672</td>\n",
       "      <td>300</td>\n",
       "      <td>0.001</td>\n",
       "      <td>90</td>\n",
       "    </tr>\n",
       "    <tr>\n",
       "      <th>21</th>\n",
       "      <td>0.1624</td>\n",
       "      <td>300</td>\n",
       "      <td>0.002</td>\n",
       "      <td>15</td>\n",
       "    </tr>\n",
       "    <tr>\n",
       "      <th>22</th>\n",
       "      <td>0.1655</td>\n",
       "      <td>300</td>\n",
       "      <td>0.002</td>\n",
       "      <td>30</td>\n",
       "    </tr>\n",
       "    <tr>\n",
       "      <th>23</th>\n",
       "      <td>0.1632</td>\n",
       "      <td>300</td>\n",
       "      <td>0.002</td>\n",
       "      <td>90</td>\n",
       "    </tr>\n",
       "    <tr>\n",
       "      <th>24</th>\n",
       "      <td>0.1692</td>\n",
       "      <td>300</td>\n",
       "      <td>0.006</td>\n",
       "      <td>15</td>\n",
       "    </tr>\n",
       "    <tr>\n",
       "      <th>25</th>\n",
       "      <td>0.1657</td>\n",
       "      <td>300</td>\n",
       "      <td>0.006</td>\n",
       "      <td>30</td>\n",
       "    </tr>\n",
       "    <tr>\n",
       "      <th>26</th>\n",
       "      <td>0.1647</td>\n",
       "      <td>300</td>\n",
       "      <td>0.006</td>\n",
       "      <td>90</td>\n",
       "    </tr>\n",
       "  </tbody>\n",
       "</table>\n",
       "</div>"
      ],
      "text/plain": [
       "    precision  factors  regularization  iterations\n",
       "0      0.2130       50           0.001          15\n",
       "1      0.2085       50           0.001          30\n",
       "2      0.2151       50           0.001          90\n",
       "3      0.2148       50           0.002          15\n",
       "4      0.2119       50           0.002          30\n",
       "5      0.2122       50           0.002          90\n",
       "6      0.2175       50           0.006          15\n",
       "7      0.2087       50           0.006          30\n",
       "8      0.2136       50           0.006          90\n",
       "9      0.2058      100           0.001          15\n",
       "10     0.2030      100           0.001          30\n",
       "11     0.2037      100           0.001          90\n",
       "12     0.2016      100           0.002          15\n",
       "13     0.2046      100           0.002          30\n",
       "14     0.2029      100           0.002          90\n",
       "15     0.2037      100           0.006          15\n",
       "16     0.2008      100           0.006          30\n",
       "17     0.2033      100           0.006          90\n",
       "18     0.1673      300           0.001          15\n",
       "19     0.1667      300           0.001          30\n",
       "20     0.1672      300           0.001          90\n",
       "21     0.1624      300           0.002          15\n",
       "22     0.1655      300           0.002          30\n",
       "23     0.1632      300           0.002          90\n",
       "24     0.1692      300           0.006          15\n",
       "25     0.1657      300           0.006          30\n",
       "26     0.1647      300           0.006          90"
      ]
     },
     "execution_count": 17,
     "metadata": {},
     "output_type": "execute_result"
    }
   ],
   "source": [
    "df = pd.DataFrame(sp,columns=['precision', 'factors', \n",
    "                                'regularization', 'iterations'])\n",
    "df"
   ]
  },
  {
   "cell_type": "code",
   "execution_count": 18,
   "metadata": {},
   "outputs": [
    {
     "data": {
      "text/html": [
       "<div>\n",
       "<style scoped>\n",
       "    .dataframe tbody tr th:only-of-type {\n",
       "        vertical-align: middle;\n",
       "    }\n",
       "\n",
       "    .dataframe tbody tr th {\n",
       "        vertical-align: top;\n",
       "    }\n",
       "\n",
       "    .dataframe thead th {\n",
       "        text-align: right;\n",
       "    }\n",
       "</style>\n",
       "<table border=\"1\" class=\"dataframe\">\n",
       "  <thead>\n",
       "    <tr style=\"text-align: right;\">\n",
       "      <th></th>\n",
       "      <th>precision</th>\n",
       "    </tr>\n",
       "    <tr>\n",
       "      <th>factors</th>\n",
       "      <th></th>\n",
       "    </tr>\n",
       "  </thead>\n",
       "  <tbody>\n",
       "    <tr>\n",
       "      <th>50</th>\n",
       "      <td>0.212811</td>\n",
       "    </tr>\n",
       "    <tr>\n",
       "      <th>100</th>\n",
       "      <td>0.203267</td>\n",
       "    </tr>\n",
       "    <tr>\n",
       "      <th>300</th>\n",
       "      <td>0.165767</td>\n",
       "    </tr>\n",
       "  </tbody>\n",
       "</table>\n",
       "</div>"
      ],
      "text/plain": [
       "         precision\n",
       "factors           \n",
       "50        0.212811\n",
       "100       0.203267\n",
       "300       0.165767"
      ]
     },
     "execution_count": 18,
     "metadata": {},
     "output_type": "execute_result"
    }
   ],
   "source": [
    "pd.DataFrame(df.groupby('factors')['precision'].mean())"
   ]
  },
  {
   "cell_type": "code",
   "execution_count": 19,
   "metadata": {},
   "outputs": [
    {
     "data": {
      "text/html": [
       "<div>\n",
       "<style scoped>\n",
       "    .dataframe tbody tr th:only-of-type {\n",
       "        vertical-align: middle;\n",
       "    }\n",
       "\n",
       "    .dataframe tbody tr th {\n",
       "        vertical-align: top;\n",
       "    }\n",
       "\n",
       "    .dataframe thead th {\n",
       "        text-align: right;\n",
       "    }\n",
       "</style>\n",
       "<table border=\"1\" class=\"dataframe\">\n",
       "  <thead>\n",
       "    <tr style=\"text-align: right;\">\n",
       "      <th></th>\n",
       "      <th>precision</th>\n",
       "    </tr>\n",
       "    <tr>\n",
       "      <th>regularization</th>\n",
       "      <th></th>\n",
       "    </tr>\n",
       "  </thead>\n",
       "  <tbody>\n",
       "    <tr>\n",
       "      <th>0.001</th>\n",
       "      <td>0.194478</td>\n",
       "    </tr>\n",
       "    <tr>\n",
       "      <th>0.002</th>\n",
       "      <td>0.193233</td>\n",
       "    </tr>\n",
       "    <tr>\n",
       "      <th>0.006</th>\n",
       "      <td>0.194133</td>\n",
       "    </tr>\n",
       "  </tbody>\n",
       "</table>\n",
       "</div>"
      ],
      "text/plain": [
       "                precision\n",
       "regularization           \n",
       "0.001            0.194478\n",
       "0.002            0.193233\n",
       "0.006            0.194133"
      ]
     },
     "execution_count": 19,
     "metadata": {},
     "output_type": "execute_result"
    }
   ],
   "source": [
    "pd.DataFrame(df.groupby('regularization')['precision'].mean())"
   ]
  },
  {
   "cell_type": "code",
   "execution_count": 20,
   "metadata": {},
   "outputs": [
    {
     "data": {
      "text/html": [
       "<div>\n",
       "<style scoped>\n",
       "    .dataframe tbody tr th:only-of-type {\n",
       "        vertical-align: middle;\n",
       "    }\n",
       "\n",
       "    .dataframe tbody tr th {\n",
       "        vertical-align: top;\n",
       "    }\n",
       "\n",
       "    .dataframe thead th {\n",
       "        text-align: right;\n",
       "    }\n",
       "</style>\n",
       "<table border=\"1\" class=\"dataframe\">\n",
       "  <thead>\n",
       "    <tr style=\"text-align: right;\">\n",
       "      <th></th>\n",
       "      <th>precision</th>\n",
       "    </tr>\n",
       "    <tr>\n",
       "      <th>iterations</th>\n",
       "      <th></th>\n",
       "    </tr>\n",
       "  </thead>\n",
       "  <tbody>\n",
       "    <tr>\n",
       "      <th>15</th>\n",
       "      <td>0.195033</td>\n",
       "    </tr>\n",
       "    <tr>\n",
       "      <th>30</th>\n",
       "      <td>0.192822</td>\n",
       "    </tr>\n",
       "    <tr>\n",
       "      <th>90</th>\n",
       "      <td>0.193989</td>\n",
       "    </tr>\n",
       "  </tbody>\n",
       "</table>\n",
       "</div>"
      ],
      "text/plain": [
       "            precision\n",
       "iterations           \n",
       "15           0.195033\n",
       "30           0.192822\n",
       "90           0.193989"
      ]
     },
     "execution_count": 20,
     "metadata": {},
     "output_type": "execute_result"
    }
   ],
   "source": [
    "pd.DataFrame(df.groupby('iterations')['precision'].mean())"
   ]
  },
  {
   "cell_type": "markdown",
   "metadata": {},
   "source": [
    "Вывод:\n",
    "* Увеличение числа факторов приводит к уменьшению метрки. Поэтому в дальнейшем стоит провести исследование по уменьшению данного параметра\n",
    "* Увеличение других параметров большого влияния на метрику не оказало."
   ]
  },
  {
   "cell_type": "code",
   "execution_count": 21,
   "metadata": {
    "colab": {
     "base_uri": "https://localhost:8080/"
    },
    "executionInfo": {
     "elapsed": 3846,
     "status": "ok",
     "timestamp": 1639505077822,
     "user": {
      "displayName": "Николай -",
      "photoUrl": "https://lh3.googleusercontent.com/a-/AOh14GiCS90olAsBznR3WLZOaJ5ukcv2LPYBRWvHEQUZ-A=s64",
      "userId": "17372739142422056321"
     },
     "user_tz": -180
    },
    "id": "URFgaZAmub4E",
    "outputId": "0527403c-00d7-4e4b-ca96-c65ab08cd1e8"
   },
   "outputs": [
    {
     "name": "stdout",
     "output_type": "stream",
     "text": [
      "Collecting hyperopt\n",
      "  Downloading hyperopt-0.2.7-py2.py3-none-any.whl (1.6 MB)\n",
      "\u001b[K     |████████████████████████████████| 1.6 MB 1.0 MB/s eta 0:00:01     |█████▉                          | 286 kB 1.0 MB/s eta 0:00:02     |███████████████                 | 747 kB 1.0 MB/s eta 0:00:01     |██████████████████████▊         | 1.1 MB 1.0 MB/s eta 0:00:01\n",
      "\u001b[?25hRequirement already satisfied: scipy in /home/sergey/anaconda3/lib/python3.7/site-packages (from hyperopt) (1.4.1)\n",
      "Requirement already satisfied: numpy in /home/sergey/anaconda3/lib/python3.7/site-packages (from hyperopt) (1.18.1)\n",
      "Requirement already satisfied: cloudpickle in /home/sergey/anaconda3/lib/python3.7/site-packages (from hyperopt) (1.3.0)\n",
      "Requirement already satisfied: networkx>=2.2 in /home/sergey/anaconda3/lib/python3.7/site-packages (from hyperopt) (2.4)\n",
      "Requirement already satisfied: tqdm in /home/sergey/anaconda3/lib/python3.7/site-packages (from hyperopt) (4.42.1)\n",
      "Requirement already satisfied: six in /home/sergey/anaconda3/lib/python3.7/site-packages (from hyperopt) (1.14.0)\n",
      "Collecting py4j\n",
      "  Downloading py4j-0.10.9.7-py2.py3-none-any.whl (200 kB)\n",
      "\u001b[K     |████████████████████████████████| 200 kB 27.9 MB/s eta 0:00:01\n",
      "\u001b[?25hRequirement already satisfied: future in /home/sergey/anaconda3/lib/python3.7/site-packages (from hyperopt) (0.18.2)\n",
      "Requirement already satisfied: decorator>=4.3.0 in /home/sergey/anaconda3/lib/python3.7/site-packages (from networkx>=2.2->hyperopt) (4.4.1)\n",
      "Installing collected packages: py4j, hyperopt\n",
      "Successfully installed hyperopt-0.2.7 py4j-0.10.9.7\n"
     ]
    }
   ],
   "source": [
    "!pip install hyperopt"
   ]
  },
  {
   "cell_type": "markdown",
   "metadata": {
    "id": "yHvbIzA-Hkgx"
   },
   "source": [
    "# Use hyperopt!"
   ]
  }
 ],
 "metadata": {
  "colab": {
   "collapsed_sections": [],
   "name": "HW_3_tasks.ipynb",
   "provenance": []
  },
  "kernelspec": {
   "display_name": "Python 3 (ipykernel)",
   "language": "python",
   "name": "python3"
  },
  "language_info": {
   "codemirror_mode": {
    "name": "ipython",
    "version": 3
   },
   "file_extension": ".py",
   "mimetype": "text/x-python",
   "name": "python",
   "nbconvert_exporter": "python",
   "pygments_lexer": "ipython3",
   "version": "3.9.12"
  }
 },
 "nbformat": 4,
 "nbformat_minor": 1
}
