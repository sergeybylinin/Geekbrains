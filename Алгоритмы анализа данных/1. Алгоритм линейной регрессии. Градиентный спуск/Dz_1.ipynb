{
 "cells": [
  {
   "cell_type": "markdown",
   "id": "af762552",
   "metadata": {},
   "source": [
    "1. Подберите скорость обучения (eta) и количество итераций:"
   ]
  },
  {
   "cell_type": "code",
   "execution_count": 1,
   "id": "4a27851c",
   "metadata": {},
   "outputs": [],
   "source": [
    "import numpy as np"
   ]
  },
  {
   "cell_type": "code",
   "execution_count": 2,
   "id": "9eae0e4e",
   "metadata": {},
   "outputs": [],
   "source": [
    "X = np.array([[1, 1, 1, 1, 1, 1, 1, 1, 1, 1],   # для умножения на intercept\n",
    "              [1, 1, 2, 1, 3, 0, 5, 10, 1, 2]]) # стаж"
   ]
  },
  {
   "cell_type": "code",
   "execution_count": 3,
   "id": "f5fb169e",
   "metadata": {},
   "outputs": [],
   "source": [
    "# средний балл ЕГЭ (целевая переменная)\n",
    "y = [45, 55, 50, 59, 65, 35, 75, 80, 50, 60]"
   ]
  },
  {
   "cell_type": "code",
   "execution_count": 4,
   "id": "7dbbadd4",
   "metadata": {},
   "outputs": [],
   "source": [
    "def calc_mse(y, y_pred):\n",
    "    err = np.mean((y - y_pred)**2)\n",
    "    return err\n",
    "\n",
    "def calc_mae(y, y_pred):\n",
    "    err = np.mean(np.abs(y - y_pred))\n",
    "    return err"
   ]
  },
  {
   "cell_type": "code",
   "execution_count": 5,
   "id": "e74ebb3f",
   "metadata": {},
   "outputs": [
    {
     "name": "stdout",
     "output_type": "stream",
     "text": [
      "Number of objects = 10        \n",
      "Learning rate = 0.05        \n",
      "Initial weights = [1.  0.5] \n",
      "\n",
      "Iteration #0: W_new = [ 6.51 17.5 ], MSE = 3173.15\n",
      "Iteration #10: W_new = [21.47076336  8.66804927], MSE = 439.01\n",
      "Iteration #20: W_new = [30.62698077  6.97698449], MSE = 207.78\n",
      "Iteration #30: W_new = [36.08392819  5.96931741], MSE = 118.3\n",
      "Iteration #40: W_new = [39.46634211  5.3447288 ], MSE = 80.79\n",
      "Iteration #50: W_new = [41.63870858  4.94358471], MSE = 63.9\n",
      "Iteration #60: W_new = [43.07953377  4.67752532], MSE = 55.78\n",
      "Iteration #70: W_new = [44.06342299  4.49584265], MSE = 51.64\n",
      "Iteration #80: W_new = [44.75326603  4.36845786], MSE = 49.41\n",
      "Iteration #90: W_new = [45.24865981  4.2769796 ], MSE = 48.15\n",
      "Iteration #100: W_new = [45.61222052  4.20984534], MSE = 47.41\n",
      "Iteration #110: W_new = [45.88433526  4.15959727], MSE = 46.95\n",
      "Iteration #120: W_new = [46.09167467  4.12131046], MSE = 46.66\n",
      "Iteration #130: W_new = [46.25223841  4.09166114], MSE = 46.47\n",
      "Iteration #140: W_new = [46.37842054  4.06836064], MSE = 46.34\n",
      "Iteration #150: W_new = [46.47891525  4.04980353], MSE = 46.25\n",
      "Iteration #160: W_new = [46.55992715  4.03484406], MSE = 46.19\n",
      "Iteration #170: W_new = [46.62595547  4.02265142], MSE = 46.14\n",
      "Iteration #180: W_new = [46.68031153  4.01261416], MSE = 46.1\n",
      "Iteration #190: W_new = [46.72546628  4.00427599], MSE = 46.08\n",
      "Iteration #200: W_new = [46.76328747  3.99729202], MSE = 46.06\n",
      "Iteration #210: W_new = [46.79520394  3.9913984 ], MSE = 46.04\n",
      "Iteration #220: W_new = [46.82232116  3.986391  ], MSE = 46.03\n",
      "Iteration #230: W_new = [46.84550341  3.98211022], MSE = 46.02\n",
      "Iteration #240: W_new = [46.86543311  3.97843005], MSE = 46.01\n",
      "Iteration #250: W_new = [46.8826541   3.97525006], MSE = 46.0\n",
      "Iteration #260: W_new = [46.89760356  3.97248953], MSE = 46.0\n",
      "Iteration #270: W_new = [46.9106358   3.97008302], MSE = 45.99\n",
      "Iteration #280: W_new = [46.92204019  3.96797712], MSE = 45.99\n",
      "Iteration #290: W_new = [46.93205477  3.96612785], MSE = 45.99\n"
     ]
    }
   ],
   "source": [
    "n = X.shape[1]\n",
    "eta = 0.05\n",
    "W = np.array([1, 0.5])\n",
    "\n",
    "print(f'Number of objects = {n} \\\n",
    "       \\nLearning rate = {eta} \\\n",
    "       \\nInitial weights = {W} \\n')\n",
    "\n",
    "for i in range(300):\n",
    "    y_pred = np.dot(W, X)\n",
    "    err = calc_mse(y, y_pred)\n",
    "    for j in range(W.shape[0]):\n",
    "        W[j] -= eta * (1/n * 2 * np.sum(X[j] * (y_pred - y)))\n",
    "    if i % 10 == 0:\n",
    "        eta /= 1.1\n",
    "        print(f'Iteration #{i}: W_new = {W}, MSE = {round(err, 2)}')"
   ]
  },
  {
   "cell_type": "markdown",
   "id": "43e9db67",
   "metadata": {},
   "source": [
    "2. В этом коде мы избавляемся от итераций по весам, но тут есть ошибка, исправьте ее:"
   ]
  },
  {
   "cell_type": "code",
   "execution_count": 6,
   "id": "0b1976db",
   "metadata": {},
   "outputs": [
    {
     "name": "stdout",
     "output_type": "stream",
     "text": [
      "Number of objects = 2        \n",
      "Learning rate = 0.01        \n",
      "Initial weights = [1.  0.5] \n",
      "\n",
      "Iteration #0: W_new = [ 6.51 17.5 ], MSE = 3173.15\n",
      "Iteration #10: W_new = [22.7217522   8.44369395], MSE = 405.35\n",
      "Iteration #20: W_new = [32.8605174   6.56455282], MSE = 169.49\n",
      "Iteration #30: W_new = [38.80578987  5.46670483], MSE = 88.41\n",
      "Iteration #40: W_new = [42.29161487  4.82302057], MSE = 60.54\n",
      "Iteration #50: W_new = [44.33541912  4.44561648], MSE = 50.96\n",
      "Iteration #60: W_new = [45.53373968  4.22433742], MSE = 47.66\n",
      "Iteration #70: W_new = [46.23633738  4.09459738], MSE = 46.53\n",
      "Iteration #80: W_new = [46.64828353  4.01852838], MSE = 46.14\n",
      "Iteration #90: W_new = [46.88981524  3.9739277 ], MSE = 46.01\n"
     ]
    }
   ],
   "source": [
    "n = X.shape[0]\n",
    "\n",
    "eta = 1e-2 \n",
    "n_iter = 100\n",
    "\n",
    "W = np.array([1, 0.5])\n",
    "print(f'Number of objects = {n} \\\n",
    "       \\nLearning rate = {eta} \\\n",
    "       \\nInitial weights = {W} \\n')\n",
    "\n",
    "for i in range(n_iter):\n",
    "#    y_pred = np.dot(X, W)\n",
    "\n",
    "    # ИЗМЕНЕНИЯ\n",
    "    \n",
    "    y_pred = np.dot(W, X)\n",
    "    \n",
    "    err = calc_mse(y, y_pred)\n",
    "#     for k in range(W.shape[0]):\n",
    "#         W[k] -= eta * (1/n * 2 * X[:, k] @ (y_pred - y))\n",
    "    # ИЗМЕНЕНИЯ\n",
    "    W -= eta * (1/n * 2 * np.dot(X, y_pred - y))\n",
    "    # ИЗМЕНЕНИЯ\n",
    "    #\n",
    "    if i % 10 == 0:\n",
    "        print(f'Iteration #{i}: W_new = {W}, MSE = {round(err,2)}')"
   ]
  },
  {
   "cell_type": "markdown",
   "id": "5f6398bc",
   "metadata": {},
   "source": [
    "3*. Вместо того, чтобы задавать количество итераций, задайте другое условие останова алгоритма - когда веса перестают изменяться меньше определенного порога  𝜖 ."
   ]
  },
  {
   "cell_type": "code",
   "execution_count": 7,
   "id": "53f8d859",
   "metadata": {},
   "outputs": [
    {
     "name": "stdout",
     "output_type": "stream",
     "text": [
      "220 [47.23177426  3.91078235] 45.937500081274386\n"
     ]
    }
   ],
   "source": [
    "W = np.array([1, 0.5])\n",
    "err_prev = 0\n",
    "err = np.inf\n",
    "count_iter = 1\n",
    "max_iter = 1e4\n",
    "epsilon = 1e-8\n",
    "\n",
    "while np.abs(err - err_prev) > epsilon and count_iter < max_iter:\n",
    "    y_pred = np.dot(W, X)\n",
    "    \n",
    "    for j in range(W.shape[0]):\n",
    "        W[j] -= eta * (1/n * 2 * np.sum(X[j] * (y_pred - y)))\n",
    "    \n",
    "    err_prev = err\n",
    "    err = calc_mse(y, y_pred)\n",
    "    count_iter += 1\n",
    "    \n",
    "print(count_iter, W, err)"
   ]
  },
  {
   "cell_type": "code",
   "execution_count": null,
   "id": "664bde8b",
   "metadata": {},
   "outputs": [],
   "source": []
  }
 ],
 "metadata": {
  "kernelspec": {
   "display_name": "Python 3",
   "language": "python",
   "name": "python3"
  },
  "language_info": {
   "codemirror_mode": {
    "name": "ipython",
    "version": 3
   },
   "file_extension": ".py",
   "mimetype": "text/x-python",
   "name": "python",
   "nbconvert_exporter": "python",
   "pygments_lexer": "ipython3",
   "version": "3.8.8"
  }
 },
 "nbformat": 4,
 "nbformat_minor": 5
}
