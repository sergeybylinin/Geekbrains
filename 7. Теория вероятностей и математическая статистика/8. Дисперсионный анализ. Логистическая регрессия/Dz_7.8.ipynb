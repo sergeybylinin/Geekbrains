{
 "cells": [
  {
   "cell_type": "markdown",
   "id": "b4596af9",
   "metadata": {},
   "source": [
    "__Задача 1__\n",
    "\n",
    "Провести дисперсионный анализ для определения того, есть ли различия среднего роста среди взрослых футболистов, хоккеистов и штангистов. Даны значения роста в трех группах случайно выбранных спортсменов: \n",
    "```\n",
    "football_players = [173, 175, 180, 178, 177, 185, 183, 182]\n",
    "hockey_players = [177, 179, 180, 188, 177, 172, 171, 184, 180]\n",
    "lifters = [172, 173, 169, 177, 166, 180, 178, 177, 172, 166, 170]\n",
    "```"
   ]
  },
  {
   "cell_type": "code",
   "execution_count": 1,
   "id": "c2a4d265",
   "metadata": {},
   "outputs": [],
   "source": [
    "football_players = [173, 175, 180, 178, 177, 185, 183, 182]\n",
    "hockey_players = [177, 179, 180, 188, 177, 172, 171, 184, 180]\n",
    "lifters = [172, 173, 169, 177, 166, 180, 178, 177, 172, 166, 170]"
   ]
  },
  {
   "cell_type": "code",
   "execution_count": 2,
   "id": "66bd3ff5",
   "metadata": {},
   "outputs": [],
   "source": [
    "import numpy as np\n",
    "from scipy import stats"
   ]
  },
  {
   "cell_type": "code",
   "execution_count": 3,
   "id": "f8595c2b",
   "metadata": {},
   "outputs": [],
   "source": [
    "y1 = np.array(football_players, dtype=np.float64)\n",
    "y2 = np.array(hockey_players, dtype=np.float64)\n",
    "y3 = np.array(lifters, dtype=np.float64)\n",
    "\n",
    "n1 = y1.shape[0]\n",
    "n2 = y2.shape[0]\n",
    "n3 = y3.shape[0]"
   ]
  },
  {
   "cell_type": "code",
   "execution_count": 4,
   "id": "b766c8eb",
   "metadata": {},
   "outputs": [
    {
     "data": {
      "text/plain": [
       "[179.125, 178.6667, 172.7273]"
      ]
     },
     "execution_count": 4,
     "metadata": {},
     "output_type": "execute_result"
    }
   ],
   "source": [
    "# Выборочные средние по каждой группе:\n",
    "\n",
    "y1_mean = y1.mean()\n",
    "y2_mean = y2.mean()\n",
    "y3_mean = y3.mean()\n",
    "\n",
    "def list_round(sp, r=4):\n",
    "    return list(map(lambda x: round(x, r), sp))\n",
    "\n",
    "list_round([y1_mean, y2_mean, y3_mean])"
   ]
  },
  {
   "cell_type": "markdown",
   "id": "fa33182c",
   "metadata": {},
   "source": [
    "Видно, что средний рост футболистов и хоккеистов почти равный, а у штангистов меньше чем у других спортсменов. Проверим статистическую значимость этого отличия. \n",
    "\n",
    "Соберём все значения роста спортсменов в один массив:"
   ]
  },
  {
   "cell_type": "code",
   "execution_count": 5,
   "id": "09259c6c",
   "metadata": {},
   "outputs": [
    {
     "name": "stdout",
     "output_type": "stream",
     "text": [
      "[173. 175. 180. 178. 177. 185. 183. 182. 177. 179. 180. 188. 177. 172.\n",
      " 171. 184. 180. 172. 173. 169. 177. 166. 180. 178. 177. 172. 166. 170.]\n"
     ]
    }
   ],
   "source": [
    "y = np.concatenate([y1, y2, y3])\n",
    "\n",
    "print(y)"
   ]
  },
  {
   "cell_type": "code",
   "execution_count": 6,
   "id": "c9ee9c4d",
   "metadata": {},
   "outputs": [
    {
     "data": {
      "text/plain": [
       "176.4643"
      ]
     },
     "execution_count": 6,
     "metadata": {},
     "output_type": "execute_result"
    }
   ],
   "source": [
    "y_mean = y.mean()\n",
    "\n",
    "round(y_mean, 4)"
   ]
  },
  {
   "cell_type": "markdown",
   "id": "8f89488d",
   "metadata": {},
   "source": [
    "Найдём значения $S_b$ и $S_{w}$:"
   ]
  },
  {
   "cell_type": "code",
   "execution_count": 7,
   "id": "06e16173",
   "metadata": {},
   "outputs": [
    {
     "data": {
      "text/plain": [
       "[253.9075, 577.0568]"
      ]
     },
     "execution_count": 7,
     "metadata": {},
     "output_type": "execute_result"
    }
   ],
   "source": [
    "S2_b = n1 * (y1_mean - y_mean) ** 2 + n2 * (y2_mean - y_mean) ** 2 + n3 * (y3_mean - y_mean) ** 2\n",
    "S2_w = ((y1 - y1_mean) ** 2).sum() + ((y2 - y2_mean) ** 2).sum() + ((y3 - y3_mean) ** 2).sum()\n",
    "\n",
    "list_round([S2_b, S2_w])"
   ]
  },
  {
   "cell_type": "markdown",
   "id": "3998def3",
   "metadata": {},
   "source": [
    "Проверим выполнение равенства $S^2 = S_b^2 + S_{w}^2:$"
   ]
  },
  {
   "cell_type": "code",
   "execution_count": 8,
   "id": "687facd5",
   "metadata": {},
   "outputs": [
    {
     "data": {
      "text/plain": [
       "True"
      ]
     },
     "execution_count": 8,
     "metadata": {},
     "output_type": "execute_result"
    }
   ],
   "source": [
    "round(S2_b + S2_w, 10) == round(((y - y_mean) ** 2).sum(), 10)"
   ]
  },
  {
   "cell_type": "code",
   "execution_count": 9,
   "id": "8487fdd7",
   "metadata": {},
   "outputs": [
    {
     "data": {
      "text/plain": [
       "[126.9537, 23.0823]"
      ]
     },
     "execution_count": 9,
     "metadata": {},
     "output_type": "execute_result"
    }
   ],
   "source": [
    "# Запишем оценки дисперсий:\n",
    "\n",
    "k = 3\n",
    "n = n1 + n2 + n3\n",
    "\n",
    "k1 = k - 1\n",
    "k2 = n - k\n",
    "\n",
    "sigma2_b = S2_b / k1\n",
    "sigma2_w = S2_w / k2\n",
    "\n",
    "list_round([sigma2_b, sigma2_w])"
   ]
  },
  {
   "cell_type": "markdown",
   "id": "0c78c718",
   "metadata": {},
   "source": [
    "Итак, значение статистики  𝑇 :"
   ]
  },
  {
   "cell_type": "code",
   "execution_count": 10,
   "id": "721fd9e4",
   "metadata": {},
   "outputs": [
    {
     "data": {
      "text/plain": [
       "5.5001"
      ]
     },
     "execution_count": 10,
     "metadata": {},
     "output_type": "execute_result"
    }
   ],
   "source": [
    "T = sigma2_b / sigma2_w\n",
    "\n",
    "round(T, 4)"
   ]
  },
  {
   "cell_type": "markdown",
   "id": "fd5f2360",
   "metadata": {},
   "source": [
    "Зафиксируем уровень значимости  𝛼=0.05 . Для него найдём критическое значение  𝐹𝑐𝑟𝑖𝑡 :"
   ]
  },
  {
   "cell_type": "code",
   "execution_count": 11,
   "id": "048afbf6",
   "metadata": {},
   "outputs": [
    {
     "data": {
      "text/plain": [
       "3.3852"
      ]
     },
     "execution_count": 11,
     "metadata": {},
     "output_type": "execute_result"
    }
   ],
   "source": [
    "alpha = 0.05\n",
    "\n",
    "F_crit = stats.f.ppf(1 - alpha, k1, k2)\n",
    "\n",
    "round(F_crit, 4)"
   ]
  },
  {
   "cell_type": "code",
   "execution_count": 12,
   "id": "26c85dea",
   "metadata": {},
   "outputs": [
    {
     "data": {
      "text/plain": [
       "0.0105"
      ]
     },
     "execution_count": 12,
     "metadata": {},
     "output_type": "execute_result"
    }
   ],
   "source": [
    "p = 1 - stats.f.cdf(T, k1, k2)\n",
    "\n",
    "round(p, 4)"
   ]
  },
  {
   "cell_type": "markdown",
   "id": "4f3e6a34",
   "metadata": {},
   "source": [
    "Видим, что $T > F_{crit}$, поэтому заключаем, что отличие средних зарплат действительно является статистически значимым."
   ]
  },
  {
   "cell_type": "code",
   "execution_count": 13,
   "id": "e5c5a739",
   "metadata": {},
   "outputs": [
    {
     "data": {
      "text/plain": [
       "F_onewayResult(statistic=5.500053450812596, pvalue=0.010482206918698694)"
      ]
     },
     "execution_count": 13,
     "metadata": {},
     "output_type": "execute_result"
    }
   ],
   "source": [
    "from scipy.stats import f_oneway\n",
    "f_oneway(y1, y2, y3)"
   ]
  }
 ],
 "metadata": {
  "kernelspec": {
   "display_name": "Python 3 (ipykernel)",
   "language": "python",
   "name": "python3"
  },
  "language_info": {
   "codemirror_mode": {
    "name": "ipython",
    "version": 3
   },
   "file_extension": ".py",
   "mimetype": "text/x-python",
   "name": "python",
   "nbconvert_exporter": "python",
   "pygments_lexer": "ipython3",
   "version": "3.9.12"
  }
 },
 "nbformat": 4,
 "nbformat_minor": 5
}
