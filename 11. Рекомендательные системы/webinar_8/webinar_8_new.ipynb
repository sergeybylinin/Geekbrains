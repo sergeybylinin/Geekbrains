{
 "cells": [
  {
   "cell_type": "markdown",
   "metadata": {
    "id": "MgrtQvpomigf"
   },
   "source": [
    "# Вебинар 8. Консультация"
   ]
  },
  {
   "cell_type": "markdown",
   "metadata": {
    "id": "icPrG1hrmigi"
   },
   "source": [
    "---"
   ]
  },
  {
   "cell_type": "markdown",
   "metadata": {
    "id": "4JlONj2qmigj"
   },
   "source": [
    "## 1. Recap по финальному проекту"
   ]
  },
  {
   "cell_type": "markdown",
   "metadata": {
    "id": "veqYxZOmmigj"
   },
   "source": [
    "**Основное**\n",
    "- Дедлайн - 17 января 23:59\n",
    "- Целевая метрика precision@5\n",
    "- Бейзлайн решения - [MainRecommender](https://github.com/geangohn/recsys-tutorial/blob/master/src/recommenders.py)\n",
    "- Сдаем ссылку на github с решением. На github должен быть файл recommendations.csv (user_id | [rec_1, rec_2, ...] с рекомендациями. rec_i - реальные id item-ов (из retail_train.csv)\n",
    "- Минимальный скор на Тесте 0.18 (retail_test.csv)\n",
    "\n",
    "**Hints:** \n",
    "\n",
    "Сначала просто попробуйте разные параметры MainRecommender:  \n",
    "- N в топ-N товарах при формировании user-item матирцы (сейчас топ-5000)  \n",
    "- Различные веса в user-item матрице (0/1, кол-во покупок, log(кол-во покупок + 1), сумма покупки, ...)  \n",
    "- Разные взвешивания матрицы (TF-IDF, BM25 - у него есть параметры)  \n",
    "- Разные смешивания рекомендаций (обратите внимание на бейзлайн - прошлые покупки юзера)  \n",
    "\n",
    "Сделайте MVP - минимально рабочий продукт - (пусть даже top-popular), а потом его улучшайте\n",
    "\n",
    "Если вы делаете двухуровневую модель - следите за валидацией "
   ]
  },
  {
   "cell_type": "markdown",
   "metadata": {
    "id": "RtCLyS4Lmigk"
   },
   "source": [
    "---"
   ]
  },
  {
   "cell_type": "markdown",
   "metadata": {
    "id": "QXuZz89Tmigk"
   },
   "source": [
    "## 2. Ответы на вопросы"
   ]
  },
  {
   "cell_type": "markdown",
   "metadata": {
    "id": "KHNDNGh0migl"
   },
   "source": [
    "Как делать кросс-валидацию?\n",
    "- [Статья](https://www.ethanrosenthal.com/2016/10/19/implicit-mf-part-1/)\n",
    "- Смотреть на метрику на отложенной выборке, меняя гиперпараметры\n",
    "\n",
    "Какие гиперпараметры оптимизировать у ALS:\n",
    "- Кол-во факторов \n",
    "- regularization / iterations"
   ]
  },
  {
   "cell_type": "markdown",
   "metadata": {
    "id": "4jSdBJ-2migm"
   },
   "source": [
    "Как можно делать кросс-валидацию (отложенная выборка)"
   ]
  },
  {
   "cell_type": "code",
   "execution_count": null,
   "metadata": {
    "id": "9VWbIBhEmign"
   },
   "outputs": [],
   "source": [
    "from src.recommenders import MainRecommender\n",
    "\n",
    "my_model = MainRecommender(data)\n",
    "user_item_matrix = my_model.user_item_matrix\n",
    "\n",
    "for factors in [20, 50, 100]:\n",
    "    my_model.fit(user_item_matrix, n_factors=factors, regularization=0.001, iterations=15, num_threads=4)\n",
    "    # calculate precision@5 on validation"
   ]
  },
  {
   "cell_type": "code",
   "execution_count": null,
   "metadata": {
    "id": "9IvlIBowmigp"
   },
   "outputs": [],
   "source": [
    "# your_questions"
   ]
  },
  {
   "cell_type": "markdown",
   "metadata": {
    "id": "p_pVotAWmigp"
   },
   "source": [
    "---"
   ]
  },
  {
   "cell_type": "markdown",
   "metadata": {
    "id": "EBJvfE5Kmigq"
   },
   "source": [
    "## 3. Разбор соревнования по рекомендациям топ-30 товаров X5 Retail Hero"
   ]
  },
  {
   "cell_type": "markdown",
   "metadata": {
    "id": "S7e11G8hmigq"
   },
   "source": [
    "Постановка задачи + особенности данных + подход к решению из [презентации](https://vk.com/away.php?utf=1&to=https%3A%2F%2Fgithub.com%2Faprotopopov%2Fretailhero_recommender%2Fblob%2Fmaster%2Fslides%2Fretailhero_recommender.pdf) решения 1-ого места\n",
    "\n",
    "Бонус - [код](https://github.com/aprotopopov/retailhero_recommender) решения 1-ого места"
   ]
  },
  {
   "cell_type": "markdown",
   "metadata": {
    "id": "nHN9Nt2xmigr"
   },
   "source": [
    "## Основные подходы участников из топ-15"
   ]
  },
  {
   "cell_type": "markdown",
   "metadata": {
    "id": "fpl2jraQmigr"
   },
   "source": [
    "### Генерация кандидатов\n",
    "\n",
    "В основном генерировали k = {50, 100} кандидатов, чтобы модель 2-ого уровня отрабатывала за разумное время\n",
    "\n",
    "- Прошлые покупки юзера + топ-популярных, если покупок < k --> recall@100 ~ 42%\n",
    "- Из ALS, item2item моделей\n",
    "- implicit.nn.CosineRecommender"
   ]
  },
  {
   "cell_type": "markdown",
   "metadata": {
    "id": "v5fffizDmigr"
   },
   "source": [
    "### Фичи в модели 2-ого уровня\n",
    "Коллаборативные:\n",
    "- biases + embeddings из коллаборативной фильтрации / Скоры item2item моделей\n",
    "- TF-IDF матирца item-ов c > N покупками\n",
    "- TF-IDF + TSNE/UMAP\n",
    "\n",
    "handcrafted фичи для товаров:\n",
    "- категории товаров\n",
    "- нормированная частота покупки товара для каждого клиента\n",
    "- кол-во магазинов, в которых продавался товар\n",
    "- кол-во транзакций клиента\n",
    "- mean / max / std кол-ва уникальных товаров в корзине клиента \n",
    "- mean / max / std кол-ва уникальных категорий в корзине клиента \n",
    "\n",
    "handcrafted фичи для юзеров:\n",
    "- Средний чек\n",
    "- Средняя цена одного купленного товара\n",
    "- Среднее кол-во дней между покупками / с последней покупки    \n",
    "- Количество уникальных покупок по всем категориям transaction_id, product_id, store_id, level_i_id\n",
    "- Признаки с накопленными бонусами\n",
    "- Средняя скидка, доля купленных товаров со скидками\n",
    "\n",
    "Интересные:\n",
    "- Факт заказа каждого товара в последних 5 транзакциях в виде последовательности бит (категориальная фича). \n",
    "10001 - купил товар в последней транзакции и 5 транзакий назад (feature hashing)\n",
    "- item co_ocurrence\n",
    "- word2vec эмбеддинги товаров (альтернативное название - item2vec, prod2vec)\n",
    "- Расстояние от word2vec эмбеддинга товара до среднего эмбедиингов товаров, купленных юзером"
   ]
  },
  {
   "cell_type": "code",
   "execution_count": null,
   "metadata": {
    "id": "CrDDAhX3migs"
   },
   "outputs": [],
   "source": [
    "# Работа с эмбеддингами товаров на примере ALS вместо word2vec\n",
    "from implicit.als import AlternatingLeastSquares\n",
    "\n",
    "model = AlternatingLeastSquares()\n",
    "model.fit(...)\n",
    "\n",
    "model.item_factors  # Добавить как фичи в модель 2-ого уровня\n",
    "\n",
    "# Предположение: эмбеддинг юзера = среднее эмбеддингов купленниых им товаров\n",
    "# эмбеддинг товара - эмбеддинг юзера  # чем разница меньше, тем товар ближе к интересам пользователя"
   ]
  },
  {
   "cell_type": "markdown",
   "metadata": {
    "id": "bAmTtXYqmigs"
   },
   "source": [
    "### Модели 2-ого уровня\n",
    "- классификация через LightGBM\n",
    "- ранжирование CatBoost через YetiRank, YetiRankPairwise"
   ]
  },
  {
   "cell_type": "markdown",
   "metadata": {
    "id": "XOD5ugwnFMD9"
   },
   "source": [
    "# Light auto ML"
   ]
  },
  {
   "cell_type": "markdown",
   "metadata": {
    "id": "vcXB3zZGFZ5Q"
   },
   "source": [
    "https://lightautoml.readthedocs.io/en/latest/"
   ]
  },
  {
   "cell_type": "markdown",
   "metadata": {
    "id": "-GdyI3MGFdlc"
   },
   "source": [
    "https://lightautoml.readthedocs.io/en/latest/generated/lightautoml.tasks.base.Task.html"
   ]
  },
  {
   "cell_type": "code",
   "execution_count": null,
   "metadata": {
    "colab": {
     "base_uri": "https://localhost:8080/",
     "height": 1000
    },
    "id": "5lSRH3pnAuXO",
    "outputId": "9c08b261-e615-4eb7-f7e7-a650b6265a2e"
   },
   "outputs": [
    {
     "name": "stdout",
     "output_type": "stream",
     "text": [
      "Collecting lightautoml\n",
      "  Downloading LightAutoML-0.3.2-py3-none-any.whl (294 kB)\n",
      "\u001b[?25l\r",
      "\u001b[K     |█▏                              | 10 kB 13.0 MB/s eta 0:00:01\r",
      "\u001b[K     |██▎                             | 20 kB 7.8 MB/s eta 0:00:01\r",
      "\u001b[K     |███▍                            | 30 kB 6.6 MB/s eta 0:00:01\r",
      "\u001b[K     |████▌                           | 40 kB 4.6 MB/s eta 0:00:01\r",
      "\u001b[K     |█████▋                          | 51 kB 4.8 MB/s eta 0:00:01\r",
      "\u001b[K     |██████▊                         | 61 kB 5.3 MB/s eta 0:00:01\r",
      "\u001b[K     |███████▉                        | 71 kB 5.2 MB/s eta 0:00:01\r",
      "\u001b[K     |█████████                       | 81 kB 5.8 MB/s eta 0:00:01\r",
      "\u001b[K     |██████████                      | 92 kB 4.8 MB/s eta 0:00:01\r",
      "\u001b[K     |███████████▏                    | 102 kB 5.0 MB/s eta 0:00:01\r",
      "\u001b[K     |████████████▎                   | 112 kB 5.0 MB/s eta 0:00:01\r",
      "\u001b[K     |█████████████▍                  | 122 kB 5.0 MB/s eta 0:00:01\r",
      "\u001b[K     |██████████████▌                 | 133 kB 5.0 MB/s eta 0:00:01\r",
      "\u001b[K     |███████████████▋                | 143 kB 5.0 MB/s eta 0:00:01\r",
      "\u001b[K     |████████████████▊               | 153 kB 5.0 MB/s eta 0:00:01\r",
      "\u001b[K     |█████████████████▉              | 163 kB 5.0 MB/s eta 0:00:01\r",
      "\u001b[K     |███████████████████             | 174 kB 5.0 MB/s eta 0:00:01\r",
      "\u001b[K     |████████████████████            | 184 kB 5.0 MB/s eta 0:00:01\r",
      "\u001b[K     |█████████████████████▏          | 194 kB 5.0 MB/s eta 0:00:01\r",
      "\u001b[K     |██████████████████████▎         | 204 kB 5.0 MB/s eta 0:00:01\r",
      "\u001b[K     |███████████████████████▍        | 215 kB 5.0 MB/s eta 0:00:01\r",
      "\u001b[K     |████████████████████████▌       | 225 kB 5.0 MB/s eta 0:00:01\r",
      "\u001b[K     |█████████████████████████▋      | 235 kB 5.0 MB/s eta 0:00:01\r",
      "\u001b[K     |██████████████████████████▊     | 245 kB 5.0 MB/s eta 0:00:01\r",
      "\u001b[K     |███████████████████████████▉    | 256 kB 5.0 MB/s eta 0:00:01\r",
      "\u001b[K     |█████████████████████████████   | 266 kB 5.0 MB/s eta 0:00:01\r",
      "\u001b[K     |██████████████████████████████  | 276 kB 5.0 MB/s eta 0:00:01\r",
      "\u001b[K     |███████████████████████████████▏| 286 kB 5.0 MB/s eta 0:00:01\r",
      "\u001b[K     |████████████████████████████████| 294 kB 5.0 MB/s \n",
      "\u001b[?25hRequirement already satisfied: tqdm in /usr/local/lib/python3.7/dist-packages (from lightautoml) (4.62.3)\n",
      "Requirement already satisfied: torchvision in /usr/local/lib/python3.7/dist-packages (from lightautoml) (0.11.1+cu111)\n",
      "Collecting json2html\n",
      "  Downloading json2html-1.3.0.tar.gz (7.0 kB)\n",
      "Requirement already satisfied: holidays in /usr/local/lib/python3.7/dist-packages (from lightautoml) (0.10.5.2)\n",
      "Requirement already satisfied: scipy in /usr/local/lib/python3.7/dist-packages (from lightautoml) (1.4.1)\n",
      "Requirement already satisfied: pyyaml in /usr/local/lib/python3.7/dist-packages (from lightautoml) (3.13)\n",
      "Collecting importlib-metadata<2.0,>=1.0\n",
      "  Downloading importlib_metadata-1.7.0-py2.py3-none-any.whl (31 kB)\n",
      "Collecting numpy>=1.20.0\n",
      "  Downloading numpy-1.21.5-cp37-cp37m-manylinux_2_12_x86_64.manylinux2010_x86_64.whl (15.7 MB)\n",
      "\u001b[K     |████████████████████████████████| 15.7 MB 37.2 MB/s \n",
      "\u001b[?25hCollecting torch<1.9\n",
      "  Downloading torch-1.8.1-cp37-cp37m-manylinux1_x86_64.whl (804.1 MB)\n",
      "\u001b[K     |████████████████████████████████| 804.1 MB 2.5 kB/s \n",
      "\u001b[?25hRequirement already satisfied: joblib in /usr/local/lib/python3.7/dist-packages (from lightautoml) (1.1.0)\n",
      "Requirement already satisfied: pandas>=1 in /usr/local/lib/python3.7/dist-packages (from lightautoml) (1.1.5)\n",
      "Requirement already satisfied: jinja2 in /usr/local/lib/python3.7/dist-packages (from lightautoml) (2.11.3)\n",
      "Collecting autowoe>=1.2\n",
      "  Downloading AutoWoE-1.2.5-py3-none-any.whl (204 kB)\n",
      "\u001b[K     |████████████████████████████████| 204 kB 55.9 MB/s \n",
      "\u001b[?25hCollecting lightgbm<3.0,>=2.3\n",
      "  Downloading lightgbm-2.3.1-py2.py3-none-manylinux1_x86_64.whl (1.2 MB)\n",
      "\u001b[K     |████████████████████████████████| 1.2 MB 51.2 MB/s \n",
      "\u001b[?25hCollecting cmaes\n",
      "  Downloading cmaes-0.8.2-py3-none-any.whl (15 kB)\n",
      "Requirement already satisfied: networkx in /usr/local/lib/python3.7/dist-packages (from lightautoml) (2.6.3)\n",
      "Requirement already satisfied: seaborn in /usr/local/lib/python3.7/dist-packages (from lightautoml) (0.11.2)\n",
      "Requirement already satisfied: scikit-learn>=0.22 in /usr/local/lib/python3.7/dist-packages (from lightautoml) (1.0.1)\n",
      "Collecting dataclasses==0.6\n",
      "  Downloading dataclasses-0.6-py3-none-any.whl (14 kB)\n",
      "Collecting poetry-core<2.0.0,>=1.0.0\n",
      "  Downloading poetry_core-1.0.7-py2.py3-none-any.whl (424 kB)\n",
      "\u001b[K     |████████████████████████████████| 424 kB 57.3 MB/s \n",
      "\u001b[?25hCollecting catboost\n",
      "  Downloading catboost-1.0.3-cp37-none-manylinux1_x86_64.whl (76.3 MB)\n",
      "\u001b[K     |████████████████████████████████| 76.3 MB 60 kB/s \n",
      "\u001b[?25hCollecting optuna\n",
      "  Downloading optuna-2.10.0-py3-none-any.whl (308 kB)\n",
      "\u001b[K     |████████████████████████████████| 308 kB 64.1 MB/s \n",
      "\u001b[?25hRequirement already satisfied: sphinx in /usr/local/lib/python3.7/dist-packages (from autowoe>=1.2->lightautoml) (1.8.6)\n",
      "Requirement already satisfied: pytz in /usr/local/lib/python3.7/dist-packages (from autowoe>=1.2->lightautoml) (2018.9)\n",
      "Requirement already satisfied: pytest in /usr/local/lib/python3.7/dist-packages (from autowoe>=1.2->lightautoml) (3.6.4)\n",
      "Requirement already satisfied: matplotlib in /usr/local/lib/python3.7/dist-packages (from autowoe>=1.2->lightautoml) (3.2.2)\n",
      "Collecting sphinx-rtd-theme\n",
      "  Downloading sphinx_rtd_theme-1.0.0-py2.py3-none-any.whl (2.8 MB)\n",
      "\u001b[K     |████████████████████████████████| 2.8 MB 30.6 MB/s \n",
      "\u001b[?25hRequirement already satisfied: zipp>=0.5 in /usr/local/lib/python3.7/dist-packages (from importlib-metadata<2.0,>=1.0->lightautoml) (3.6.0)\n",
      "Requirement already satisfied: python-dateutil>=2.7.3 in /usr/local/lib/python3.7/dist-packages (from pandas>=1->lightautoml) (2.8.2)\n",
      "Requirement already satisfied: six>=1.5 in /usr/local/lib/python3.7/dist-packages (from python-dateutil>=2.7.3->pandas>=1->lightautoml) (1.15.0)\n",
      "Requirement already satisfied: threadpoolctl>=2.0.0 in /usr/local/lib/python3.7/dist-packages (from scikit-learn>=0.22->lightautoml) (3.0.0)\n",
      "Requirement already satisfied: typing-extensions in /usr/local/lib/python3.7/dist-packages (from torch<1.9->lightautoml) (3.10.0.2)\n",
      "Requirement already satisfied: plotly in /usr/local/lib/python3.7/dist-packages (from catboost->lightautoml) (4.4.1)\n",
      "Requirement already satisfied: graphviz in /usr/local/lib/python3.7/dist-packages (from catboost->lightautoml) (0.10.1)\n",
      "Requirement already satisfied: convertdate>=2.3.0 in /usr/local/lib/python3.7/dist-packages (from holidays->lightautoml) (2.3.2)\n",
      "Requirement already satisfied: hijri-converter in /usr/local/lib/python3.7/dist-packages (from holidays->lightautoml) (2.2.2)\n",
      "Requirement already satisfied: korean-lunar-calendar in /usr/local/lib/python3.7/dist-packages (from holidays->lightautoml) (0.2.1)\n",
      "Requirement already satisfied: pymeeus<=1,>=0.3.13 in /usr/local/lib/python3.7/dist-packages (from convertdate>=2.3.0->holidays->lightautoml) (0.5.11)\n",
      "Requirement already satisfied: MarkupSafe>=0.23 in /usr/local/lib/python3.7/dist-packages (from jinja2->lightautoml) (2.0.1)\n",
      "Requirement already satisfied: cycler>=0.10 in /usr/local/lib/python3.7/dist-packages (from matplotlib->autowoe>=1.2->lightautoml) (0.11.0)\n",
      "Requirement already satisfied: pyparsing!=2.0.4,!=2.1.2,!=2.1.6,>=2.0.1 in /usr/local/lib/python3.7/dist-packages (from matplotlib->autowoe>=1.2->lightautoml) (3.0.6)\n",
      "Requirement already satisfied: kiwisolver>=1.0.1 in /usr/local/lib/python3.7/dist-packages (from matplotlib->autowoe>=1.2->lightautoml) (1.3.2)\n",
      "Collecting alembic\n",
      "  Downloading alembic-1.7.5-py3-none-any.whl (209 kB)\n",
      "\u001b[K     |████████████████████████████████| 209 kB 68.5 MB/s \n",
      "\u001b[?25hCollecting cliff\n",
      "  Downloading cliff-3.10.0-py3-none-any.whl (80 kB)\n",
      "\u001b[K     |████████████████████████████████| 80 kB 9.2 MB/s \n",
      "\u001b[?25hCollecting colorlog\n",
      "  Downloading colorlog-6.6.0-py2.py3-none-any.whl (11 kB)\n",
      "Requirement already satisfied: sqlalchemy>=1.1.0 in /usr/local/lib/python3.7/dist-packages (from optuna->lightautoml) (1.4.27)\n",
      "Requirement already satisfied: packaging>=20.0 in /usr/local/lib/python3.7/dist-packages (from optuna->lightautoml) (21.3)\n",
      "Requirement already satisfied: greenlet!=0.4.17 in /usr/local/lib/python3.7/dist-packages (from sqlalchemy>=1.1.0->optuna->lightautoml) (1.1.2)\n",
      "Requirement already satisfied: importlib-resources in /usr/local/lib/python3.7/dist-packages (from alembic->optuna->lightautoml) (5.4.0)\n",
      "Collecting Mako\n",
      "  Downloading Mako-1.1.6-py2.py3-none-any.whl (75 kB)\n",
      "\u001b[K     |████████████████████████████████| 75 kB 4.5 MB/s \n",
      "\u001b[?25hCollecting pbr!=2.1.0,>=2.0.0\n",
      "  Downloading pbr-5.8.0-py2.py3-none-any.whl (112 kB)\n",
      "\u001b[K     |████████████████████████████████| 112 kB 56.8 MB/s \n",
      "\u001b[?25hCollecting stevedore>=2.0.1\n",
      "  Downloading stevedore-3.5.0-py3-none-any.whl (49 kB)\n",
      "\u001b[K     |████████████████████████████████| 49 kB 5.7 MB/s \n",
      "\u001b[?25hRequirement already satisfied: PrettyTable>=0.7.2 in /usr/local/lib/python3.7/dist-packages (from cliff->optuna->lightautoml) (2.4.0)\n",
      "Collecting cmd2>=1.0.0\n",
      "  Downloading cmd2-2.3.3-py3-none-any.whl (149 kB)\n",
      "\u001b[K     |████████████████████████████████| 149 kB 61.6 MB/s \n",
      "\u001b[?25hCollecting autopage>=0.4.0\n",
      "  Downloading autopage-0.4.0-py3-none-any.whl (20 kB)\n",
      "Collecting pyperclip>=1.6\n",
      "  Downloading pyperclip-1.8.2.tar.gz (20 kB)\n",
      "Requirement already satisfied: wcwidth>=0.1.7 in /usr/local/lib/python3.7/dist-packages (from cmd2>=1.0.0->cliff->optuna->lightautoml) (0.2.5)\n",
      "Requirement already satisfied: attrs>=16.3.0 in /usr/local/lib/python3.7/dist-packages (from cmd2>=1.0.0->cliff->optuna->lightautoml) (21.2.0)\n",
      "Requirement already satisfied: retrying>=1.3.3 in /usr/local/lib/python3.7/dist-packages (from plotly->catboost->lightautoml) (1.3.3)\n",
      "Requirement already satisfied: py>=1.5.0 in /usr/local/lib/python3.7/dist-packages (from pytest->autowoe>=1.2->lightautoml) (1.11.0)\n",
      "Requirement already satisfied: atomicwrites>=1.0 in /usr/local/lib/python3.7/dist-packages (from pytest->autowoe>=1.2->lightautoml) (1.4.0)\n",
      "Requirement already satisfied: pluggy<0.8,>=0.5 in /usr/local/lib/python3.7/dist-packages (from pytest->autowoe>=1.2->lightautoml) (0.7.1)\n",
      "Requirement already satisfied: more-itertools>=4.0.0 in /usr/local/lib/python3.7/dist-packages (from pytest->autowoe>=1.2->lightautoml) (8.12.0)\n",
      "Requirement already satisfied: setuptools in /usr/local/lib/python3.7/dist-packages (from pytest->autowoe>=1.2->lightautoml) (57.4.0)\n",
      "Requirement already satisfied: alabaster<0.8,>=0.7 in /usr/local/lib/python3.7/dist-packages (from sphinx->autowoe>=1.2->lightautoml) (0.7.12)\n",
      "Requirement already satisfied: imagesize in /usr/local/lib/python3.7/dist-packages (from sphinx->autowoe>=1.2->lightautoml) (1.3.0)\n",
      "Requirement already satisfied: docutils<0.18,>=0.11 in /usr/local/lib/python3.7/dist-packages (from sphinx->autowoe>=1.2->lightautoml) (0.17.1)\n",
      "Requirement already satisfied: Pygments>=2.0 in /usr/local/lib/python3.7/dist-packages (from sphinx->autowoe>=1.2->lightautoml) (2.6.1)\n",
      "Requirement already satisfied: requests>=2.0.0 in /usr/local/lib/python3.7/dist-packages (from sphinx->autowoe>=1.2->lightautoml) (2.23.0)\n",
      "Requirement already satisfied: snowballstemmer>=1.1 in /usr/local/lib/python3.7/dist-packages (from sphinx->autowoe>=1.2->lightautoml) (2.2.0)\n",
      "Requirement already satisfied: babel!=2.0,>=1.3 in /usr/local/lib/python3.7/dist-packages (from sphinx->autowoe>=1.2->lightautoml) (2.9.1)\n",
      "Requirement already satisfied: sphinxcontrib-websupport in /usr/local/lib/python3.7/dist-packages (from sphinx->autowoe>=1.2->lightautoml) (1.2.4)\n",
      "Requirement already satisfied: idna<3,>=2.5 in /usr/local/lib/python3.7/dist-packages (from requests>=2.0.0->sphinx->autowoe>=1.2->lightautoml) (2.10)\n",
      "Requirement already satisfied: urllib3!=1.25.0,!=1.25.1,<1.26,>=1.21.1 in /usr/local/lib/python3.7/dist-packages (from requests>=2.0.0->sphinx->autowoe>=1.2->lightautoml) (1.24.3)\n",
      "Requirement already satisfied: chardet<4,>=3.0.2 in /usr/local/lib/python3.7/dist-packages (from requests>=2.0.0->sphinx->autowoe>=1.2->lightautoml) (3.0.4)\n",
      "Requirement already satisfied: certifi>=2017.4.17 in /usr/local/lib/python3.7/dist-packages (from requests>=2.0.0->sphinx->autowoe>=1.2->lightautoml) (2021.10.8)\n",
      "Requirement already satisfied: sphinxcontrib-serializinghtml in /usr/local/lib/python3.7/dist-packages (from sphinxcontrib-websupport->sphinx->autowoe>=1.2->lightautoml) (1.1.5)\n",
      "Collecting torchvision\n",
      "  Downloading torchvision-0.11.2-cp37-cp37m-manylinux1_x86_64.whl (23.3 MB)\n",
      "\u001b[K     |████████████████████████████████| 23.3 MB 81.1 MB/s \n",
      "\u001b[?25h  Downloading torchvision-0.11.1-cp37-cp37m-manylinux1_x86_64.whl (23.3 MB)\n",
      "\u001b[K     |████████████████████████████████| 23.3 MB 1.2 MB/s \n",
      "\u001b[?25h  Downloading torchvision-0.10.1-cp37-cp37m-manylinux1_x86_64.whl (22.1 MB)\n",
      "\u001b[K     |████████████████████████████████| 22.1 MB 1.3 MB/s \n",
      "\u001b[?25h  Downloading torchvision-0.10.0-cp37-cp37m-manylinux1_x86_64.whl (22.1 MB)\n",
      "\u001b[K     |████████████████████████████████| 22.1 MB 1.3 MB/s \n",
      "\u001b[?25h  Downloading torchvision-0.9.1-cp37-cp37m-manylinux1_x86_64.whl (17.4 MB)\n",
      "\u001b[K     |████████████████████████████████| 17.4 MB 111 kB/s \n",
      "\u001b[?25hRequirement already satisfied: pillow>=4.1.1 in /usr/local/lib/python3.7/dist-packages (from torchvision->lightautoml) (7.1.2)\n",
      "Building wheels for collected packages: json2html, pyperclip\n",
      "  Building wheel for json2html (setup.py) ... \u001b[?25l\u001b[?25hdone\n",
      "  Created wheel for json2html: filename=json2html-1.3.0-py3-none-any.whl size=7609 sha256=fc7bc84009f2785e31d52b70f3323950a93e871611ecd71217b4d72d2c11fdd3\n",
      "  Stored in directory: /root/.cache/pip/wheels/e5/99/37/e1839a5ad733e0d6abb7e0419fd913e8926ddf96408239ce01\n",
      "  Building wheel for pyperclip (setup.py) ... \u001b[?25l\u001b[?25hdone\n",
      "  Created wheel for pyperclip: filename=pyperclip-1.8.2-py3-none-any.whl size=11136 sha256=0ed6f88fb4440ea0de4c61a2a8a09092e1d4f5ba76afd1d3117e381993991094\n",
      "  Stored in directory: /root/.cache/pip/wheels/9f/18/84/8f69f8b08169c7bae2dde6bd7daf0c19fca8c8e500ee620a28\n",
      "Successfully built json2html pyperclip\n",
      "Installing collected packages: numpy, pyperclip, pbr, importlib-metadata, stevedore, Mako, cmd2, autopage, torch, sphinx-rtd-theme, lightgbm, colorlog, cmaes, cliff, alembic, torchvision, poetry-core, optuna, json2html, dataclasses, catboost, autowoe, lightautoml\n",
      "  Attempting uninstall: numpy\n",
      "    Found existing installation: numpy 1.19.5\n",
      "    Uninstalling numpy-1.19.5:\n",
      "      Successfully uninstalled numpy-1.19.5\n",
      "  Attempting uninstall: importlib-metadata\n",
      "    Found existing installation: importlib-metadata 4.8.2\n",
      "    Uninstalling importlib-metadata-4.8.2:\n",
      "      Successfully uninstalled importlib-metadata-4.8.2\n",
      "  Attempting uninstall: torch\n",
      "    Found existing installation: torch 1.10.0+cu111\n",
      "    Uninstalling torch-1.10.0+cu111:\n",
      "      Successfully uninstalled torch-1.10.0+cu111\n",
      "  Attempting uninstall: lightgbm\n",
      "    Found existing installation: lightgbm 2.2.3\n",
      "    Uninstalling lightgbm-2.2.3:\n",
      "      Successfully uninstalled lightgbm-2.2.3\n",
      "  Attempting uninstall: torchvision\n",
      "    Found existing installation: torchvision 0.11.1+cu111\n",
      "    Uninstalling torchvision-0.11.1+cu111:\n",
      "      Successfully uninstalled torchvision-0.11.1+cu111\n",
      "\u001b[31mERROR: pip's dependency resolver does not currently take into account all the packages that are installed. This behaviour is the source of the following dependency conflicts.\n",
      "yellowbrick 1.3.post1 requires numpy<1.20,>=1.16.0, but you have numpy 1.21.5 which is incompatible.\n",
      "torchtext 0.11.0 requires torch==1.10.0, but you have torch 1.8.1 which is incompatible.\n",
      "torchaudio 0.10.0+cu111 requires torch==1.10.0, but you have torch 1.8.1 which is incompatible.\n",
      "markdown 3.3.6 requires importlib-metadata>=4.4; python_version < \"3.10\", but you have importlib-metadata 1.7.0 which is incompatible.\n",
      "datascience 0.10.6 requires folium==0.2.1, but you have folium 0.8.3 which is incompatible.\n",
      "albumentations 0.1.12 requires imgaug<0.2.7,>=0.2.5, but you have imgaug 0.2.9 which is incompatible.\u001b[0m\n",
      "Successfully installed Mako-1.1.6 alembic-1.7.5 autopage-0.4.0 autowoe-1.2.5 catboost-1.0.3 cliff-3.10.0 cmaes-0.8.2 cmd2-2.3.3 colorlog-6.6.0 dataclasses-0.6 importlib-metadata-1.7.0 json2html-1.3.0 lightautoml-0.3.2 lightgbm-2.3.1 numpy-1.21.5 optuna-2.10.0 pbr-5.8.0 poetry-core-1.0.7 pyperclip-1.8.2 sphinx-rtd-theme-1.0.0 stevedore-3.5.0 torch-1.8.1 torchvision-0.9.1\n"
     ]
    },
    {
     "data": {
      "application/vnd.colab-display-data+json": {
       "pip_warning": {
        "packages": [
         "numpy"
        ]
       }
      }
     },
     "metadata": {},
     "output_type": "display_data"
    }
   ],
   "source": [
    "!pip install lightautoml"
   ]
  },
  {
   "cell_type": "code",
   "execution_count": null,
   "metadata": {
    "id": "E7lTtRhLFYZD"
   },
   "outputs": [],
   "source": [
    "from lightautoml.automl.presets.tabular_presets import TabularAutoML, TabularUtilizedAutoML\n",
    "from lightautoml.tasks import Task\n",
    "from lightautoml.tasks.common_metric import mean_quantile_error, rmsle"
   ]
  },
  {
   "cell_type": "code",
   "execution_count": null,
   "metadata": {
    "id": "rhyC2XOaFjMK"
   },
   "outputs": [],
   "source": [
    "# также как lightgbm\n",
    "train_data = ...."
   ]
  },
  {
   "cell_type": "code",
   "execution_count": null,
   "metadata": {
    "id": "EbpJfhfmFulx"
   },
   "outputs": [],
   "source": [
    "TASK = Task('reg', loss='mse', metric=mean_quantile_error, greater_is_better=False)\n",
    "TIMEOUT = 300000\n",
    "N_THREADS = 4\n",
    "N_FOLDS = 5\n",
    "RANDOM_STATE = 42\n",
    "TARGET_NAME = 'Bought_notBought'\n",
    "TEST_SIZE=0.2"
   ]
  },
  {
   "cell_type": "code",
   "execution_count": null,
   "metadata": {
    "id": "EYyI-p_qGcwr"
   },
   "outputs": [],
   "source": [
    "roles = {'target': TARGET_NAME, 'drop': ['user_id', 'item_id']}"
   ]
  },
  {
   "cell_type": "code",
   "execution_count": null,
   "metadata": {
    "id": "UmI78j7gGo_u"
   },
   "outputs": [],
   "source": [
    "automl_model = TabularAutoML(task=TASK,\n",
    "                            timeout=TIMEOUT,\n",
    "                            cpu_limit = N_THREADS,\n",
    "                            gpu_ids='all',\n",
    "                            reader_params = {'n_jobs': N_THREADS, 'cv': N_FOLDS, 'random_state': RANDOM_STATE},\n",
    "                             \n",
    "                            general_params={'use_algos': [ ['lgb_tuned', 'cb_tuned', 'cb', 'lgb'], ['lgb_tuned', 'cb'] ]},\n",
    "                             \n",
    "                            tuning_params={'max_tuning_iter': 10},\n",
    "                      )"
   ]
  },
  {
   "cell_type": "code",
   "execution_count": null,
   "metadata": {
    "id": "BX79EOQxG2zh"
   },
   "outputs": [],
   "source": [
    "oof_pred = automl_model.fit_predict(X_train, roles = roles)"
   ]
  }
 ],
 "metadata": {
  "colab": {
   "collapsed_sections": [],
   "name": "webinar_8_new.ipynb",
   "provenance": []
  },
  "kernelspec": {
   "display_name": "Python 3 (ipykernel)",
   "language": "python",
   "name": "python3"
  },
  "language_info": {
   "codemirror_mode": {
    "name": "ipython",
    "version": 3
   },
   "file_extension": ".py",
   "mimetype": "text/x-python",
   "name": "python",
   "nbconvert_exporter": "python",
   "pygments_lexer": "ipython3",
   "version": "3.9.12"
  }
 },
 "nbformat": 4,
 "nbformat_minor": 1
}
