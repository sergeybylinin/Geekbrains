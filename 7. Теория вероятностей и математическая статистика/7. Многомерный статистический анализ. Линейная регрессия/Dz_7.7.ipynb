{
 "cells": [
  {
   "cell_type": "markdown",
   "id": "350bc907",
   "metadata": {},
   "source": [
    "__Задача 1__\n",
    "\n",
    "Дана матрица объект-признак\n",
    "```\n",
    "X = [[ 1.22401313,  2.30868478,  3.03636353,  2.69287214],\n",
    "     [-0.18757272,  1.30337355,  5.12093014,  3.46363202],\n",
    "     [-0.81094525,  1.82463398,  5.79686488,  1.86159445],\n",
    "     [ 0.75129018,  2.67392052,  3.65529809,  1.66746094],\n",
    "     [ 0.00972362,  1.97367255,  2.50594319,  1.69755173],\n",
    "     [-0.62972637,  0.77750764,  2.84124027,  4.54410559],\n",
    "     [ 2.29536229,  1.81206697,  1.95026215,  1.51874636],\n",
    "     [ 0.0920418 ,  2.26971361,  7.47708735,  2.61081203],\n",
    "     [ 2.39252799,  3.17563985,  3.61420599,  5.10773362],\n",
    "     [ 0.54983815,  2.87988651,  1.65752765,  1.59635987]]\n",
    "```\n",
    "и значения целевой переменной\n",
    "```\n",
    "y = [ 9.26193358,  9.700363  ,  8.67214805,  8.74796974,  6.18689108,\n",
    "      7.53312713,  7.57643777, 12.44965478, 14.29010746,  6.68361218]\n",
    "```\n",
    "\n",
    "1. Подберите два признака (из четырёх) так, чтобы уровень линейной зависимости целевой переменной от значений этих признаков был максимальным. Другими словами, модель линейной регрессии на этих признаках должна давать наилучший результат.\n",
    "2. Является ли значимым получившееся уравнение регрессии?"
   ]
  },
  {
   "cell_type": "code",
   "execution_count": 1,
   "id": "680ee157",
   "metadata": {},
   "outputs": [],
   "source": [
    "import numpy as np\n",
    "from itertools import combinations\n",
    "from sklearn.linear_model import LinearRegression\n",
    "from sklearn.metrics import r2_score"
   ]
  },
  {
   "cell_type": "code",
   "execution_count": 2,
   "id": "a30d5bc4",
   "metadata": {},
   "outputs": [],
   "source": [
    "X = np.array([\n",
    "     [ 1.22401313,  2.30868478,  3.03636353,  2.69287214],\n",
    "     [-0.18757272,  1.30337355,  5.12093014,  3.46363202],\n",
    "     [-0.81094525,  1.82463398,  5.79686488,  1.86159445],\n",
    "     [ 0.75129018,  2.67392052,  3.65529809,  1.66746094],\n",
    "     [ 0.00972362,  1.97367255,  2.50594319,  1.69755173],\n",
    "     [-0.62972637,  0.77750764,  2.84124027,  4.54410559],\n",
    "     [ 2.29536229,  1.81206697,  1.95026215,  1.51874636],\n",
    "     [ 0.0920418 ,  2.26971361,  7.47708735,  2.61081203],\n",
    "     [ 2.39252799,  3.17563985,  3.61420599,  5.10773362],\n",
    "     [ 0.54983815,  2.87988651,  1.65752765,  1.59635987]\n",
    "])\n",
    "\n",
    "y = np.array([9.26193358,  9.700363  ,  8.67214805,  8.74796974,  6.18689108,\n",
    "             7.53312713,  7.57643777, 12.44965478, 14.29010746,  6.68361218])"
   ]
  },
  {
   "cell_type": "code",
   "execution_count": 3,
   "id": "7e374a5b",
   "metadata": {},
   "outputs": [
    {
     "name": "stdout",
     "output_type": "stream",
     "text": [
      "Наилучшая модель построина на признаках 0 и 2.\n",
      "Значение коэффициента детермиции этой модели 0.76\n"
     ]
    }
   ],
   "source": [
    "R2 = 0\n",
    "for ij in combinations(range(X.shape[1]), r=2): # все комбинации признаков\n",
    "    x = X[:, ij] # оставляем 2 признака\n",
    "    model = LinearRegression().fit(x, y) # cоздадим модель и потренеруем ее\n",
    "    y_predict = model.predict(x) # предскажем данные\n",
    "    r2 = r2_score(y, y_predict) # оценим модель\n",
    "    if r2 > R2: # ecли наша модель лучшая\n",
    "        R2 = r2 # сохраним значение ее оценки\n",
    "        IJ = ij # и номера столбцов\n",
    "        best_model = model\n",
    "print(f'Наилучшая модель построина на признаках {IJ[0]} и {IJ[1]}.')\n",
    "print(f'Значение коэффициента детермиции этой модели {round(R2, 2)}')"
   ]
  },
  {
   "cell_type": "markdown",
   "id": "7efa5805",
   "metadata": {},
   "source": [
    "__Задача 2__\n",
    "\n",
    "Даны значения величины заработной платы заемщиков банка (`salary`) и значения их поведенческого кредитного скоринга (`scoring`):\n",
    "```\n",
    "salary = [35, 45, 190, 200, 40, 70, 54, 150, 120, 110]\n",
    "scoring = [401, 574, 874, 919, 459, 739, 653, 902, 746, 832]\n",
    "```\n",
    "Возьмём в качестве признака значение `salary`, а в качестве целевой переменной - `scoring`.\n",
    "\n",
    "1. Найдите коэффициенты линейной регрессии с помощью формул для парной регрессии, а затем с помощью метода наименьших квадратов.\n",
    "2. Постройте `scatter plot` по данным и отметьте на нём прямую линейной регрессии, полученную в п. 1.\n",
    "3. Посчитайте коэффициент детерминации.\n",
    "4. Оцените построенное уравнение регрессии с помощью F-критерия Фишера.\n",
    "5. (доп) Посчитать среднюю ошибку аппроксимации"
   ]
  },
  {
   "cell_type": "code",
   "execution_count": 4,
   "id": "558342bb",
   "metadata": {},
   "outputs": [],
   "source": [
    "salary = [35, 45, 190, 200, 40, 70, 54, 150, 120, 110]\n",
    "scoring = [401, 574, 874, 919, 459, 739, 653, 902, 746, 832]"
   ]
  },
  {
   "cell_type": "markdown",
   "id": "75966436",
   "metadata": {},
   "source": [
    "Найдите коэффициенты линейной регрессии"
   ]
  },
  {
   "cell_type": "code",
   "execution_count": 5,
   "id": "f6261114",
   "metadata": {},
   "outputs": [
    {
     "data": {
      "text/plain": [
       "(444.1773573243596, 2.620538882402765)"
      ]
     },
     "execution_count": 5,
     "metadata": {},
     "output_type": "execute_result"
    }
   ],
   "source": [
    "x1 = np.array(salary)\n",
    "y1 = np.array(scoring)\n",
    "\n",
    "b1 = (np.mean(x1 * y1) - np.mean(x1) * np.mean(y1)) / (np.mean(x1 ** 2) - np.mean(x1) ** 2)\n",
    "b0 = np.mean(y1) - b1 * np.mean(x1)\n",
    "\n",
    "b0, b1"
   ]
  },
  {
   "cell_type": "code",
   "execution_count": 6,
   "id": "b0ebc0c7",
   "metadata": {},
   "outputs": [],
   "source": [
    "from matplotlib import pyplot as plt\n",
    "plt.style.use('seaborn-whitegrid')"
   ]
  },
  {
   "cell_type": "code",
   "execution_count": 7,
   "id": "cffc9171",
   "metadata": {},
   "outputs": [
    {
     "data": {
      "image/png": "[encoded data removed]",
      "text/plain": [
       "<Figure size 432x288 with 1 Axes>"
      ]
     },
     "metadata": {},
     "output_type": "display_data"
    }
   ],
   "source": [
    "plt.scatter(x1, y1)\n",
    "plt.plot(x1, b0 + b1 * x1, color='red', alpha=0.5)\n",
    "plt.xlabel('Salary')\n",
    "plt.ylabel('Scoring')\n",
    "R1 = np.corrcoef(x1, y1)[0, 1] ** 2\n",
    "plt.title(f'Коэффициент детерминации: {round(R1, 2)}')\n",
    "plt.show()"
   ]
  },
  {
   "cell_type": "markdown",
   "id": "f4a47d62",
   "metadata": {},
   "source": [
    "Проверим значимость уравнения регрессии"
   ]
  },
  {
   "cell_type": "code",
   "execution_count": 8,
   "id": "0f7f8bbb",
   "metadata": {},
   "outputs": [
    {
     "data": {
      "text/plain": [
       "(1, 8)"
      ]
     },
     "execution_count": 8,
     "metadata": {},
     "output_type": "execute_result"
    }
   ],
   "source": [
    "n = x1.shape[0]\n",
    "m = 1\n",
    "\n",
    "k1 = m\n",
    "k2 = n - m - 1\n",
    "\n",
    "k1, k2"
   ]
  },
  {
   "cell_type": "markdown",
   "id": "45236e12",
   "metadata": {},
   "source": [
    "Возьмём уровень значимости $\\alpha = 0.05$. Нужный нам квантиль можно посчитать с помощью функции `scipy.stats.f.ppf`:"
   ]
  },
  {
   "cell_type": "code",
   "execution_count": 9,
   "id": "bef9eb97",
   "metadata": {},
   "outputs": [],
   "source": [
    "from scipy import stats"
   ]
  },
  {
   "cell_type": "code",
   "execution_count": 10,
   "id": "2928d341",
   "metadata": {},
   "outputs": [
    {
     "data": {
      "text/plain": [
       "5.317655071578714"
      ]
     },
     "execution_count": 10,
     "metadata": {},
     "output_type": "execute_result"
    }
   ],
   "source": [
    "alpha = 0.05\n",
    "\n",
    "t = stats.f.ppf(1 - alpha, k1, k2)\n",
    "t"
   ]
  },
  {
   "cell_type": "markdown",
   "id": "3072b62e",
   "metadata": {},
   "source": [
    "Итак, критическая область:\n",
    "$$\\Omega_\\alpha = \\left( 5.31, \\infty \\right)$$"
   ]
  },
  {
   "cell_type": "code",
   "execution_count": 11,
   "id": "9ddde81b",
   "metadata": {},
   "outputs": [
    {
     "data": {
      "text/plain": [
       "29.671640859664432"
      ]
     },
     "execution_count": 11,
     "metadata": {},
     "output_type": "execute_result"
    }
   ],
   "source": [
    "F = (R1 / k1) / ((1 - R1) / k2)\n",
    "F"
   ]
  },
  {
   "cell_type": "markdown",
   "id": "118664e2",
   "metadata": {},
   "source": [
    "Статистика попала в критическую область, уравнение регрессии признаётся значимым."
   ]
  },
  {
   "cell_type": "markdown",
   "id": "08b760f9",
   "metadata": {},
   "source": [
    "Посчитать среднюю ошибку аппроксимации"
   ]
  },
  {
   "cell_type": "code",
   "execution_count": 12,
   "id": "631496b6",
   "metadata": {},
   "outputs": [],
   "source": [
    "z1 = b0 + b1 * x1"
   ]
  },
  {
   "cell_type": "code",
   "execution_count": 13,
   "id": "9b14988e",
   "metadata": {},
   "outputs": [],
   "source": [
    "def mean_approximation_error(y_real, y_pred):\n",
    "    return np.abs((y_real - y_pred) / y_real).mean()"
   ]
  },
  {
   "cell_type": "code",
   "execution_count": 14,
   "id": "ffc8ddee",
   "metadata": {},
   "outputs": [
    {
     "data": {
      "text/plain": [
       "0.11469251843561709"
      ]
     },
     "execution_count": 14,
     "metadata": {},
     "output_type": "execute_result"
    }
   ],
   "source": [
    "mean_approximation_error(y1, z1)"
   ]
  }
 ],
 "metadata": {
  "kernelspec": {
   "display_name": "Python 3 (ipykernel)",
   "language": "python",
   "name": "python3"
  },
  "language_info": {
   "codemirror_mode": {
    "name": "ipython",
    "version": 3
   },
   "file_extension": ".py",
   "mimetype": "text/x-python",
   "name": "python",
   "nbconvert_exporter": "python",
   "pygments_lexer": "ipython3",
   "version": "3.9.12"
  }
 },
 "nbformat": 4,
 "nbformat_minor": 5
}
