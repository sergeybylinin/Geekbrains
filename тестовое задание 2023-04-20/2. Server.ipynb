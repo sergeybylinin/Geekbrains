{
 "cells": [
  {
   "cell_type": "markdown",
   "id": "07a8ba21",
   "metadata": {},
   "source": [
    "#### Сервис для обработки запросов на Flask"
   ]
  },
  {
   "cell_type": "code",
   "execution_count": 1,
   "id": "3444d8fb",
   "metadata": {},
   "outputs": [],
   "source": [
    "from flask import Flask, request, jsonify\n",
    "import numpy as np\n",
    "import pandas as pd\n",
    "\n",
    "import matplotlib.pyplot as plt\n",
    "\n",
    "from sklearn.preprocessing import MinMaxScaler\n",
    "from sklearn.metrics import precision_recall_curve\n",
    "\n",
    "import dill"
   ]
  },
  {
   "cell_type": "code",
   "execution_count": 2,
   "id": "ffb11a8b",
   "metadata": {},
   "outputs": [],
   "source": [
    "# Загружаем обученные модели\n",
    "with open('model.dill', 'rb') as in_strm:\n",
    "    model = dill.load(in_strm)"
   ]
  },
  {
   "cell_type": "code",
   "execution_count": null,
   "id": "cdcedc93",
   "metadata": {},
   "outputs": [
    {
     "name": "stdout",
     "output_type": "stream",
     "text": [
      " * Serving Flask app \"__main__\" (lazy loading)\n",
      " * Environment: production\n",
      "\u001b[31m   WARNING: This is a development server. Do not use it in a production deployment.\u001b[0m\n",
      "\u001b[2m   Use a production WSGI server instead.\u001b[0m\n",
      " * Debug mode: off\n"
     ]
    },
    {
     "name": "stderr",
     "output_type": "stream",
     "text": [
      " * Running on http://127.0.0.1:5000/ (Press CTRL+C to quit)\n",
      "127.0.0.1 - - [20/Apr/2023 18:12:00] \"POST /predict HTTP/1.1\" 200 -\n"
     ]
    }
   ],
   "source": [
    "# Обработчики и запуск Flask\n",
    "app = Flask(__name__)\n",
    "#run_with_ngrok(app)  # Start ngrok when app is run\n",
    "\n",
    "@app.route('/predict', methods=['GET', 'POST'])\n",
    "def predict():\n",
    "    data = {\"success\": False}\n",
    "    # ensure an image was properly uploaded to our endpoint\n",
    "    if request.method == \"POST\":\n",
    "        A = ''\n",
    "        B = ''\n",
    "        C = ''\n",
    "        D = ''\n",
    "        E = ''\n",
    "        F = ''\n",
    "        G = ''\n",
    "        \n",
    "        request_json = request.get_json()\n",
    "        \n",
    "    if request_json[\"A\"]: A = request_json[\"A\"]\n",
    "    if request_json[\"B\"]: B = request_json[\"B\"]\n",
    "    if request_json[\"C\"]: C = request_json[\"C\"]\n",
    "    if request_json[\"D\"]: D = request_json[\"D\"]\n",
    "    if request_json[\"E\"]: E = request_json[\"E\"]\n",
    "    if request_json[\"F\"]: F = request_json[\"F\"]\n",
    "    if request_json[\"G\"]: G = request_json[\"G\"]\n",
    "        \n",
    "    preds = model.predict_proba(pd.DataFrame({\n",
    "        \"A\": [A],\n",
    "        \"B\": [B],\n",
    "        \"C\": [C],\n",
    "        \"D\": [D],\n",
    "        \"E\": [E],\n",
    "        \"F\": [F],\n",
    "        'G': [G]\n",
    "    }))\n",
    "    data[\"predictions\"] = preds[:, 1][0]\n",
    "    # indicate that the request was a success\n",
    "    data[\"success\"] = True\n",
    "    \n",
    "    # return the data dictionary as a JSON response\n",
    "    return jsonify(data)\n",
    "\n",
    "\n",
    "if __name__ == '__main__':\n",
    "    app.run()"
   ]
  }
 ],
 "metadata": {
  "kernelspec": {
   "display_name": "Python 3 (ipykernel)",
   "language": "python",
   "name": "python3"
  },
  "language_info": {
   "codemirror_mode": {
    "name": "ipython",
    "version": 3
   },
   "file_extension": ".py",
   "mimetype": "text/x-python",
   "name": "python",
   "nbconvert_exporter": "python",
   "pygments_lexer": "ipython3",
   "version": "3.9.12"
  }
 },
 "nbformat": 4,
 "nbformat_minor": 5
}
