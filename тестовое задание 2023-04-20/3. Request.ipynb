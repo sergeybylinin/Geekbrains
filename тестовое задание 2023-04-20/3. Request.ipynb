{
 "cells": [
  {
   "cell_type": "markdown",
   "id": "d533d9be",
   "metadata": {},
   "source": [
    "#### Запрос к сервису"
   ]
  },
  {
   "cell_type": "code",
   "execution_count": 1,
   "id": "119bfa1e",
   "metadata": {},
   "outputs": [],
   "source": [
    "import pandas as pd\n",
    "import requests\n",
    "import json\n",
    "from urllib import request, parse\n",
    "from sklearn.metrics import precision_recall_curve"
   ]
  },
  {
   "cell_type": "code",
   "execution_count": 2,
   "id": "78ccd415",
   "metadata": {},
   "outputs": [
    {
     "name": "stdout",
     "output_type": "stream",
     "text": [
      "предсказание 0.3901436665831172\n"
     ]
    }
   ],
   "source": [
    "# Пример данных\n",
    "data = (\n",
    "    0.336239, # A\n",
    "    0.246121, # B\n",
    "    0.216618, # C\n",
    "    0.002563, # D\n",
    "    0.157829, # E\n",
    "    0.024239, # F\n",
    "    0.433902  # G\n",
    ")\n",
    "\n",
    "# формируем запрос\n",
    "def send_json(x):\n",
    "    A, B, C, D, E, F, G = x\n",
    "    body = {\"A\": A, \"B\": B, \"C\": C, \"D\": D, \"E\": E, \"F\": F, \"G\": G}\n",
    "    myurl = 'http://127.0.0.1:5000/'+'predict'\n",
    "    headers = {'content-type': 'application/json; charset=utf-8'}\n",
    "    response = requests.post(myurl, json=body, headers=headers)\n",
    "    return response.json()['predictions']\n",
    "\n",
    "# обращение к серверу с запросом из одного набора\n",
    "if __name__ == '__main__':\n",
    "    response = send_json(data)\n",
    "    print('предсказание', response)"
   ]
  }
 ],
 "metadata": {
  "kernelspec": {
   "display_name": "Python 3 (ipykernel)",
   "language": "python",
   "name": "python3"
  },
  "language_info": {
   "codemirror_mode": {
    "name": "ipython",
    "version": 3
   },
   "file_extension": ".py",
   "mimetype": "text/x-python",
   "name": "python",
   "nbconvert_exporter": "python",
   "pygments_lexer": "ipython3",
   "version": "3.9.12"
  }
 },
 "nbformat": 4,
 "nbformat_minor": 5
}
