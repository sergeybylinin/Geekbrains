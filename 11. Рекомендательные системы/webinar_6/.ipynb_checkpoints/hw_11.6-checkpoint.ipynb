{
 "cells": [
  {
   "cell_type": "code",
   "execution_count": 1,
   "metadata": {},
   "outputs": [],
   "source": [
    "import pandas as pd\n",
    "import numpy as np\n",
    "import matplotlib.pyplot as plt\n",
    "%matplotlib inline\n",
    "\n",
    "from scipy.sparse import csr_matrix\n",
    "\n",
    "from implicit import als\n",
    "\n",
    "from lightgbm import LGBMClassifier\n",
    "\n",
    "from sklearn.metrics import precision_recall_curve, roc_auc_score\n",
    "\n",
    "import os, sys\n",
    "module_path = os.path.abspath(os.path.join(os.pardir))\n",
    "if module_path not in sys.path:\n",
    "    sys.path.append(module_path)\n",
    "sys.path.append('../webinar_4/')    \n",
    "\n",
    "from src.metrics import precision_at_k, recall_at_k\n",
    "from src.utils import prefilter_items\n",
    "from src.recommenders import MainRecommender"
   ]
  },
  {
   "cell_type": "code",
   "execution_count": 2,
   "metadata": {},
   "outputs": [],
   "source": [
    "data = pd.read_csv('../webinar_2/retail_train.csv')\n",
    "item_features = pd.read_csv('../webinar_2/product.csv')\n",
    "user_features = pd.read_csv('../webinar_2/hh_demographic.csv')"
   ]
  },
  {
   "cell_type": "code",
   "execution_count": 3,
   "metadata": {},
   "outputs": [],
   "source": [
    "item_features.columns = [col.lower() for col in item_features.columns]\n",
    "user_features.columns = [col.lower() for col in user_features.columns]\n",
    "\n",
    "item_features.rename(columns={'product_id': 'item_id'}, inplace=True)\n",
    "user_features.rename(columns={'household_key': 'user_id'}, inplace=True)"
   ]
  },
  {
   "cell_type": "code",
   "execution_count": 4,
   "metadata": {},
   "outputs": [
    {
     "data": {
      "text/html": [
       "<div>\n",
       "<style scoped>\n",
       "    .dataframe tbody tr th:only-of-type {\n",
       "        vertical-align: middle;\n",
       "    }\n",
       "\n",
       "    .dataframe tbody tr th {\n",
       "        vertical-align: top;\n",
       "    }\n",
       "\n",
       "    .dataframe thead th {\n",
       "        text-align: right;\n",
       "    }\n",
       "</style>\n",
       "<table border=\"1\" class=\"dataframe\">\n",
       "  <thead>\n",
       "    <tr style=\"text-align: right;\">\n",
       "      <th></th>\n",
       "      <th>user_id</th>\n",
       "      <th>basket_id</th>\n",
       "      <th>day</th>\n",
       "      <th>item_id</th>\n",
       "      <th>quantity</th>\n",
       "      <th>sales_value</th>\n",
       "      <th>store_id</th>\n",
       "      <th>retail_disc</th>\n",
       "      <th>trans_time</th>\n",
       "      <th>week_no</th>\n",
       "      <th>coupon_disc</th>\n",
       "      <th>coupon_match_disc</th>\n",
       "    </tr>\n",
       "  </thead>\n",
       "  <tbody>\n",
       "    <tr>\n",
       "      <th>2277416</th>\n",
       "      <td>338</td>\n",
       "      <td>41260573635</td>\n",
       "      <td>636</td>\n",
       "      <td>840173</td>\n",
       "      <td>1</td>\n",
       "      <td>1.99</td>\n",
       "      <td>369</td>\n",
       "      <td>0.0</td>\n",
       "      <td>112</td>\n",
       "      <td>92</td>\n",
       "      <td>0.0</td>\n",
       "      <td>0.0</td>\n",
       "    </tr>\n",
       "    <tr>\n",
       "      <th>2277417</th>\n",
       "      <td>338</td>\n",
       "      <td>41260573635</td>\n",
       "      <td>636</td>\n",
       "      <td>1037348</td>\n",
       "      <td>1</td>\n",
       "      <td>0.89</td>\n",
       "      <td>369</td>\n",
       "      <td>-0.3</td>\n",
       "      <td>112</td>\n",
       "      <td>92</td>\n",
       "      <td>0.0</td>\n",
       "      <td>0.0</td>\n",
       "    </tr>\n",
       "  </tbody>\n",
       "</table>\n",
       "</div>"
      ],
      "text/plain": [
       "         user_id    basket_id  day  item_id  quantity  sales_value  store_id  \\\n",
       "2277416      338  41260573635  636   840173         1         1.99       369   \n",
       "2277417      338  41260573635  636  1037348         1         0.89       369   \n",
       "\n",
       "         retail_disc  trans_time  week_no  coupon_disc  coupon_match_disc  \n",
       "2277416          0.0         112       92          0.0                0.0  \n",
       "2277417         -0.3         112       92          0.0                0.0  "
      ]
     },
     "execution_count": 4,
     "metadata": {},
     "output_type": "execute_result"
    }
   ],
   "source": [
    "val_lvl_1_size_weeks = 6\n",
    "val_lvl_2_size_weeks = 3\n",
    "\n",
    "data_train_lvl_1 = data[data['week_no'] < data['week_no'].max() - (val_lvl_1_size_weeks + val_lvl_2_size_weeks)]\n",
    "data_val_lvl_1 = data[(data['week_no'] >= data['week_no'].max() - (val_lvl_1_size_weeks + val_lvl_2_size_weeks)) &\n",
    "                      (data['week_no'] < data['week_no'].max() - val_lvl_2_size_weeks)]\n",
    "data_train_lvl_2 = data_val_lvl_1.copy()\n",
    "data_val_lvl_2 = data[data['week_no'] >= data['week_no'].max() - val_lvl_2_size_weeks]\n",
    "\n",
    "data_val_lvl_2.head(2)"
   ]
  },
  {
   "cell_type": "code",
   "execution_count": 5,
   "metadata": {},
   "outputs": [
    {
     "name": "stdout",
     "output_type": "stream",
     "text": [
      "Decreased # items from 83685 to 5001\n"
     ]
    },
    {
     "name": "stderr",
     "output_type": "stream",
     "text": [
      "/home/sergey/anaconda3/lib/python3.7/site-packages/pandas/core/indexing.py:965: SettingWithCopyWarning: \n",
      "A value is trying to be set on a copy of a slice from a DataFrame.\n",
      "Try using .loc[row_indexer,col_indexer] = value instead\n",
      "\n",
      "See the caveats in the documentation: https://pandas.pydata.org/pandas-docs/stable/user_guide/indexing.html#returning-a-view-versus-a-copy\n",
      "  self.obj[item] = s\n"
     ]
    }
   ],
   "source": [
    "n_items_before = data_train_lvl_1['item_id'].nunique()\n",
    "\n",
    "top_5000 = data_train_lvl_1.groupby('item_id')['quantity'].sum().reset_index()\\\n",
    "    .sort_values('quantity', ascending=False).head(5000).item_id.tolist()\n",
    "data_train_lvl_1.loc[~data_train_lvl_1['item_id'].isin(top_5000), 'item_id'] = 999999\n",
    "\n",
    "n_items_after = data_train_lvl_1['item_id'].nunique()\n",
    "print('Decreased # items from {} to {}'.format(n_items_before, n_items_after))"
   ]
  },
  {
   "cell_type": "code",
   "execution_count": 6,
   "metadata": {},
   "outputs": [
    {
     "name": "stderr",
     "output_type": "stream",
     "text": [
      "WARNING:root:Intel MKL BLAS detected. Its highly recommend to set the environment variable 'export MKL_NUM_THREADS=1' to disable its internal multithreading\n"
     ]
    }
   ],
   "source": [
    "recommender = MainRecommender(data_train_lvl_1)"
   ]
  },
  {
   "cell_type": "code",
   "execution_count": 7,
   "metadata": {},
   "outputs": [
    {
     "data": {
      "text/plain": [
       "<src.recommenders.MainRecommender at 0x7f7c898ceb50>"
      ]
     },
     "execution_count": 7,
     "metadata": {},
     "output_type": "execute_result"
    }
   ],
   "source": [
    "recommender"
   ]
  },
  {
   "cell_type": "code",
   "execution_count": 8,
   "metadata": {},
   "outputs": [
    {
     "data": {
      "text/plain": [
       "[1082185, 981760, 923746, 904360, 1044078]"
      ]
     },
     "execution_count": 8,
     "metadata": {},
     "output_type": "execute_result"
    }
   ],
   "source": [
    "recommender.get_als_recommendations(2375, N=5)"
   ]
  },
  {
   "cell_type": "code",
   "execution_count": 9,
   "metadata": {},
   "outputs": [
    {
     "data": {
      "text/plain": [
       "[1082185, 1098066, 1127831, 1004906, 1081177]"
      ]
     },
     "execution_count": 9,
     "metadata": {},
     "output_type": "execute_result"
    }
   ],
   "source": [
    "recommender.get_own_recommendations(2375, N=5)"
   ]
  },
  {
   "cell_type": "code",
   "execution_count": 10,
   "metadata": {},
   "outputs": [
    {
     "data": {
      "text/plain": [
       "[857697, 889731, 1081177, 1046545, 899624]"
      ]
     },
     "execution_count": 10,
     "metadata": {},
     "output_type": "execute_result"
    }
   ],
   "source": [
    "recommender.get_similar_items_recommendation(2375, N=5)"
   ]
  },
  {
   "cell_type": "code",
   "execution_count": 11,
   "metadata": {},
   "outputs": [
    {
     "data": {
      "text/plain": [
       "[6534178, 1082185, 1029743, 1098066, 995785]"
      ]
     },
     "execution_count": 11,
     "metadata": {},
     "output_type": "execute_result"
    }
   ],
   "source": [
    "recommender.get_similar_users_recommendation(2375, N=5)"
   ]
  },
  {
   "cell_type": "markdown",
   "metadata": {},
   "source": [
    "---"
   ]
  },
  {
   "cell_type": "markdown",
   "metadata": {},
   "source": [
    "### Измеряем recall@k"
   ]
  },
  {
   "cell_type": "markdown",
   "metadata": {},
   "source": [
    "A) Попробуйте различные варианты генерации кандидатов. Какие из них дают наибольший recall@k ?\n",
    "- Пока пробуем отобрать 50 кандидатов (k=50)\n",
    "- Качество измеряем на data_val_lvl_1: следующие 6 недель после трейна\n",
    "\n",
    "Дают ли own recommendtions + top-popular лучший recall?"
   ]
  },
  {
   "cell_type": "code",
   "execution_count": 12,
   "metadata": {},
   "outputs": [
    {
     "data": {
      "text/html": [
       "<div>\n",
       "<style scoped>\n",
       "    .dataframe tbody tr th:only-of-type {\n",
       "        vertical-align: middle;\n",
       "    }\n",
       "\n",
       "    .dataframe tbody tr th {\n",
       "        vertical-align: top;\n",
       "    }\n",
       "\n",
       "    .dataframe thead th {\n",
       "        text-align: right;\n",
       "    }\n",
       "</style>\n",
       "<table border=\"1\" class=\"dataframe\">\n",
       "  <thead>\n",
       "    <tr style=\"text-align: right;\">\n",
       "      <th></th>\n",
       "      <th>user_id</th>\n",
       "      <th>actual</th>\n",
       "    </tr>\n",
       "  </thead>\n",
       "  <tbody>\n",
       "    <tr>\n",
       "      <th>0</th>\n",
       "      <td>1</td>\n",
       "      <td>[853529, 865456, 867607, 872137, 874905, 87524...</td>\n",
       "    </tr>\n",
       "    <tr>\n",
       "      <th>1</th>\n",
       "      <td>2</td>\n",
       "      <td>[15830248, 838136, 839656, 861272, 866211, 870...</td>\n",
       "    </tr>\n",
       "    <tr>\n",
       "      <th>2</th>\n",
       "      <td>4</td>\n",
       "      <td>[883932, 970760, 1035676, 1055863, 1097610, 67...</td>\n",
       "    </tr>\n",
       "  </tbody>\n",
       "</table>\n",
       "</div>"
      ],
      "text/plain": [
       "   user_id                                             actual\n",
       "0        1  [853529, 865456, 867607, 872137, 874905, 87524...\n",
       "1        2  [15830248, 838136, 839656, 861272, 866211, 870...\n",
       "2        4  [883932, 970760, 1035676, 1055863, 1097610, 67..."
      ]
     },
     "execution_count": 12,
     "metadata": {},
     "output_type": "execute_result"
    }
   ],
   "source": [
    "result_lvl_1 = data_val_lvl_1.groupby('user_id')['item_id'].unique().reset_index()\\\n",
    "    .rename(columns={'item_id': 'actual'})\n",
    "result_lvl_1.head(3)"
   ]
  },
  {
   "cell_type": "code",
   "execution_count": 13,
   "metadata": {},
   "outputs": [],
   "source": [
    "result_lvl_1 = result_lvl_1[result_lvl_1['user_id'].isin(data_train_lvl_1['user_id'].unique())]"
   ]
  },
  {
   "cell_type": "code",
   "execution_count": 14,
   "metadata": {},
   "outputs": [],
   "source": [
    "k=50"
   ]
  },
  {
   "cell_type": "code",
   "execution_count": 15,
   "metadata": {},
   "outputs": [],
   "source": [
    "result_lvl_1['own'] = result_lvl_1['user_id'].apply(\n",
    "    lambda x: recommender.get_own_recommendations(x, N=k))"
   ]
  },
  {
   "cell_type": "code",
   "execution_count": 16,
   "metadata": {},
   "outputs": [],
   "source": [
    "result_lvl_1['als'] = result_lvl_1['user_id'].apply(\n",
    "    lambda x: recommender.get_als_recommendations(x, N=k))"
   ]
  },
  {
   "cell_type": "code",
   "execution_count": 17,
   "metadata": {},
   "outputs": [],
   "source": [
    "result_lvl_1['similar_items'] = result_lvl_1['user_id'].apply(\n",
    "    lambda x: recommender.get_similar_items_recommendation(x, N=k))"
   ]
  },
  {
   "cell_type": "code",
   "execution_count": 18,
   "metadata": {},
   "outputs": [],
   "source": [
    "result_lvl_1['similar_users'] = result_lvl_1['user_id'].apply(\n",
    "    lambda x: recommender.get_similar_users_recommendation(x, N=k))"
   ]
  },
  {
   "cell_type": "code",
   "execution_count": 19,
   "metadata": {},
   "outputs": [
    {
     "data": {
      "text/html": [
       "<div>\n",
       "<style scoped>\n",
       "    .dataframe tbody tr th:only-of-type {\n",
       "        vertical-align: middle;\n",
       "    }\n",
       "\n",
       "    .dataframe tbody tr th {\n",
       "        vertical-align: top;\n",
       "    }\n",
       "\n",
       "    .dataframe thead th {\n",
       "        text-align: right;\n",
       "    }\n",
       "</style>\n",
       "<table border=\"1\" class=\"dataframe\">\n",
       "  <thead>\n",
       "    <tr style=\"text-align: right;\">\n",
       "      <th></th>\n",
       "      <th>recall_at_k</th>\n",
       "    </tr>\n",
       "  </thead>\n",
       "  <tbody>\n",
       "    <tr>\n",
       "      <th>own</th>\n",
       "      <td>0.0920</td>\n",
       "    </tr>\n",
       "    <tr>\n",
       "      <th>als</th>\n",
       "      <td>0.1062</td>\n",
       "    </tr>\n",
       "    <tr>\n",
       "      <th>similar_items</th>\n",
       "      <td>0.0570</td>\n",
       "    </tr>\n",
       "    <tr>\n",
       "      <th>similar_users</th>\n",
       "      <td>0.0668</td>\n",
       "    </tr>\n",
       "  </tbody>\n",
       "</table>\n",
       "</div>"
      ],
      "text/plain": [
       "               recall_at_k\n",
       "own                 0.0920\n",
       "als                 0.1062\n",
       "similar_items       0.0570\n",
       "similar_users       0.0668"
      ]
     },
     "execution_count": 19,
     "metadata": {},
     "output_type": "execute_result"
    }
   ],
   "source": [
    "pd.DataFrame(\n",
    "    pd.Series({\n",
    "        col: round(result_lvl_1.apply(\n",
    "            lambda row: recall_at_k(row[col], row['actual'], k=50),\n",
    "            axis=1).mean(), 4) for col in result_lvl_1.columns[2:].tolist()\n",
    "    }), \n",
    "    columns=['recall_at_k']\n",
    ")"
   ]
  },
  {
   "cell_type": "markdown",
   "metadata": {},
   "source": [
    "Лучший recall дают als recommendtions + top-popular"
   ]
  },
  {
   "cell_type": "markdown",
   "metadata": {},
   "source": [
    "---"
   ]
  },
  {
   "cell_type": "markdown",
   "metadata": {},
   "source": [
    "B)* Как зависит recall@k от k? Постройте для одной схемы генерации кандидатов эту зависимость для k = {20, 50, 100, 200, 500}"
   ]
  },
  {
   "cell_type": "code",
   "execution_count": 20,
   "metadata": {},
   "outputs": [
    {
     "data": {
      "text/html": [
       "<div>\n",
       "<style scoped>\n",
       "    .dataframe tbody tr th:only-of-type {\n",
       "        vertical-align: middle;\n",
       "    }\n",
       "\n",
       "    .dataframe tbody tr th {\n",
       "        vertical-align: top;\n",
       "    }\n",
       "\n",
       "    .dataframe thead th {\n",
       "        text-align: right;\n",
       "    }\n",
       "</style>\n",
       "<table border=\"1\" class=\"dataframe\">\n",
       "  <thead>\n",
       "    <tr style=\"text-align: right;\">\n",
       "      <th></th>\n",
       "      <th>recall_at_20</th>\n",
       "      <th>recall_at_50</th>\n",
       "      <th>recall_at_100</th>\n",
       "      <th>recall_at_200</th>\n",
       "      <th>recall_at_500</th>\n",
       "    </tr>\n",
       "  </thead>\n",
       "  <tbody>\n",
       "    <tr>\n",
       "      <th>own</th>\n",
       "      <td>0.0589</td>\n",
       "      <td>0.0920</td>\n",
       "      <td>0.1247</td>\n",
       "      <td>0.1487</td>\n",
       "      <td>0.1570</td>\n",
       "    </tr>\n",
       "    <tr>\n",
       "      <th>als</th>\n",
       "      <td>0.0637</td>\n",
       "      <td>0.1062</td>\n",
       "      <td>0.1483</td>\n",
       "      <td>0.2002</td>\n",
       "      <td>0.2928</td>\n",
       "    </tr>\n",
       "    <tr>\n",
       "      <th>similar_items</th>\n",
       "      <td>0.0352</td>\n",
       "      <td>0.0570</td>\n",
       "      <td>0.0790</td>\n",
       "      <td>0.1031</td>\n",
       "      <td>0.1251</td>\n",
       "    </tr>\n",
       "    <tr>\n",
       "      <th>similar_users</th>\n",
       "      <td>0.0450</td>\n",
       "      <td>0.0668</td>\n",
       "      <td>0.0875</td>\n",
       "      <td>0.1149</td>\n",
       "      <td>0.1622</td>\n",
       "    </tr>\n",
       "  </tbody>\n",
       "</table>\n",
       "</div>"
      ],
      "text/plain": [
       "               recall_at_20  recall_at_50  recall_at_100  recall_at_200  \\\n",
       "own                  0.0589        0.0920         0.1247         0.1487   \n",
       "als                  0.0637        0.1062         0.1483         0.2002   \n",
       "similar_items        0.0352        0.0570         0.0790         0.1031   \n",
       "similar_users        0.0450        0.0668         0.0875         0.1149   \n",
       "\n",
       "               recall_at_500  \n",
       "own                   0.1570  \n",
       "als                   0.2928  \n",
       "similar_items         0.1251  \n",
       "similar_users         0.1622  "
      ]
     },
     "execution_count": 20,
     "metadata": {},
     "output_type": "execute_result"
    }
   ],
   "source": [
    "d = {}\n",
    "k_list = [20, 50, 100, 200, 500]\n",
    "for k in k_list:\n",
    "    result_lvl_1['own'] = result_lvl_1['user_id'].apply(lambda x: recommender.get_own_recommendations(x, N=k))\n",
    "    result_lvl_1['als'] = result_lvl_1['user_id'].apply(lambda x: recommender.get_als_recommendations(x, N=k))\n",
    "    result_lvl_1['similar_items'] = result_lvl_1['user_id'].apply(lambda x: recommender.get_similar_items_recommendation(x, N=k))\n",
    "    result_lvl_1['similar_users'] = result_lvl_1['user_id'].apply(lambda x: recommender.get_similar_users_recommendation(x, N=k))\n",
    "    d[f'recall_at_{k}'] = {col: round(result_lvl_1.apply(lambda row: recall_at_k(row[col], row['actual'], k=k), axis=1).mean(), 4) for col in result_lvl_1.columns[2:].tolist()}\n",
    "df = pd.DataFrame(d)\n",
    "df"
   ]
  },
  {
   "cell_type": "code",
   "execution_count": 21,
   "metadata": {},
   "outputs": [
    {
     "data": {
      "image/png": "[encoded data removed]",
      "text/plain": [
       "<Figure size 576x324 with 1 Axes>"
      ]
     },
     "metadata": {
      "needs_background": "light"
     },
     "output_type": "display_data"
    }
   ],
   "source": [
    "plt.figure(figsize=(8, 4.5))\n",
    "x = k_list\n",
    "for ind in df.index:\n",
    "    y = df.loc[ind].tolist()\n",
    "    plt.plot(x, y, label=ind)\n",
    "    plt.scatter(x, y)\n",
    "plt.title('График Recall_at_k',  fontsize=16)\n",
    "plt.xlabel('k, Количество кандидатов', fontsize=16)\n",
    "plt.ylabel('Recall_at_k', fontsize=16)\n",
    "plt.legend(loc='upper left')\n",
    "plt.grid()\n",
    "plt.show()"
   ]
  },
  {
   "cell_type": "markdown",
   "metadata": {},
   "source": [
    "C)* Исходя из прошлого вопроса, как вы думаете, какое значение k является наиболее разумным?"
   ]
  },
  {
   "cell_type": "markdown",
   "metadata": {},
   "source": [
    "* Для моделей: own, similar_items, similar_users - значение k=200 будет являться оптимальным, т.к. дальнейшее увеличение количества кандидатов не дает существенные прирост в метрике.\n",
    "* Для модели als значение k=500 является оптимальным, потому что метрика имеет максимальное значение"
   ]
  },
  {
   "cell_type": "markdown",
   "metadata": {},
   "source": [
    "### Обучаем модель 2-ого уровня на выбранных кандидатах\n",
    "\n",
    "- Обучаем на data_train_lvl_2\n",
    "- Обучаем *только* на выбранных кандидатах\n",
    "- Я *для примера* сгенерирую топ-50 кадидиатов через get_own_recommendations\n",
    "- (!) Если юзер купил < 50 товаров, то get_own_recommendations дополнит рекоммендации топ-популярными"
   ]
  },
  {
   "cell_type": "code",
   "execution_count": 22,
   "metadata": {},
   "outputs": [
    {
     "data": {
      "text/html": [
       "<div>\n",
       "<style scoped>\n",
       "    .dataframe tbody tr th:only-of-type {\n",
       "        vertical-align: middle;\n",
       "    }\n",
       "\n",
       "    .dataframe tbody tr th {\n",
       "        vertical-align: top;\n",
       "    }\n",
       "\n",
       "    .dataframe thead th {\n",
       "        text-align: right;\n",
       "    }\n",
       "</style>\n",
       "<table border=\"1\" class=\"dataframe\">\n",
       "  <thead>\n",
       "    <tr style=\"text-align: right;\">\n",
       "      <th></th>\n",
       "      <th>user_id</th>\n",
       "      <th>candidates</th>\n",
       "    </tr>\n",
       "  </thead>\n",
       "  <tbody>\n",
       "    <tr>\n",
       "      <th>0</th>\n",
       "      <td>2070</td>\n",
       "      <td>[1082185, 1029743, 1098066, 1127831, 6534178, ...</td>\n",
       "    </tr>\n",
       "    <tr>\n",
       "      <th>1</th>\n",
       "      <td>2021</td>\n",
       "      <td>[1098066, 995785, 1004906, 1081177, 1044078, 1...</td>\n",
       "    </tr>\n",
       "    <tr>\n",
       "      <th>2</th>\n",
       "      <td>1753</td>\n",
       "      <td>[1082185, 6534178, 1004906, 1044078, 1133018, ...</td>\n",
       "    </tr>\n",
       "  </tbody>\n",
       "</table>\n",
       "</div>"
      ],
      "text/plain": [
       "   user_id                                         candidates\n",
       "0     2070  [1082185, 1029743, 1098066, 1127831, 6534178, ...\n",
       "1     2021  [1098066, 995785, 1004906, 1081177, 1044078, 1...\n",
       "2     1753  [1082185, 6534178, 1004906, 1044078, 1133018, ..."
      ]
     },
     "execution_count": 22,
     "metadata": {},
     "output_type": "execute_result"
    }
   ],
   "source": [
    "users_lvl_2 = pd.DataFrame(data_train_lvl_2['user_id'].unique(),\n",
    "                           columns = ['user_id'])\n",
    "train_users = data_train_lvl_1['user_id'].unique()\n",
    "users_lvl_2 = users_lvl_2[users_lvl_2['user_id'].isin(train_users)]\n",
    "users_lvl_2['candidates'] = users_lvl_2['user_id']\\\n",
    "    .apply(lambda x: recommender.get_own_recommendations(x, N=20))\n",
    "users_lvl_2.head(3)"
   ]
  },
  {
   "cell_type": "code",
   "execution_count": 23,
   "metadata": {},
   "outputs": [
    {
     "name": "stderr",
     "output_type": "stream",
     "text": [
      "/home/sergey/anaconda3/lib/python3.7/site-packages/ipykernel_launcher.py:1: DeprecationWarning: The default dtype for empty Series will be 'object' instead of 'float64' in a future version. Specify a dtype explicitly to silence this warning.\n",
      "  \"\"\"Entry point for launching an IPython kernel.\n"
     ]
    },
    {
     "data": {
      "text/html": [
       "<div>\n",
       "<style scoped>\n",
       "    .dataframe tbody tr th:only-of-type {\n",
       "        vertical-align: middle;\n",
       "    }\n",
       "\n",
       "    .dataframe tbody tr th {\n",
       "        vertical-align: top;\n",
       "    }\n",
       "\n",
       "    .dataframe thead th {\n",
       "        text-align: right;\n",
       "    }\n",
       "</style>\n",
       "<table border=\"1\" class=\"dataframe\">\n",
       "  <thead>\n",
       "    <tr style=\"text-align: right;\">\n",
       "      <th></th>\n",
       "      <th>user_id</th>\n",
       "      <th>item_id</th>\n",
       "      <th>flag</th>\n",
       "    </tr>\n",
       "  </thead>\n",
       "  <tbody>\n",
       "    <tr>\n",
       "      <th>0</th>\n",
       "      <td>2070</td>\n",
       "      <td>1082185.0</td>\n",
       "      <td>1</td>\n",
       "    </tr>\n",
       "    <tr>\n",
       "      <th>0</th>\n",
       "      <td>2070</td>\n",
       "      <td>1029743.0</td>\n",
       "      <td>1</td>\n",
       "    </tr>\n",
       "    <tr>\n",
       "      <th>0</th>\n",
       "      <td>2070</td>\n",
       "      <td>1098066.0</td>\n",
       "      <td>1</td>\n",
       "    </tr>\n",
       "  </tbody>\n",
       "</table>\n",
       "</div>"
      ],
      "text/plain": [
       "   user_id    item_id  flag\n",
       "0     2070  1082185.0     1\n",
       "0     2070  1029743.0     1\n",
       "0     2070  1098066.0     1"
      ]
     },
     "execution_count": 23,
     "metadata": {},
     "output_type": "execute_result"
    }
   ],
   "source": [
    "s = users_lvl_2.apply(lambda x: pd.Series(x['candidates']), axis=1).stack().reset_index(level=1, drop=True)\n",
    "s.name = 'item_id'\n",
    "\n",
    "users_lvl_2 = users_lvl_2.drop('candidates', axis=1).join(s)\n",
    "users_lvl_2['flag'] = 1\n",
    "\n",
    "users_lvl_2.head(3)"
   ]
  },
  {
   "cell_type": "code",
   "execution_count": 24,
   "metadata": {},
   "outputs": [
    {
     "data": {
      "text/plain": [
       "2153"
      ]
     },
     "execution_count": 24,
     "metadata": {},
     "output_type": "execute_result"
    }
   ],
   "source": [
    "users_lvl_2['user_id'].nunique()"
   ]
  },
  {
   "cell_type": "code",
   "execution_count": 25,
   "metadata": {},
   "outputs": [
    {
     "data": {
      "text/html": [
       "<div>\n",
       "<style scoped>\n",
       "    .dataframe tbody tr th:only-of-type {\n",
       "        vertical-align: middle;\n",
       "    }\n",
       "\n",
       "    .dataframe tbody tr th {\n",
       "        vertical-align: top;\n",
       "    }\n",
       "\n",
       "    .dataframe thead th {\n",
       "        text-align: right;\n",
       "    }\n",
       "</style>\n",
       "<table border=\"1\" class=\"dataframe\">\n",
       "  <thead>\n",
       "    <tr style=\"text-align: right;\">\n",
       "      <th></th>\n",
       "      <th>user_id</th>\n",
       "      <th>item_id</th>\n",
       "      <th>target</th>\n",
       "    </tr>\n",
       "  </thead>\n",
       "  <tbody>\n",
       "    <tr>\n",
       "      <th>0</th>\n",
       "      <td>2070</td>\n",
       "      <td>1082185.0</td>\n",
       "      <td>1.0</td>\n",
       "    </tr>\n",
       "    <tr>\n",
       "      <th>1</th>\n",
       "      <td>2070</td>\n",
       "      <td>1029743.0</td>\n",
       "      <td>0.0</td>\n",
       "    </tr>\n",
       "    <tr>\n",
       "      <th>2</th>\n",
       "      <td>2070</td>\n",
       "      <td>1098066.0</td>\n",
       "      <td>0.0</td>\n",
       "    </tr>\n",
       "  </tbody>\n",
       "</table>\n",
       "</div>"
      ],
      "text/plain": [
       "   user_id    item_id  target\n",
       "0     2070  1082185.0     1.0\n",
       "1     2070  1029743.0     0.0\n",
       "2     2070  1098066.0     0.0"
      ]
     },
     "execution_count": 25,
     "metadata": {},
     "output_type": "execute_result"
    }
   ],
   "source": [
    "target_lvl_2 = data_train_lvl_2[['user_id', 'item_id']].copy()\n",
    "target_lvl_2['target'] = 1\n",
    "\n",
    "target_lvl_2 = users_lvl_2.merge(target_lvl_2, on=['user_id', 'item_id'], how='left')\n",
    "target_lvl_2 = target_lvl_2[~target_lvl_2.duplicated()]\n",
    "target_lvl_2['target'].fillna(0, inplace=True)\n",
    "target_lvl_2.drop('flag', axis=1, inplace=True)\n",
    "\n",
    "target_lvl_2.head(3)"
   ]
  },
  {
   "cell_type": "code",
   "execution_count": 26,
   "metadata": {},
   "outputs": [
    {
     "data": {
      "text/plain": [
       "(41728, 3)"
      ]
     },
     "execution_count": 26,
     "metadata": {},
     "output_type": "execute_result"
    }
   ],
   "source": [
    "target_lvl_2.shape"
   ]
  },
  {
   "cell_type": "code",
   "execution_count": 27,
   "metadata": {},
   "outputs": [
    {
     "data": {
      "text/plain": [
       "0.14273389570552147"
      ]
     },
     "execution_count": 27,
     "metadata": {},
     "output_type": "execute_result"
    }
   ],
   "source": [
    "target_lvl_2['target'].mean()"
   ]
  },
  {
   "cell_type": "code",
   "execution_count": 28,
   "metadata": {},
   "outputs": [
    {
     "data": {
      "text/html": [
       "<div>\n",
       "<style scoped>\n",
       "    .dataframe tbody tr th:only-of-type {\n",
       "        vertical-align: middle;\n",
       "    }\n",
       "\n",
       "    .dataframe tbody tr th {\n",
       "        vertical-align: top;\n",
       "    }\n",
       "\n",
       "    .dataframe thead th {\n",
       "        text-align: right;\n",
       "    }\n",
       "</style>\n",
       "<table border=\"1\" class=\"dataframe\">\n",
       "  <thead>\n",
       "    <tr style=\"text-align: right;\">\n",
       "      <th></th>\n",
       "      <th>user_id</th>\n",
       "      <th>basket_id</th>\n",
       "      <th>day</th>\n",
       "      <th>item_id</th>\n",
       "      <th>quantity</th>\n",
       "      <th>sales_value</th>\n",
       "      <th>store_id</th>\n",
       "      <th>retail_disc</th>\n",
       "      <th>trans_time</th>\n",
       "      <th>week_no</th>\n",
       "      <th>coupon_disc</th>\n",
       "      <th>coupon_match_disc</th>\n",
       "    </tr>\n",
       "  </thead>\n",
       "  <tbody>\n",
       "    <tr>\n",
       "      <th>0</th>\n",
       "      <td>2375</td>\n",
       "      <td>26984851472</td>\n",
       "      <td>1</td>\n",
       "      <td>1004906</td>\n",
       "      <td>1</td>\n",
       "      <td>1.39</td>\n",
       "      <td>364</td>\n",
       "      <td>-0.6</td>\n",
       "      <td>1631</td>\n",
       "      <td>1</td>\n",
       "      <td>0.0</td>\n",
       "      <td>0.0</td>\n",
       "    </tr>\n",
       "    <tr>\n",
       "      <th>1</th>\n",
       "      <td>2375</td>\n",
       "      <td>26984851472</td>\n",
       "      <td>1</td>\n",
       "      <td>1033142</td>\n",
       "      <td>1</td>\n",
       "      <td>0.82</td>\n",
       "      <td>364</td>\n",
       "      <td>0.0</td>\n",
       "      <td>1631</td>\n",
       "      <td>1</td>\n",
       "      <td>0.0</td>\n",
       "      <td>0.0</td>\n",
       "    </tr>\n",
       "    <tr>\n",
       "      <th>2</th>\n",
       "      <td>2375</td>\n",
       "      <td>26984851472</td>\n",
       "      <td>1</td>\n",
       "      <td>1036325</td>\n",
       "      <td>1</td>\n",
       "      <td>0.99</td>\n",
       "      <td>364</td>\n",
       "      <td>-0.3</td>\n",
       "      <td>1631</td>\n",
       "      <td>1</td>\n",
       "      <td>0.0</td>\n",
       "      <td>0.0</td>\n",
       "    </tr>\n",
       "  </tbody>\n",
       "</table>\n",
       "</div>"
      ],
      "text/plain": [
       "   user_id    basket_id  day  item_id  quantity  sales_value  store_id  \\\n",
       "0     2375  26984851472    1  1004906         1         1.39       364   \n",
       "1     2375  26984851472    1  1033142         1         0.82       364   \n",
       "2     2375  26984851472    1  1036325         1         0.99       364   \n",
       "\n",
       "   retail_disc  trans_time  week_no  coupon_disc  coupon_match_disc  \n",
       "0         -0.6        1631        1          0.0                0.0  \n",
       "1          0.0        1631        1          0.0                0.0  \n",
       "2         -0.3        1631        1          0.0                0.0  "
      ]
     },
     "execution_count": 28,
     "metadata": {},
     "output_type": "execute_result"
    }
   ],
   "source": [
    "data.head(3)"
   ]
  },
  {
   "cell_type": "markdown",
   "metadata": {},
   "source": [
    "---"
   ]
  },
  {
   "cell_type": "code",
   "execution_count": 29,
   "metadata": {},
   "outputs": [
    {
     "name": "stderr",
     "output_type": "stream",
     "text": [
      "/home/sergey/anaconda3/lib/python3.7/site-packages/ipykernel_launcher.py:2: FutureWarning: Indexing with multiple keys (implicitly converted to a tuple of keys) will be deprecated, use a list instead.\n",
      "  \n"
     ]
    },
    {
     "data": {
      "text/html": [
       "<div>\n",
       "<style scoped>\n",
       "    .dataframe tbody tr th:only-of-type {\n",
       "        vertical-align: middle;\n",
       "    }\n",
       "\n",
       "    .dataframe tbody tr th {\n",
       "        vertical-align: top;\n",
       "    }\n",
       "\n",
       "    .dataframe thead th {\n",
       "        text-align: right;\n",
       "    }\n",
       "</style>\n",
       "<table border=\"1\" class=\"dataframe\">\n",
       "  <thead>\n",
       "    <tr style=\"text-align: right;\">\n",
       "      <th></th>\n",
       "      <th>avg_chek</th>\n",
       "    </tr>\n",
       "    <tr>\n",
       "      <th>user_id</th>\n",
       "      <th></th>\n",
       "    </tr>\n",
       "  </thead>\n",
       "  <tbody>\n",
       "    <tr>\n",
       "      <th>1</th>\n",
       "      <td>2.492077</td>\n",
       "    </tr>\n",
       "    <tr>\n",
       "      <th>2</th>\n",
       "      <td>2.783893</td>\n",
       "    </tr>\n",
       "    <tr>\n",
       "      <th>3</th>\n",
       "      <td>2.918223</td>\n",
       "    </tr>\n",
       "  </tbody>\n",
       "</table>\n",
       "</div>"
      ],
      "text/plain": [
       "         avg_chek\n",
       "user_id          \n",
       "1        2.492077\n",
       "2        2.783893\n",
       "3        2.918223"
      ]
     },
     "execution_count": 29,
     "metadata": {},
     "output_type": "execute_result"
    }
   ],
   "source": [
    "# Средний чек\n",
    "avg_chek = data.groupby('user_id')['sales_value', 'basket_id']\\\n",
    "    .agg({'sales_value': np.sum, 'basket_id': 'count'})\n",
    "avg_chek['avg_chek'] = avg_chek['sales_value'] / avg_chek['basket_id']\n",
    "avg_chek.drop(['sales_value', 'basket_id'], axis=1, inplace=True)\n",
    "avg_chek.head(3)"
   ]
  },
  {
   "cell_type": "code",
   "execution_count": 30,
   "metadata": {},
   "outputs": [
    {
     "name": "stderr",
     "output_type": "stream",
     "text": [
      "/home/sergey/anaconda3/lib/python3.7/site-packages/ipykernel_launcher.py:4: FutureWarning: Indexing with multiple keys (implicitly converted to a tuple of keys) will be deprecated, use a list instead.\n",
      "  after removing the cwd from sys.path.\n"
     ]
    },
    {
     "data": {
      "text/html": [
       "<div>\n",
       "<style scoped>\n",
       "    .dataframe tbody tr th:only-of-type {\n",
       "        vertical-align: middle;\n",
       "    }\n",
       "\n",
       "    .dataframe tbody tr th {\n",
       "        vertical-align: top;\n",
       "    }\n",
       "\n",
       "    .dataframe thead th {\n",
       "        text-align: right;\n",
       "    }\n",
       "</style>\n",
       "<table border=\"1\" class=\"dataframe\">\n",
       "  <thead>\n",
       "    <tr style=\"text-align: right;\">\n",
       "      <th></th>\n",
       "      <th>AUTOMOTIVE_avg_cost_by_user</th>\n",
       "      <th>CHARITABLE CONT_avg_cost_by_user</th>\n",
       "      <th>CHEF SHOPPE_avg_cost_by_user</th>\n",
       "      <th>CNTRL/STORE SUP_avg_cost_by_user</th>\n",
       "      <th>COSMETICS_avg_cost_by_user</th>\n",
       "      <th>COUP/STR &amp; MFG_avg_cost_by_user</th>\n",
       "      <th>DAIRY DELI_avg_cost_by_user</th>\n",
       "      <th>DELI_avg_cost_by_user</th>\n",
       "      <th>DELI/SNACK BAR_avg_cost_by_user</th>\n",
       "      <th>DRUG GM_avg_cost_by_user</th>\n",
       "      <th>...</th>\n",
       "      <th>RESTAURANT_avg_cost_by_user</th>\n",
       "      <th>RX_avg_cost_by_user</th>\n",
       "      <th>SALAD BAR_avg_cost_by_user</th>\n",
       "      <th>SEAFOOD_avg_cost_by_user</th>\n",
       "      <th>SEAFOOD-PCKGD_avg_cost_by_user</th>\n",
       "      <th>SPIRITS_avg_cost_by_user</th>\n",
       "      <th>TOYS_avg_cost_by_user</th>\n",
       "      <th>TRAVEL &amp; LEISUR_avg_cost_by_user</th>\n",
       "      <th>VIDEO_avg_cost_by_user</th>\n",
       "      <th>VIDEO RENTAL_avg_cost_by_user</th>\n",
       "    </tr>\n",
       "    <tr>\n",
       "      <th>user_id</th>\n",
       "      <th></th>\n",
       "      <th></th>\n",
       "      <th></th>\n",
       "      <th></th>\n",
       "      <th></th>\n",
       "      <th></th>\n",
       "      <th></th>\n",
       "      <th></th>\n",
       "      <th></th>\n",
       "      <th></th>\n",
       "      <th></th>\n",
       "      <th></th>\n",
       "      <th></th>\n",
       "      <th></th>\n",
       "      <th></th>\n",
       "      <th></th>\n",
       "      <th></th>\n",
       "      <th></th>\n",
       "      <th></th>\n",
       "      <th></th>\n",
       "      <th></th>\n",
       "    </tr>\n",
       "  </thead>\n",
       "  <tbody>\n",
       "    <tr>\n",
       "      <th>1</th>\n",
       "      <td>0.0</td>\n",
       "      <td>0.0</td>\n",
       "      <td>0.0</td>\n",
       "      <td>0.0</td>\n",
       "      <td>0.000</td>\n",
       "      <td>0.0</td>\n",
       "      <td>0.0</td>\n",
       "      <td>3.091897</td>\n",
       "      <td>0.0</td>\n",
       "      <td>2.588693</td>\n",
       "      <td>...</td>\n",
       "      <td>1.39</td>\n",
       "      <td>0.0</td>\n",
       "      <td>3.091</td>\n",
       "      <td>0.0</td>\n",
       "      <td>0.00</td>\n",
       "      <td>0.0</td>\n",
       "      <td>0.0</td>\n",
       "      <td>0.0</td>\n",
       "      <td>0.0</td>\n",
       "      <td>0.0</td>\n",
       "    </tr>\n",
       "    <tr>\n",
       "      <th>2</th>\n",
       "      <td>0.0</td>\n",
       "      <td>0.0</td>\n",
       "      <td>0.0</td>\n",
       "      <td>0.0</td>\n",
       "      <td>4.414</td>\n",
       "      <td>0.0</td>\n",
       "      <td>0.0</td>\n",
       "      <td>3.561667</td>\n",
       "      <td>0.0</td>\n",
       "      <td>3.004528</td>\n",
       "      <td>...</td>\n",
       "      <td>0.00</td>\n",
       "      <td>0.0</td>\n",
       "      <td>0.000</td>\n",
       "      <td>0.0</td>\n",
       "      <td>8.99</td>\n",
       "      <td>0.0</td>\n",
       "      <td>0.0</td>\n",
       "      <td>0.0</td>\n",
       "      <td>0.0</td>\n",
       "      <td>0.0</td>\n",
       "    </tr>\n",
       "    <tr>\n",
       "      <th>3</th>\n",
       "      <td>0.0</td>\n",
       "      <td>0.0</td>\n",
       "      <td>0.0</td>\n",
       "      <td>0.0</td>\n",
       "      <td>1.250</td>\n",
       "      <td>0.0</td>\n",
       "      <td>0.0</td>\n",
       "      <td>6.078333</td>\n",
       "      <td>0.0</td>\n",
       "      <td>1.572396</td>\n",
       "      <td>...</td>\n",
       "      <td>0.00</td>\n",
       "      <td>0.0</td>\n",
       "      <td>1.360</td>\n",
       "      <td>0.0</td>\n",
       "      <td>4.99</td>\n",
       "      <td>0.0</td>\n",
       "      <td>0.0</td>\n",
       "      <td>0.0</td>\n",
       "      <td>0.0</td>\n",
       "      <td>0.0</td>\n",
       "    </tr>\n",
       "  </tbody>\n",
       "</table>\n",
       "<p>3 rows × 43 columns</p>\n",
       "</div>"
      ],
      "text/plain": [
       "         AUTOMOTIVE_avg_cost_by_user  CHARITABLE CONT_avg_cost_by_user  \\\n",
       "user_id                                                                  \n",
       "1                                0.0                               0.0   \n",
       "2                                0.0                               0.0   \n",
       "3                                0.0                               0.0   \n",
       "\n",
       "         CHEF SHOPPE_avg_cost_by_user  CNTRL/STORE SUP_avg_cost_by_user  \\\n",
       "user_id                                                                   \n",
       "1                                 0.0                               0.0   \n",
       "2                                 0.0                               0.0   \n",
       "3                                 0.0                               0.0   \n",
       "\n",
       "         COSMETICS_avg_cost_by_user  COUP/STR & MFG_avg_cost_by_user  \\\n",
       "user_id                                                                \n",
       "1                             0.000                              0.0   \n",
       "2                             4.414                              0.0   \n",
       "3                             1.250                              0.0   \n",
       "\n",
       "         DAIRY DELI_avg_cost_by_user  DELI_avg_cost_by_user  \\\n",
       "user_id                                                       \n",
       "1                                0.0               3.091897   \n",
       "2                                0.0               3.561667   \n",
       "3                                0.0               6.078333   \n",
       "\n",
       "         DELI/SNACK BAR_avg_cost_by_user  DRUG GM_avg_cost_by_user  ...  \\\n",
       "user_id                                                             ...   \n",
       "1                                    0.0                  2.588693  ...   \n",
       "2                                    0.0                  3.004528  ...   \n",
       "3                                    0.0                  1.572396  ...   \n",
       "\n",
       "         RESTAURANT_avg_cost_by_user  RX_avg_cost_by_user  \\\n",
       "user_id                                                     \n",
       "1                               1.39                  0.0   \n",
       "2                               0.00                  0.0   \n",
       "3                               0.00                  0.0   \n",
       "\n",
       "         SALAD BAR_avg_cost_by_user  SEAFOOD_avg_cost_by_user  \\\n",
       "user_id                                                         \n",
       "1                             3.091                       0.0   \n",
       "2                             0.000                       0.0   \n",
       "3                             1.360                       0.0   \n",
       "\n",
       "         SEAFOOD-PCKGD_avg_cost_by_user  SPIRITS_avg_cost_by_user  \\\n",
       "user_id                                                             \n",
       "1                                  0.00                       0.0   \n",
       "2                                  8.99                       0.0   \n",
       "3                                  4.99                       0.0   \n",
       "\n",
       "         TOYS_avg_cost_by_user  TRAVEL & LEISUR_avg_cost_by_user  \\\n",
       "user_id                                                            \n",
       "1                          0.0                               0.0   \n",
       "2                          0.0                               0.0   \n",
       "3                          0.0                               0.0   \n",
       "\n",
       "         VIDEO_avg_cost_by_user  VIDEO RENTAL_avg_cost_by_user  \n",
       "user_id                                                         \n",
       "1                           0.0                            0.0  \n",
       "2                           0.0                            0.0  \n",
       "3                           0.0                            0.0  \n",
       "\n",
       "[3 rows x 43 columns]"
      ]
     },
     "execution_count": 30,
     "metadata": {},
     "output_type": "execute_result"
    }
   ],
   "source": [
    "# Средняя сумма покупки 1 товара в каждой категории для каждого user_а\n",
    "user_dep = data\\\n",
    "    .join(item_features[['item_id', 'department']].set_index('item_id'), on='item_id')\\\n",
    "    .groupby(['user_id', 'department'])['quantity', 'sales_value']\\\n",
    "    .agg({'quantity': np.sum, 'sales_value': np.sum})\n",
    "user_dep['avg_sum_purchase_one_item_id_by_department'] = user_dep['sales_value'] / user_dep['quantity']\n",
    "user_dep.drop(columns=['quantity', 'sales_value'], inplace=True)\n",
    "user_dep.dropna(axis=0, inplace=True)\n",
    "user_dep.reset_index('department', inplace=True)\n",
    "user_dep = user_dep.pivot_table(\n",
    "    index='user_id', columns='department', \n",
    "    values='avg_sum_purchase_one_item_id_by_department', \n",
    "    aggfunc='sum', fill_value=0)\n",
    "user_dep.columns = [f'{col}_avg_cost_by_user' for col in user_dep.columns]\n",
    "user_dep.head(3)"
   ]
  },
  {
   "cell_type": "code",
   "execution_count": 31,
   "metadata": {},
   "outputs": [
    {
     "data": {
      "text/html": [
       "<div>\n",
       "<style scoped>\n",
       "    .dataframe tbody tr th:only-of-type {\n",
       "        vertical-align: middle;\n",
       "    }\n",
       "\n",
       "    .dataframe tbody tr th {\n",
       "        vertical-align: top;\n",
       "    }\n",
       "\n",
       "    .dataframe thead th {\n",
       "        text-align: right;\n",
       "    }\n",
       "</style>\n",
       "<table border=\"1\" class=\"dataframe\">\n",
       "  <thead>\n",
       "    <tr style=\"text-align: right;\">\n",
       "      <th></th>\n",
       "      <th>n_of_purchases_in_the_category</th>\n",
       "    </tr>\n",
       "    <tr>\n",
       "      <th>department</th>\n",
       "      <th></th>\n",
       "    </tr>\n",
       "  </thead>\n",
       "  <tbody>\n",
       "    <tr>\n",
       "      <th></th>\n",
       "      <td>0</td>\n",
       "    </tr>\n",
       "    <tr>\n",
       "      <th>AUTOMOTIVE</th>\n",
       "      <td>61</td>\n",
       "    </tr>\n",
       "    <tr>\n",
       "      <th>CHARITABLE CONT</th>\n",
       "      <td>3</td>\n",
       "    </tr>\n",
       "  </tbody>\n",
       "</table>\n",
       "</div>"
      ],
      "text/plain": [
       "                 n_of_purchases_in_the_category\n",
       "department                                     \n",
       "                                              0\n",
       "AUTOMOTIVE                                   61\n",
       "CHARITABLE CONT                               3"
      ]
     },
     "execution_count": 31,
     "metadata": {},
     "output_type": "execute_result"
    }
   ],
   "source": [
    "# Кол-во покупок в каждой категории\n",
    "dep_2 = pd.DataFrame(data\\\n",
    "    .join(item_features[['item_id', 'department']].set_index('item_id'), on='item_id')\\\n",
    "    .groupby('department')['quantity'].sum())\\\n",
    "    .rename(columns={'quantity': 'n_of_purchases_in_the_category'})\n",
    "dep_2.head(3)"
   ]
  },
  {
   "cell_type": "code",
   "execution_count": 32,
   "metadata": {},
   "outputs": [
    {
     "data": {
      "text/html": [
       "<div>\n",
       "<style scoped>\n",
       "    .dataframe tbody tr th:only-of-type {\n",
       "        vertical-align: middle;\n",
       "    }\n",
       "\n",
       "    .dataframe tbody tr th {\n",
       "        vertical-align: top;\n",
       "    }\n",
       "\n",
       "    .dataframe thead th {\n",
       "        text-align: right;\n",
       "    }\n",
       "</style>\n",
       "<table border=\"1\" class=\"dataframe\">\n",
       "  <thead>\n",
       "    <tr style=\"text-align: right;\">\n",
       "      <th></th>\n",
       "      <th>purchase_frequency</th>\n",
       "    </tr>\n",
       "    <tr>\n",
       "      <th>user_id</th>\n",
       "      <th></th>\n",
       "    </tr>\n",
       "  </thead>\n",
       "  <tbody>\n",
       "    <tr>\n",
       "      <th>1</th>\n",
       "      <td>83.8</td>\n",
       "    </tr>\n",
       "    <tr>\n",
       "      <th>2</th>\n",
       "      <td>34.7</td>\n",
       "    </tr>\n",
       "    <tr>\n",
       "      <th>3</th>\n",
       "      <td>386.5</td>\n",
       "    </tr>\n",
       "  </tbody>\n",
       "</table>\n",
       "</div>"
      ],
      "text/plain": [
       "         purchase_frequency\n",
       "user_id                    \n",
       "1                      83.8\n",
       "2                      34.7\n",
       "3                     386.5"
      ]
     },
     "execution_count": 32,
     "metadata": {},
     "output_type": "execute_result"
    }
   ],
   "source": [
    "# Частотность покупок раз/месяц\n",
    "avg_count_of_days_in_a_month = 365 / 12\n",
    "count_months = round(data['day'].max() / avg_count_of_days_in_a_month)\n",
    "pf = pd.DataFrame(data.groupby('user_id')['quantity'].sum())\\\n",
    "    .rename(columns={'quantity': 'purchase_frequency'})\n",
    "pf['purchase_frequency'] = pf['purchase_frequency']\\\n",
    "    .apply(lambda x: round(x / count_months, 1))\n",
    "pf.head(3)"
   ]
  },
  {
   "cell_type": "code",
   "execution_count": 33,
   "metadata": {},
   "outputs": [
    {
     "data": {
      "text/html": [
       "<div>\n",
       "<style scoped>\n",
       "    .dataframe tbody tr th:only-of-type {\n",
       "        vertical-align: middle;\n",
       "    }\n",
       "\n",
       "    .dataframe tbody tr th {\n",
       "        vertical-align: top;\n",
       "    }\n",
       "\n",
       "    .dataframe thead th {\n",
       "        text-align: right;\n",
       "    }\n",
       "</style>\n",
       "<table border=\"1\" class=\"dataframe\">\n",
       "  <thead>\n",
       "    <tr style=\"text-align: right;\">\n",
       "      <th></th>\n",
       "      <th>purchases in weekend</th>\n",
       "    </tr>\n",
       "    <tr>\n",
       "      <th>user_id</th>\n",
       "      <th></th>\n",
       "    </tr>\n",
       "  </thead>\n",
       "  <tbody>\n",
       "    <tr>\n",
       "      <th>1</th>\n",
       "      <td>0.146761</td>\n",
       "    </tr>\n",
       "    <tr>\n",
       "      <th>2</th>\n",
       "      <td>0.321670</td>\n",
       "    </tr>\n",
       "    <tr>\n",
       "      <th>3</th>\n",
       "      <td>0.114836</td>\n",
       "    </tr>\n",
       "  </tbody>\n",
       "</table>\n",
       "</div>"
      ],
      "text/plain": [
       "         purchases in weekend\n",
       "user_id                      \n",
       "1                    0.146761\n",
       "2                    0.321670\n",
       "3                    0.114836"
      ]
     },
     "execution_count": 33,
     "metadata": {},
     "output_type": "execute_result"
    }
   ],
   "source": [
    "# Долю покупок в выходные дни\n",
    "\n",
    "data['days_of_the_week'] = data['day'].apply(lambda x: 'weekends' if x % 7 in [0, 6] else 'workday')\n",
    "\n",
    "pw = pd.DataFrame(data[data['days_of_the_week'] == 'weekends'].groupby('user_id')['sales_value'].sum()\n",
    "/ data.groupby('user_id')['sales_value'].sum()).rename(columns={'sales_value': 'purchases in weekend'})\n",
    "\n",
    "pw.head(3)"
   ]
  },
  {
   "cell_type": "code",
   "execution_count": 34,
   "metadata": {},
   "outputs": [
    {
     "data": {
      "text/html": [
       "<div>\n",
       "<style scoped>\n",
       "    .dataframe tbody tr th:only-of-type {\n",
       "        vertical-align: middle;\n",
       "    }\n",
       "\n",
       "    .dataframe tbody tr th {\n",
       "        vertical-align: top;\n",
       "    }\n",
       "\n",
       "    .dataframe thead th {\n",
       "        text-align: right;\n",
       "    }\n",
       "</style>\n",
       "<table border=\"1\" class=\"dataframe\">\n",
       "  <thead>\n",
       "    <tr style=\"text-align: right;\">\n",
       "      <th></th>\n",
       "      <th>night</th>\n",
       "      <th>morning</th>\n",
       "      <th>day</th>\n",
       "      <th>evening</th>\n",
       "    </tr>\n",
       "    <tr>\n",
       "      <th>user_id</th>\n",
       "      <th></th>\n",
       "      <th></th>\n",
       "      <th></th>\n",
       "      <th></th>\n",
       "    </tr>\n",
       "  </thead>\n",
       "  <tbody>\n",
       "    <tr>\n",
       "      <th>1</th>\n",
       "      <td>0.0</td>\n",
       "      <td>0.30</td>\n",
       "      <td>0.60</td>\n",
       "      <td>0.10</td>\n",
       "    </tr>\n",
       "    <tr>\n",
       "      <th>2</th>\n",
       "      <td>0.0</td>\n",
       "      <td>0.08</td>\n",
       "      <td>0.29</td>\n",
       "      <td>0.62</td>\n",
       "    </tr>\n",
       "    <tr>\n",
       "      <th>3</th>\n",
       "      <td>0.0</td>\n",
       "      <td>0.01</td>\n",
       "      <td>0.64</td>\n",
       "      <td>0.35</td>\n",
       "    </tr>\n",
       "  </tbody>\n",
       "</table>\n",
       "</div>"
      ],
      "text/plain": [
       "         night  morning   day  evening\n",
       "user_id                               \n",
       "1          0.0     0.30  0.60     0.10\n",
       "2          0.0     0.08  0.29     0.62\n",
       "3          0.0     0.01  0.64     0.35"
      ]
     },
     "execution_count": 34,
     "metadata": {},
     "output_type": "execute_result"
    }
   ],
   "source": [
    "# Доля покупок утром/днем/вечером\n",
    "\n",
    "# date_time\n",
    "data['date_time'] = pd.cut(\n",
    "    data['trans_time'].apply(lambda x: int(f'000{x}'[-4: -2])),\n",
    "    bins=[0, 6, 12, 18, 24], right=False, \n",
    "    labels=['night', 'morning', 'day', 'evening'])\n",
    "# share of purchases at night/morning/day/evening\n",
    "sp = data\\\n",
    "    .groupby(['user_id', 'date_time'])['sales_value'].sum().reset_index()\\\n",
    "    .pivot_table(index='user_id', columns='date_time', \n",
    "                 values='sales_value', aggfunc='sum', fill_value=0)\n",
    "sp.columns = [col for col in sp.columns]\n",
    "sp['sum_sales_value'] = sp[sp.columns].sum(axis=1)\n",
    "for col in sp.columns[:-1]: \n",
    "    sp[col] = round(sp[col] / sp['sum_sales_value'], 2)\n",
    "sp.drop('sum_sales_value', axis=1, inplace=True)\n",
    "sp.head(3)"
   ]
  },
  {
   "cell_type": "code",
   "execution_count": 35,
   "metadata": {},
   "outputs": [
    {
     "data": {
      "text/html": [
       "<div>\n",
       "<style scoped>\n",
       "    .dataframe tbody tr th:only-of-type {\n",
       "        vertical-align: middle;\n",
       "    }\n",
       "\n",
       "    .dataframe tbody tr th {\n",
       "        vertical-align: top;\n",
       "    }\n",
       "\n",
       "    .dataframe thead th {\n",
       "        text-align: right;\n",
       "    }\n",
       "</style>\n",
       "<table border=\"1\" class=\"dataframe\">\n",
       "  <thead>\n",
       "    <tr style=\"text-align: right;\">\n",
       "      <th></th>\n",
       "      <th>n_purchases_per_week</th>\n",
       "    </tr>\n",
       "    <tr>\n",
       "      <th>item_id</th>\n",
       "      <th></th>\n",
       "    </tr>\n",
       "  </thead>\n",
       "  <tbody>\n",
       "    <tr>\n",
       "      <th>25671</th>\n",
       "      <td>0.063158</td>\n",
       "    </tr>\n",
       "    <tr>\n",
       "      <th>26081</th>\n",
       "      <td>0.010526</td>\n",
       "    </tr>\n",
       "    <tr>\n",
       "      <th>26093</th>\n",
       "      <td>0.010526</td>\n",
       "    </tr>\n",
       "  </tbody>\n",
       "</table>\n",
       "</div>"
      ],
      "text/plain": [
       "         n_purchases_per_week\n",
       "item_id                      \n",
       "25671                0.063158\n",
       "26081                0.010526\n",
       "26093                0.010526"
      ]
     },
     "execution_count": 35,
     "metadata": {},
     "output_type": "execute_result"
    }
   ],
   "source": [
    "# Кол-во покупок в неделю\n",
    "n_weeks = data['week_no'].max() # 95\n",
    "npw = pd.DataFrame(data.groupby('item_id')['quantity'].sum() / n_weeks)\\\n",
    "    .rename(columns={'quantity': 'n_purchases_per_week'})\n",
    "npw.head(3)"
   ]
  },
  {
   "cell_type": "code",
   "execution_count": 36,
   "metadata": {},
   "outputs": [
    {
     "data": {
      "text/html": [
       "<div>\n",
       "<style scoped>\n",
       "    .dataframe tbody tr th:only-of-type {\n",
       "        vertical-align: middle;\n",
       "    }\n",
       "\n",
       "    .dataframe tbody tr th {\n",
       "        vertical-align: top;\n",
       "    }\n",
       "\n",
       "    .dataframe thead th {\n",
       "        text-align: right;\n",
       "    }\n",
       "</style>\n",
       "<table border=\"1\" class=\"dataframe\">\n",
       "  <thead>\n",
       "    <tr style=\"text-align: right;\">\n",
       "      <th></th>\n",
       "      <th>avg_n_of_purchases_one_item_in_category_per_week</th>\n",
       "    </tr>\n",
       "    <tr>\n",
       "      <th>department</th>\n",
       "      <th></th>\n",
       "    </tr>\n",
       "  </thead>\n",
       "  <tbody>\n",
       "    <tr>\n",
       "      <th></th>\n",
       "      <td>0.000000</td>\n",
       "    </tr>\n",
       "    <tr>\n",
       "      <th>AUTOMOTIVE</th>\n",
       "      <td>0.642105</td>\n",
       "    </tr>\n",
       "    <tr>\n",
       "      <th>CHARITABLE CONT</th>\n",
       "      <td>0.031579</td>\n",
       "    </tr>\n",
       "  </tbody>\n",
       "</table>\n",
       "</div>"
      ],
      "text/plain": [
       "                 avg_n_of_purchases_one_item_in_category_per_week\n",
       "department                                                       \n",
       "                                                         0.000000\n",
       "AUTOMOTIVE                                               0.642105\n",
       "CHARITABLE CONT                                          0.031579"
      ]
     },
     "execution_count": 36,
     "metadata": {},
     "output_type": "execute_result"
    }
   ],
   "source": [
    "# Среднее кол-во покупок 1 товара в категории в неделю\n",
    "dep_3 = pd.DataFrame(data\\\n",
    "    .join(item_features[['item_id', 'department']].set_index('item_id'), on='item_id')\\\n",
    "    .groupby('department')['quantity'].sum() / n_weeks)\\\n",
    "    .rename(columns={'quantity': 'avg_n_of_purchases_one_item_in_category_per_week'})\n",
    "dep_3.head(3)"
   ]
  },
  {
   "cell_type": "code",
   "execution_count": 37,
   "metadata": {},
   "outputs": [
    {
     "data": {
      "text/html": [
       "<div>\n",
       "<style scoped>\n",
       "    .dataframe tbody tr th:only-of-type {\n",
       "        vertical-align: middle;\n",
       "    }\n",
       "\n",
       "    .dataframe tbody tr th {\n",
       "        vertical-align: top;\n",
       "    }\n",
       "\n",
       "    .dataframe thead th {\n",
       "        text-align: right;\n",
       "    }\n",
       "</style>\n",
       "<table border=\"1\" class=\"dataframe\">\n",
       "  <thead>\n",
       "    <tr style=\"text-align: right;\">\n",
       "      <th></th>\n",
       "      <th>avg_item_price</th>\n",
       "    </tr>\n",
       "    <tr>\n",
       "      <th>item_id</th>\n",
       "      <th></th>\n",
       "    </tr>\n",
       "  </thead>\n",
       "  <tbody>\n",
       "    <tr>\n",
       "      <th>25671</th>\n",
       "      <td>3.49</td>\n",
       "    </tr>\n",
       "    <tr>\n",
       "      <th>26081</th>\n",
       "      <td>0.99</td>\n",
       "    </tr>\n",
       "    <tr>\n",
       "      <th>26093</th>\n",
       "      <td>1.59</td>\n",
       "    </tr>\n",
       "  </tbody>\n",
       "</table>\n",
       "</div>"
      ],
      "text/plain": [
       "         avg_item_price\n",
       "item_id                \n",
       "25671              3.49\n",
       "26081              0.99\n",
       "26093              1.59"
      ]
     },
     "execution_count": 37,
     "metadata": {},
     "output_type": "execute_result"
    }
   ],
   "source": [
    "# Средняя цена товара\n",
    "aip = data.groupby('item_id')[['quantity', 'sales_value']].sum()\n",
    "aip['avg_item_price'] = 0\n",
    "aip.loc[aip['quantity'] > 0, 'avg_item_price'] = aip['sales_value'] / aip['quantity']\n",
    "aip.drop(columns=['quantity', 'sales_value'], inplace=True)\n",
    "aip.head(3)"
   ]
  },
  {
   "cell_type": "code",
   "execution_count": 38,
   "metadata": {},
   "outputs": [
    {
     "name": "stderr",
     "output_type": "stream",
     "text": [
      "/home/sergey/anaconda3/lib/python3.7/site-packages/ipykernel_launcher.py:4: FutureWarning: Indexing with multiple keys (implicitly converted to a tuple of keys) will be deprecated, use a list instead.\n",
      "  after removing the cwd from sys.path.\n"
     ]
    },
    {
     "data": {
      "text/html": [
       "<div>\n",
       "<style scoped>\n",
       "    .dataframe tbody tr th:only-of-type {\n",
       "        vertical-align: middle;\n",
       "    }\n",
       "\n",
       "    .dataframe tbody tr th {\n",
       "        vertical-align: top;\n",
       "    }\n",
       "\n",
       "    .dataframe thead th {\n",
       "        text-align: right;\n",
       "    }\n",
       "</style>\n",
       "<table border=\"1\" class=\"dataframe\">\n",
       "  <thead>\n",
       "    <tr style=\"text-align: right;\">\n",
       "      <th></th>\n",
       "      <th>avg_price_itmem_in_category</th>\n",
       "    </tr>\n",
       "    <tr>\n",
       "      <th>department</th>\n",
       "      <th></th>\n",
       "    </tr>\n",
       "  </thead>\n",
       "  <tbody>\n",
       "    <tr>\n",
       "      <th></th>\n",
       "      <td>0.000000</td>\n",
       "    </tr>\n",
       "    <tr>\n",
       "      <th>AUTOMOTIVE</th>\n",
       "      <td>3.874917</td>\n",
       "    </tr>\n",
       "    <tr>\n",
       "      <th>CHARITABLE CONT</th>\n",
       "      <td>2.185000</td>\n",
       "    </tr>\n",
       "  </tbody>\n",
       "</table>\n",
       "</div>"
      ],
      "text/plain": [
       "                 avg_price_itmem_in_category\n",
       "department                                  \n",
       "                                    0.000000\n",
       "AUTOMOTIVE                          3.874917\n",
       "CHARITABLE CONT                     2.185000"
      ]
     },
     "execution_count": 38,
     "metadata": {},
     "output_type": "execute_result"
    }
   ],
   "source": [
    "# Средняя цена товара в категории\n",
    "dep_4 = item_features\\\n",
    "    .join(aip, on='item_id', how='left')\\\n",
    "    .groupby('department')['item_id', 'avg_item_price']\\\n",
    "    .agg({'item_id': 'count', 'avg_item_price': np.sum})\n",
    "dep_4['avg_price_itmem_in_category'] = dep_4['avg_item_price'] / dep_4['item_id']\n",
    "dep_4.drop(columns=['avg_item_price', 'item_id'], inplace=True)\n",
    "dep_4.head(3)"
   ]
  },
  {
   "cell_type": "code",
   "execution_count": 39,
   "metadata": {},
   "outputs": [
    {
     "data": {
      "text/html": [
       "<div>\n",
       "<style scoped>\n",
       "    .dataframe tbody tr th:only-of-type {\n",
       "        vertical-align: middle;\n",
       "    }\n",
       "\n",
       "    .dataframe tbody tr th {\n",
       "        vertical-align: top;\n",
       "    }\n",
       "\n",
       "    .dataframe thead th {\n",
       "        text-align: right;\n",
       "    }\n",
       "</style>\n",
       "<table border=\"1\" class=\"dataframe\">\n",
       "  <thead>\n",
       "    <tr style=\"text-align: right;\">\n",
       "      <th></th>\n",
       "      <th>_count_purchases</th>\n",
       "      <th>AUTOMOTIVE_count_purchases</th>\n",
       "      <th>CHARITABLE CONT_count_purchases</th>\n",
       "      <th>CHEF SHOPPE_count_purchases</th>\n",
       "      <th>CNTRL/STORE SUP_count_purchases</th>\n",
       "      <th>COSMETICS_count_purchases</th>\n",
       "      <th>COUP/STR &amp; MFG_count_purchases</th>\n",
       "      <th>DAIRY DELI_count_purchases</th>\n",
       "      <th>DELI_count_purchases</th>\n",
       "      <th>DELI/SNACK BAR_count_purchases</th>\n",
       "      <th>...</th>\n",
       "      <th>RESTAURANT_count_purchases</th>\n",
       "      <th>RX_count_purchases</th>\n",
       "      <th>SALAD BAR_count_purchases</th>\n",
       "      <th>SEAFOOD_count_purchases</th>\n",
       "      <th>SEAFOOD-PCKGD_count_purchases</th>\n",
       "      <th>SPIRITS_count_purchases</th>\n",
       "      <th>TOYS_count_purchases</th>\n",
       "      <th>TRAVEL &amp; LEISUR_count_purchases</th>\n",
       "      <th>VIDEO_count_purchases</th>\n",
       "      <th>VIDEO RENTAL_count_purchases</th>\n",
       "    </tr>\n",
       "    <tr>\n",
       "      <th>user_id</th>\n",
       "      <th></th>\n",
       "      <th></th>\n",
       "      <th></th>\n",
       "      <th></th>\n",
       "      <th></th>\n",
       "      <th></th>\n",
       "      <th></th>\n",
       "      <th></th>\n",
       "      <th></th>\n",
       "      <th></th>\n",
       "      <th></th>\n",
       "      <th></th>\n",
       "      <th></th>\n",
       "      <th></th>\n",
       "      <th></th>\n",
       "      <th></th>\n",
       "      <th></th>\n",
       "      <th></th>\n",
       "      <th></th>\n",
       "      <th></th>\n",
       "      <th></th>\n",
       "    </tr>\n",
       "  </thead>\n",
       "  <tbody>\n",
       "    <tr>\n",
       "      <th>1</th>\n",
       "      <td>0</td>\n",
       "      <td>0</td>\n",
       "      <td>0</td>\n",
       "      <td>0</td>\n",
       "      <td>0</td>\n",
       "      <td>0</td>\n",
       "      <td>0</td>\n",
       "      <td>0</td>\n",
       "      <td>58</td>\n",
       "      <td>0</td>\n",
       "      <td>...</td>\n",
       "      <td>3</td>\n",
       "      <td>0</td>\n",
       "      <td>10</td>\n",
       "      <td>0</td>\n",
       "      <td>0</td>\n",
       "      <td>0</td>\n",
       "      <td>0</td>\n",
       "      <td>0</td>\n",
       "      <td>0</td>\n",
       "      <td>0</td>\n",
       "    </tr>\n",
       "    <tr>\n",
       "      <th>2</th>\n",
       "      <td>0</td>\n",
       "      <td>0</td>\n",
       "      <td>0</td>\n",
       "      <td>0</td>\n",
       "      <td>0</td>\n",
       "      <td>5</td>\n",
       "      <td>0</td>\n",
       "      <td>0</td>\n",
       "      <td>12</td>\n",
       "      <td>0</td>\n",
       "      <td>...</td>\n",
       "      <td>0</td>\n",
       "      <td>0</td>\n",
       "      <td>0</td>\n",
       "      <td>0</td>\n",
       "      <td>1</td>\n",
       "      <td>0</td>\n",
       "      <td>0</td>\n",
       "      <td>0</td>\n",
       "      <td>0</td>\n",
       "      <td>0</td>\n",
       "    </tr>\n",
       "    <tr>\n",
       "      <th>3</th>\n",
       "      <td>0</td>\n",
       "      <td>0</td>\n",
       "      <td>0</td>\n",
       "      <td>0</td>\n",
       "      <td>0</td>\n",
       "      <td>1</td>\n",
       "      <td>0</td>\n",
       "      <td>0</td>\n",
       "      <td>6</td>\n",
       "      <td>0</td>\n",
       "      <td>...</td>\n",
       "      <td>0</td>\n",
       "      <td>0</td>\n",
       "      <td>1</td>\n",
       "      <td>0</td>\n",
       "      <td>2</td>\n",
       "      <td>0</td>\n",
       "      <td>0</td>\n",
       "      <td>0</td>\n",
       "      <td>0</td>\n",
       "      <td>0</td>\n",
       "    </tr>\n",
       "  </tbody>\n",
       "</table>\n",
       "<p>3 rows × 44 columns</p>\n",
       "</div>"
      ],
      "text/plain": [
       "          _count_purchases  AUTOMOTIVE_count_purchases  \\\n",
       "user_id                                                  \n",
       "1                        0                           0   \n",
       "2                        0                           0   \n",
       "3                        0                           0   \n",
       "\n",
       "         CHARITABLE CONT_count_purchases  CHEF SHOPPE_count_purchases  \\\n",
       "user_id                                                                 \n",
       "1                                      0                            0   \n",
       "2                                      0                            0   \n",
       "3                                      0                            0   \n",
       "\n",
       "         CNTRL/STORE SUP_count_purchases  COSMETICS_count_purchases  \\\n",
       "user_id                                                               \n",
       "1                                      0                          0   \n",
       "2                                      0                          5   \n",
       "3                                      0                          1   \n",
       "\n",
       "         COUP/STR & MFG_count_purchases  DAIRY DELI_count_purchases  \\\n",
       "user_id                                                               \n",
       "1                                     0                           0   \n",
       "2                                     0                           0   \n",
       "3                                     0                           0   \n",
       "\n",
       "         DELI_count_purchases  DELI/SNACK BAR_count_purchases  ...  \\\n",
       "user_id                                                        ...   \n",
       "1                          58                               0  ...   \n",
       "2                          12                               0  ...   \n",
       "3                           6                               0  ...   \n",
       "\n",
       "         RESTAURANT_count_purchases  RX_count_purchases  \\\n",
       "user_id                                                   \n",
       "1                                 3                   0   \n",
       "2                                 0                   0   \n",
       "3                                 0                   0   \n",
       "\n",
       "         SALAD BAR_count_purchases  SEAFOOD_count_purchases  \\\n",
       "user_id                                                       \n",
       "1                               10                        0   \n",
       "2                                0                        0   \n",
       "3                                1                        0   \n",
       "\n",
       "         SEAFOOD-PCKGD_count_purchases  SPIRITS_count_purchases  \\\n",
       "user_id                                                           \n",
       "1                                    0                        0   \n",
       "2                                    1                        0   \n",
       "3                                    2                        0   \n",
       "\n",
       "         TOYS_count_purchases  TRAVEL & LEISUR_count_purchases  \\\n",
       "user_id                                                          \n",
       "1                           0                                0   \n",
       "2                           0                                0   \n",
       "3                           0                                0   \n",
       "\n",
       "         VIDEO_count_purchases  VIDEO RENTAL_count_purchases  \n",
       "user_id                                                       \n",
       "1                            0                             0  \n",
       "2                            0                             0  \n",
       "3                            0                             0  \n",
       "\n",
       "[3 rows x 44 columns]"
      ]
     },
     "execution_count": 39,
     "metadata": {},
     "output_type": "execute_result"
    }
   ],
   "source": [
    "# Кол-во покупок юзером в каждой категории\n",
    "user_dep_2 = data\\\n",
    "    .join(item_features[['item_id', 'department']].set_index('item_id'), on='item_id')\\\n",
    "    .groupby(['user_id', 'department'])['quantity'].sum().reset_index()\\\n",
    "    .pivot_table(index='user_id', columns='department', \n",
    "                 values='quantity', aggfunc='sum', fill_value=0)\n",
    "user_dep_2.columns = [f'{col}_count_purchases' for col in user_dep_2.columns]\n",
    "user_dep_2.head(3)"
   ]
  },
  {
   "cell_type": "code",
   "execution_count": 40,
   "metadata": {},
   "outputs": [
    {
     "data": {
      "text/html": [
       "<div>\n",
       "<style scoped>\n",
       "    .dataframe tbody tr th:only-of-type {\n",
       "        vertical-align: middle;\n",
       "    }\n",
       "\n",
       "    .dataframe tbody tr th {\n",
       "        vertical-align: top;\n",
       "    }\n",
       "\n",
       "    .dataframe thead th {\n",
       "        text-align: right;\n",
       "    }\n",
       "</style>\n",
       "<table border=\"1\" class=\"dataframe\">\n",
       "  <thead>\n",
       "    <tr style=\"text-align: right;\">\n",
       "      <th></th>\n",
       "      <th>item_id</th>\n",
       "      <th>manufacturer</th>\n",
       "      <th>department</th>\n",
       "      <th>brand</th>\n",
       "      <th>commodity_desc</th>\n",
       "      <th>sub_commodity_desc</th>\n",
       "      <th>curr_size_of_product</th>\n",
       "    </tr>\n",
       "  </thead>\n",
       "  <tbody>\n",
       "    <tr>\n",
       "      <th>0</th>\n",
       "      <td>25671</td>\n",
       "      <td>2</td>\n",
       "      <td>GROCERY</td>\n",
       "      <td>National</td>\n",
       "      <td>FRZN ICE</td>\n",
       "      <td>ICE - CRUSHED/CUBED</td>\n",
       "      <td>22 LB</td>\n",
       "    </tr>\n",
       "    <tr>\n",
       "      <th>1</th>\n",
       "      <td>26081</td>\n",
       "      <td>2</td>\n",
       "      <td>MISC. TRANS.</td>\n",
       "      <td>National</td>\n",
       "      <td>NO COMMODITY DESCRIPTION</td>\n",
       "      <td>NO SUBCOMMODITY DESCRIPTION</td>\n",
       "      <td></td>\n",
       "    </tr>\n",
       "    <tr>\n",
       "      <th>2</th>\n",
       "      <td>26093</td>\n",
       "      <td>69</td>\n",
       "      <td>PASTRY</td>\n",
       "      <td>Private</td>\n",
       "      <td>BREAD</td>\n",
       "      <td>BREAD:ITALIAN/FRENCH</td>\n",
       "      <td></td>\n",
       "    </tr>\n",
       "  </tbody>\n",
       "</table>\n",
       "</div>"
      ],
      "text/plain": [
       "   item_id  manufacturer    department     brand            commodity_desc  \\\n",
       "0    25671             2       GROCERY  National                  FRZN ICE   \n",
       "1    26081             2  MISC. TRANS.  National  NO COMMODITY DESCRIPTION   \n",
       "2    26093            69        PASTRY   Private                     BREAD   \n",
       "\n",
       "            sub_commodity_desc curr_size_of_product  \n",
       "0          ICE - CRUSHED/CUBED                22 LB  \n",
       "1  NO SUBCOMMODITY DESCRIPTION                       \n",
       "2         BREAD:ITALIAN/FRENCH                       "
      ]
     },
     "execution_count": 40,
     "metadata": {},
     "output_type": "execute_result"
    }
   ],
   "source": [
    "item_features.head(3)"
   ]
  },
  {
   "cell_type": "code",
   "execution_count": 41,
   "metadata": {},
   "outputs": [
    {
     "data": {
      "text/plain": [
       "['National', 'Private']"
      ]
     },
     "execution_count": 41,
     "metadata": {},
     "output_type": "execute_result"
    }
   ],
   "source": [
    "# brand\n",
    "brand = item_features['brand'].unique().tolist()\n",
    "brand"
   ]
  },
  {
   "cell_type": "code",
   "execution_count": 42,
   "metadata": {},
   "outputs": [
    {
     "data": {
      "text/plain": [
       "{'National': 0, 'Private': 1}"
      ]
     },
     "execution_count": 42,
     "metadata": {},
     "output_type": "execute_result"
    }
   ],
   "source": [
    "brand = {i: brand.index(i) for i in brand}\n",
    "brand"
   ]
  },
  {
   "cell_type": "code",
   "execution_count": 43,
   "metadata": {},
   "outputs": [],
   "source": [
    "item_features['brand'] = item_features['brand'].replace(brand)"
   ]
  },
  {
   "cell_type": "code",
   "execution_count": 44,
   "metadata": {},
   "outputs": [
    {
     "data": {
      "text/plain": [
       "['GROCERY', 'MISC. TRANS.', 'PASTRY', 'DRUG GM', 'MEAT-PCKGD']"
      ]
     },
     "execution_count": 44,
     "metadata": {},
     "output_type": "execute_result"
    }
   ],
   "source": [
    "# department\n",
    "department = item_features['department'].unique().tolist()\n",
    "department[:5]"
   ]
  },
  {
   "cell_type": "code",
   "execution_count": 45,
   "metadata": {},
   "outputs": [
    {
     "name": "stderr",
     "output_type": "stream",
     "text": [
      "/home/sergey/anaconda3/lib/python3.7/site-packages/ipykernel_launcher.py:3: FutureWarning: Indexing with multiple keys (implicitly converted to a tuple of keys) will be deprecated, use a list instead.\n",
      "  This is separate from the ipykernel package so we can avoid doing imports until\n"
     ]
    },
    {
     "data": {
      "text/html": [
       "<div>\n",
       "<style scoped>\n",
       "    .dataframe tbody tr th:only-of-type {\n",
       "        vertical-align: middle;\n",
       "    }\n",
       "\n",
       "    .dataframe tbody tr th {\n",
       "        vertical-align: top;\n",
       "    }\n",
       "\n",
       "    .dataframe thead th {\n",
       "        text-align: right;\n",
       "    }\n",
       "</style>\n",
       "<table border=\"1\" class=\"dataframe\">\n",
       "  <thead>\n",
       "    <tr style=\"text-align: right;\">\n",
       "      <th></th>\n",
       "      <th>quantity</th>\n",
       "      <th>sales_value</th>\n",
       "    </tr>\n",
       "    <tr>\n",
       "      <th>department</th>\n",
       "      <th></th>\n",
       "      <th></th>\n",
       "    </tr>\n",
       "  </thead>\n",
       "  <tbody>\n",
       "    <tr>\n",
       "      <th></th>\n",
       "      <td>0.000000</td>\n",
       "      <td>0.000000</td>\n",
       "    </tr>\n",
       "    <tr>\n",
       "      <th>AUTOMOTIVE</th>\n",
       "      <td>1.033898</td>\n",
       "      <td>7.381186</td>\n",
       "    </tr>\n",
       "    <tr>\n",
       "      <th>CHARITABLE CONT</th>\n",
       "      <td>1.500000</td>\n",
       "      <td>3.870000</td>\n",
       "    </tr>\n",
       "    <tr>\n",
       "      <th>CHEF SHOPPE</th>\n",
       "      <td>1.140696</td>\n",
       "      <td>2.915234</td>\n",
       "    </tr>\n",
       "    <tr>\n",
       "      <th>CNTRL/STORE SUP</th>\n",
       "      <td>1.047619</td>\n",
       "      <td>2.335714</td>\n",
       "    </tr>\n",
       "  </tbody>\n",
       "</table>\n",
       "</div>"
      ],
      "text/plain": [
       "                 quantity  sales_value\n",
       "department                            \n",
       "                 0.000000     0.000000\n",
       "AUTOMOTIVE       1.033898     7.381186\n",
       "CHARITABLE CONT  1.500000     3.870000\n",
       "CHEF SHOPPE      1.140696     2.915234\n",
       "CNTRL/STORE SUP  1.047619     2.335714"
      ]
     },
     "execution_count": 45,
     "metadata": {},
     "output_type": "execute_result"
    }
   ],
   "source": [
    "dep = data\\\n",
    "    .join(item_features[['item_id', 'department']].set_index('item_id'), on='item_id')\\\n",
    "    .groupby('department')['quantity', 'sales_value', 'item_id']\\\n",
    "    .agg({'quantity': np.sum, 'sales_value': np.sum, 'item_id': 'count'})\n",
    "dep['quantity'] = dep['quantity'] / dep['item_id']\n",
    "dep['sales_value'] = dep['sales_value'] / dep['item_id']\n",
    "dep = dep[['quantity', 'sales_value']]\n",
    "dep.head()"
   ]
  },
  {
   "cell_type": "code",
   "execution_count": 46,
   "metadata": {},
   "outputs": [
    {
     "data": {
      "text/plain": [
       "{' ': 0.0,\n",
       " 'AUTOMOTIVE': 7.631,\n",
       " 'CHARITABLE CONT': 5.805,\n",
       " 'CHEF SHOPPE': 3.325,\n",
       " 'CNTRL/STORE SUP': 2.447,\n",
       " 'COSMETICS': 4.343,\n",
       " 'COUP/STR & MFG': 1.543,\n",
       " 'DAIRY DELI': 2.007,\n",
       " 'DELI': 4.427,\n",
       " 'DELI/SNACK BAR': 3.593,\n",
       " 'DRUG GM': 4.846,\n",
       " 'ELECT &PLUMBING': 1.0,\n",
       " 'FLORAL': 10.727,\n",
       " 'FROZEN GROCERY': 3.209,\n",
       " 'GARDEN CENTER': 19.731,\n",
       " 'GM MERCH EXP': 1.937,\n",
       " 'GRO BAKERY': 1.09,\n",
       " 'GROCERY': 3.309,\n",
       " 'HBC': 2.355,\n",
       " 'HOUSEWARES': 2.99,\n",
       " 'KIOSK-GAS': 247654.107,\n",
       " 'MEAT': 8.409,\n",
       " 'MEAT-PCKGD': 4.872,\n",
       " 'MEAT-WHSE': 1.361,\n",
       " 'MISC SALES TRAN': 117017.933,\n",
       " 'MISC. TRANS.': 6.956,\n",
       " 'NUTRITION': 4.077,\n",
       " 'PASTRY': 4.175,\n",
       " 'PHARMACY SUPPLY': 3.76,\n",
       " 'PHOTO': 2.736,\n",
       " 'PORK': 7.85,\n",
       " 'POSTAL CENTER': 1.645,\n",
       " 'PROD-WHS SALES': 1.88,\n",
       " 'PRODUCE': 2.691,\n",
       " 'RESTAURANT': 4.437,\n",
       " 'RX': 11.978,\n",
       " 'SALAD BAR': 3.63,\n",
       " 'SEAFOOD': 7.952,\n",
       " 'SEAFOOD-PCKGD': 7.095,\n",
       " 'SPIRITS': 11.121,\n",
       " 'TOYS': 2.766,\n",
       " 'TRAVEL & LEISUR': 3.266,\n",
       " 'VIDEO': 12.79,\n",
       " 'VIDEO RENTAL': 9.442}"
      ]
     },
     "execution_count": 46,
     "metadata": {},
     "output_type": "execute_result"
    }
   ],
   "source": [
    "for col in dep: dep[col] = dep[col] / dep.iloc[1:, :][col].min()\n",
    "department = {ind: round(dep['quantity'][ind] * dep['sales_value'][ind], 3) for ind in dep.index}\n",
    "# department = dep['quantity']\n",
    "department"
   ]
  },
  {
   "cell_type": "code",
   "execution_count": 47,
   "metadata": {},
   "outputs": [],
   "source": [
    "item_features['department_2'] = item_features['department']\n",
    "item_features['department_3'] = item_features['department']\n",
    "item_features['department_4'] = item_features['department']"
   ]
  },
  {
   "cell_type": "code",
   "execution_count": 48,
   "metadata": {},
   "outputs": [],
   "source": [
    "item_features['department'] = item_features['department'].replace(department)\n",
    "item_features['department_2'] = item_features['department_2'].replace(dep_2['n_of_purchases_in_the_category'])\n",
    "item_features['department_3'] = item_features['department_3'].replace(dep_3['avg_n_of_purchases_one_item_in_category_per_week'])\n",
    "item_features['department_4'] = item_features['department_4'].replace(dep_4['avg_price_itmem_in_category'])                                                      "
   ]
  },
  {
   "cell_type": "code",
   "execution_count": 49,
   "metadata": {},
   "outputs": [
    {
     "data": {
      "text/html": [
       "<div>\n",
       "<style scoped>\n",
       "    .dataframe tbody tr th:only-of-type {\n",
       "        vertical-align: middle;\n",
       "    }\n",
       "\n",
       "    .dataframe tbody tr th {\n",
       "        vertical-align: top;\n",
       "    }\n",
       "\n",
       "    .dataframe thead th {\n",
       "        text-align: right;\n",
       "    }\n",
       "</style>\n",
       "<table border=\"1\" class=\"dataframe\">\n",
       "  <thead>\n",
       "    <tr style=\"text-align: right;\">\n",
       "      <th></th>\n",
       "      <th>item_id</th>\n",
       "      <th>manufacturer</th>\n",
       "      <th>department</th>\n",
       "      <th>brand</th>\n",
       "      <th>commodity_desc</th>\n",
       "      <th>sub_commodity_desc</th>\n",
       "      <th>curr_size_of_product</th>\n",
       "      <th>department_2</th>\n",
       "      <th>department_3</th>\n",
       "      <th>department_4</th>\n",
       "    </tr>\n",
       "  </thead>\n",
       "  <tbody>\n",
       "    <tr>\n",
       "      <th>0</th>\n",
       "      <td>25671</td>\n",
       "      <td>2</td>\n",
       "      <td>3.309</td>\n",
       "      <td>0</td>\n",
       "      <td>FRZN ICE</td>\n",
       "      <td>ICE - CRUSHED/CUBED</td>\n",
       "      <td>22 LB</td>\n",
       "      <td>2025562</td>\n",
       "      <td>21321.705263</td>\n",
       "      <td>2.747838</td>\n",
       "    </tr>\n",
       "    <tr>\n",
       "      <th>1</th>\n",
       "      <td>26081</td>\n",
       "      <td>2</td>\n",
       "      <td>6.956</td>\n",
       "      <td>0</td>\n",
       "      <td>NO COMMODITY DESCRIPTION</td>\n",
       "      <td>NO SUBCOMMODITY DESCRIPTION</td>\n",
       "      <td></td>\n",
       "      <td>3274</td>\n",
       "      <td>34.463158</td>\n",
       "      <td>4.692906</td>\n",
       "    </tr>\n",
       "    <tr>\n",
       "      <th>2</th>\n",
       "      <td>26093</td>\n",
       "      <td>69</td>\n",
       "      <td>4.175</td>\n",
       "      <td>1</td>\n",
       "      <td>BREAD</td>\n",
       "      <td>BREAD:ITALIAN/FRENCH</td>\n",
       "      <td></td>\n",
       "      <td>46029</td>\n",
       "      <td>484.515789</td>\n",
       "      <td>4.018454</td>\n",
       "    </tr>\n",
       "  </tbody>\n",
       "</table>\n",
       "</div>"
      ],
      "text/plain": [
       "   item_id  manufacturer  department  brand            commodity_desc  \\\n",
       "0    25671             2       3.309      0                  FRZN ICE   \n",
       "1    26081             2       6.956      0  NO COMMODITY DESCRIPTION   \n",
       "2    26093            69       4.175      1                     BREAD   \n",
       "\n",
       "            sub_commodity_desc curr_size_of_product  department_2  \\\n",
       "0          ICE - CRUSHED/CUBED                22 LB       2025562   \n",
       "1  NO SUBCOMMODITY DESCRIPTION                               3274   \n",
       "2         BREAD:ITALIAN/FRENCH                              46029   \n",
       "\n",
       "   department_3  department_4  \n",
       "0  21321.705263      2.747838  \n",
       "1     34.463158      4.692906  \n",
       "2    484.515789      4.018454  "
      ]
     },
     "execution_count": 49,
     "metadata": {},
     "output_type": "execute_result"
    }
   ],
   "source": [
    "item_features.head(3)"
   ]
  },
  {
   "cell_type": "code",
   "execution_count": 50,
   "metadata": {},
   "outputs": [
    {
     "data": {
      "text/html": [
       "<div>\n",
       "<style scoped>\n",
       "    .dataframe tbody tr th:only-of-type {\n",
       "        vertical-align: middle;\n",
       "    }\n",
       "\n",
       "    .dataframe tbody tr th {\n",
       "        vertical-align: top;\n",
       "    }\n",
       "\n",
       "    .dataframe thead th {\n",
       "        text-align: right;\n",
       "    }\n",
       "</style>\n",
       "<table border=\"1\" class=\"dataframe\">\n",
       "  <thead>\n",
       "    <tr style=\"text-align: right;\">\n",
       "      <th></th>\n",
       "      <th>age_desc</th>\n",
       "      <th>marital_status_code</th>\n",
       "      <th>income_desc</th>\n",
       "      <th>homeowner_desc</th>\n",
       "      <th>hh_comp_desc</th>\n",
       "      <th>household_size_desc</th>\n",
       "      <th>kid_category_desc</th>\n",
       "      <th>user_id</th>\n",
       "    </tr>\n",
       "  </thead>\n",
       "  <tbody>\n",
       "    <tr>\n",
       "      <th>0</th>\n",
       "      <td>65+</td>\n",
       "      <td>A</td>\n",
       "      <td>35-49K</td>\n",
       "      <td>Homeowner</td>\n",
       "      <td>2 Adults No Kids</td>\n",
       "      <td>2</td>\n",
       "      <td>None/Unknown</td>\n",
       "      <td>1</td>\n",
       "    </tr>\n",
       "    <tr>\n",
       "      <th>1</th>\n",
       "      <td>45-54</td>\n",
       "      <td>A</td>\n",
       "      <td>50-74K</td>\n",
       "      <td>Homeowner</td>\n",
       "      <td>2 Adults No Kids</td>\n",
       "      <td>2</td>\n",
       "      <td>None/Unknown</td>\n",
       "      <td>7</td>\n",
       "    </tr>\n",
       "    <tr>\n",
       "      <th>2</th>\n",
       "      <td>25-34</td>\n",
       "      <td>U</td>\n",
       "      <td>25-34K</td>\n",
       "      <td>Unknown</td>\n",
       "      <td>2 Adults Kids</td>\n",
       "      <td>3</td>\n",
       "      <td>1</td>\n",
       "      <td>8</td>\n",
       "    </tr>\n",
       "  </tbody>\n",
       "</table>\n",
       "</div>"
      ],
      "text/plain": [
       "  age_desc marital_status_code income_desc homeowner_desc      hh_comp_desc  \\\n",
       "0      65+                   A      35-49K      Homeowner  2 Adults No Kids   \n",
       "1    45-54                   A      50-74K      Homeowner  2 Adults No Kids   \n",
       "2    25-34                   U      25-34K        Unknown     2 Adults Kids   \n",
       "\n",
       "  household_size_desc kid_category_desc  user_id  \n",
       "0                   2      None/Unknown        1  \n",
       "1                   2      None/Unknown        7  \n",
       "2                   3                 1        8  "
      ]
     },
     "execution_count": 50,
     "metadata": {},
     "output_type": "execute_result"
    }
   ],
   "source": [
    "user_features.head(3)"
   ]
  },
  {
   "cell_type": "markdown",
   "metadata": {},
   "source": [
    "Категориальные переменные возраста \"age_desc\" и дохода \"income_desc\" представляют собой числовые отрезки.\n",
    "Заменим из значения на порядковые номера этих отрезков, отсортированных по возрастанию"
   ]
  },
  {
   "cell_type": "code",
   "execution_count": 51,
   "metadata": {},
   "outputs": [
    {
     "data": {
      "text/plain": [
       "['19-24', '25-34', '35-44', '45-54', '55-64', '65+']"
      ]
     },
     "execution_count": 51,
     "metadata": {},
     "output_type": "execute_result"
    }
   ],
   "source": [
    "# age_desc\n",
    "age_desc = user_features['age_desc'].sort_values().unique().tolist()\n",
    "age_desc"
   ]
  },
  {
   "cell_type": "code",
   "execution_count": 52,
   "metadata": {},
   "outputs": [
    {
     "data": {
      "text/plain": [
       "{'19-24': 1, '25-34': 2, '35-44': 3, '45-54': 4, '55-64': 5, '65+': 6}"
      ]
     },
     "execution_count": 52,
     "metadata": {},
     "output_type": "execute_result"
    }
   ],
   "source": [
    "age_desc = {i: age_desc.index(i) + 1 for i in age_desc}\n",
    "age_desc"
   ]
  },
  {
   "cell_type": "code",
   "execution_count": 53,
   "metadata": {},
   "outputs": [],
   "source": [
    "user_features['age_desc'] = user_features['age_desc'].replace(age_desc)"
   ]
  },
  {
   "cell_type": "code",
   "execution_count": 54,
   "metadata": {},
   "outputs": [
    {
     "data": {
      "text/plain": [
       "['35-49K',\n",
       " '50-74K',\n",
       " '25-34K',\n",
       " '75-99K',\n",
       " 'Under 15K',\n",
       " '100-124K',\n",
       " '15-24K',\n",
       " '125-149K',\n",
       " '150-174K',\n",
       " '250K+',\n",
       " '175-199K',\n",
       " '200-249K']"
      ]
     },
     "execution_count": 54,
     "metadata": {},
     "output_type": "execute_result"
    }
   ],
   "source": [
    "# income_desc\n",
    "income_desc = user_features['income_desc'].unique().tolist()\n",
    "income_desc"
   ]
  },
  {
   "cell_type": "code",
   "execution_count": 55,
   "metadata": {},
   "outputs": [
    {
     "data": {
      "text/plain": [
       "{'Under 15K': 1,\n",
       " '15-24K': 2,\n",
       " '25-34K': 3,\n",
       " '35-49K': 4,\n",
       " '50-74K': 5,\n",
       " '75-99K': 6,\n",
       " '100-124K': 7,\n",
       " '125-149K': 8,\n",
       " '150-174K': 9,\n",
       " '175-199K': 10,\n",
       " '200-249K': 11,\n",
       " '250K+': 12}"
      ]
     },
     "execution_count": 55,
     "metadata": {},
     "output_type": "execute_result"
    }
   ],
   "source": [
    "sort_dict = {i: int(''.join([x for x in i.replace('+', '000') if x.isdigit()])) for i in income_desc}\n",
    "income_desc = sorted(income_desc, key=lambda x: sort_dict[x])\n",
    "income_desc = {i: income_desc.index(i) + 1 for i in income_desc}\n",
    "income_desc"
   ]
  },
  {
   "cell_type": "code",
   "execution_count": 56,
   "metadata": {},
   "outputs": [],
   "source": [
    "user_features['income_desc'] = user_features['income_desc'].replace(income_desc)"
   ]
  },
  {
   "cell_type": "code",
   "execution_count": 57,
   "metadata": {},
   "outputs": [
    {
     "data": {
      "text/plain": [
       "['A', 'U', 'B']"
      ]
     },
     "execution_count": 57,
     "metadata": {},
     "output_type": "execute_result"
    }
   ],
   "source": [
    "# marital_status_code\n",
    "marital_status_code = user_features['marital_status_code'].unique().tolist()\n",
    "marital_status_code"
   ]
  },
  {
   "cell_type": "code",
   "execution_count": 58,
   "metadata": {},
   "outputs": [
    {
     "name": "stderr",
     "output_type": "stream",
     "text": [
      "/home/sergey/anaconda3/lib/python3.7/site-packages/ipykernel_launcher.py:3: FutureWarning: Indexing with multiple keys (implicitly converted to a tuple of keys) will be deprecated, use a list instead.\n",
      "  This is separate from the ipykernel package so we can avoid doing imports until\n"
     ]
    },
    {
     "data": {
      "text/html": [
       "<div>\n",
       "<style scoped>\n",
       "    .dataframe tbody tr th:only-of-type {\n",
       "        vertical-align: middle;\n",
       "    }\n",
       "\n",
       "    .dataframe tbody tr th {\n",
       "        vertical-align: top;\n",
       "    }\n",
       "\n",
       "    .dataframe thead th {\n",
       "        text-align: right;\n",
       "    }\n",
       "</style>\n",
       "<table border=\"1\" class=\"dataframe\">\n",
       "  <thead>\n",
       "    <tr style=\"text-align: right;\">\n",
       "      <th></th>\n",
       "      <th>quantity</th>\n",
       "      <th>sales_value</th>\n",
       "    </tr>\n",
       "    <tr>\n",
       "      <th>marital_status_code</th>\n",
       "      <th></th>\n",
       "      <th></th>\n",
       "    </tr>\n",
       "  </thead>\n",
       "  <tbody>\n",
       "    <tr>\n",
       "      <th>A</th>\n",
       "      <td>127.509619</td>\n",
       "      <td>3.250494</td>\n",
       "    </tr>\n",
       "    <tr>\n",
       "      <th>B</th>\n",
       "      <td>97.528100</td>\n",
       "      <td>3.090275</td>\n",
       "    </tr>\n",
       "    <tr>\n",
       "      <th>U</th>\n",
       "      <td>106.614632</td>\n",
       "      <td>3.060332</td>\n",
       "    </tr>\n",
       "  </tbody>\n",
       "</table>\n",
       "</div>"
      ],
      "text/plain": [
       "                       quantity  sales_value\n",
       "marital_status_code                         \n",
       "A                    127.509619     3.250494\n",
       "B                     97.528100     3.090275\n",
       "U                    106.614632     3.060332"
      ]
     },
     "execution_count": 58,
     "metadata": {},
     "output_type": "execute_result"
    }
   ],
   "source": [
    "msc = data\\\n",
    "    .join(user_features[['user_id', 'marital_status_code']].set_index('user_id'), on='user_id')\\\n",
    "    .groupby('marital_status_code')['quantity', 'sales_value', 'user_id']\\\n",
    "    .agg({'quantity': np.sum, 'sales_value': np.sum, 'user_id': 'count'})\n",
    "msc['quantity'] = msc['quantity'] / msc['user_id']\n",
    "msc['sales_value'] = msc['sales_value'] / msc['user_id']\n",
    "msc = msc[['quantity', 'sales_value']]\n",
    "msc"
   ]
  },
  {
   "cell_type": "code",
   "execution_count": 59,
   "metadata": {},
   "outputs": [
    {
     "data": {
      "text/plain": [
       "marital_status_code\n",
       "A    1.307414\n",
       "B    1.000000\n",
       "U    1.093168\n",
       "Name: quantity, dtype: float64"
      ]
     },
     "execution_count": 59,
     "metadata": {},
     "output_type": "execute_result"
    }
   ],
   "source": [
    "for col in msc: msc[col] = msc[col] / msc[col].min()\n",
    "# marital_status_code = {ind: round(msc['quantity'][ind] * msc['sales_value'][ind], 3) for ind in msc.index}\n",
    "marital_status_code = msc['quantity']\n",
    "marital_status_code"
   ]
  },
  {
   "cell_type": "code",
   "execution_count": 60,
   "metadata": {},
   "outputs": [],
   "source": [
    "user_features['marital_status_code'] = user_features['marital_status_code'].replace(marital_status_code)"
   ]
  },
  {
   "cell_type": "code",
   "execution_count": 61,
   "metadata": {},
   "outputs": [
    {
     "data": {
      "text/plain": [
       "['Homeowner', 'Unknown', 'Renter', 'Probable Renter', 'Probable Owner']"
      ]
     },
     "execution_count": 61,
     "metadata": {},
     "output_type": "execute_result"
    }
   ],
   "source": [
    "# homeowner_desc\n",
    "homeowner_desc = user_features['homeowner_desc'].unique().tolist()\n",
    "homeowner_desc"
   ]
  },
  {
   "cell_type": "code",
   "execution_count": 62,
   "metadata": {},
   "outputs": [
    {
     "name": "stderr",
     "output_type": "stream",
     "text": [
      "/home/sergey/anaconda3/lib/python3.7/site-packages/ipykernel_launcher.py:3: FutureWarning: Indexing with multiple keys (implicitly converted to a tuple of keys) will be deprecated, use a list instead.\n",
      "  This is separate from the ipykernel package so we can avoid doing imports until\n"
     ]
    },
    {
     "data": {
      "text/html": [
       "<div>\n",
       "<style scoped>\n",
       "    .dataframe tbody tr th:only-of-type {\n",
       "        vertical-align: middle;\n",
       "    }\n",
       "\n",
       "    .dataframe tbody tr th {\n",
       "        vertical-align: top;\n",
       "    }\n",
       "\n",
       "    .dataframe thead th {\n",
       "        text-align: right;\n",
       "    }\n",
       "</style>\n",
       "<table border=\"1\" class=\"dataframe\">\n",
       "  <thead>\n",
       "    <tr style=\"text-align: right;\">\n",
       "      <th></th>\n",
       "      <th>quantity</th>\n",
       "      <th>sales_value</th>\n",
       "    </tr>\n",
       "    <tr>\n",
       "      <th>homeowner_desc</th>\n",
       "      <th></th>\n",
       "      <th></th>\n",
       "    </tr>\n",
       "  </thead>\n",
       "  <tbody>\n",
       "    <tr>\n",
       "      <th>Homeowner</th>\n",
       "      <td>131.441044</td>\n",
       "      <td>3.279978</td>\n",
       "    </tr>\n",
       "    <tr>\n",
       "      <th>Probable Owner</th>\n",
       "      <td>52.485749</td>\n",
       "      <td>2.652866</td>\n",
       "    </tr>\n",
       "    <tr>\n",
       "      <th>Probable Renter</th>\n",
       "      <td>100.661533</td>\n",
       "      <td>2.777568</td>\n",
       "    </tr>\n",
       "    <tr>\n",
       "      <th>Renter</th>\n",
       "      <td>102.086751</td>\n",
       "      <td>2.847901</td>\n",
       "    </tr>\n",
       "    <tr>\n",
       "      <th>Unknown</th>\n",
       "      <td>81.173326</td>\n",
       "      <td>2.943884</td>\n",
       "    </tr>\n",
       "  </tbody>\n",
       "</table>\n",
       "</div>"
      ],
      "text/plain": [
       "                   quantity  sales_value\n",
       "homeowner_desc                          \n",
       "Homeowner        131.441044     3.279978\n",
       "Probable Owner    52.485749     2.652866\n",
       "Probable Renter  100.661533     2.777568\n",
       "Renter           102.086751     2.847901\n",
       "Unknown           81.173326     2.943884"
      ]
     },
     "execution_count": 62,
     "metadata": {},
     "output_type": "execute_result"
    }
   ],
   "source": [
    "hd = data\\\n",
    "    .join(user_features[['user_id', 'homeowner_desc']].set_index('user_id'), on='user_id')\\\n",
    "    .groupby('homeowner_desc')['quantity', 'sales_value', 'user_id']\\\n",
    "    .agg({'quantity': np.sum, 'sales_value': np.sum, 'user_id': 'count'})\n",
    "hd['quantity'] = hd['quantity'] / hd['user_id']\n",
    "hd['sales_value'] = hd['sales_value'] / hd['user_id']\n",
    "hd = hd[['quantity', 'sales_value']]\n",
    "hd"
   ]
  },
  {
   "cell_type": "code",
   "execution_count": 63,
   "metadata": {},
   "outputs": [
    {
     "data": {
      "text/plain": [
       "homeowner_desc\n",
       "Homeowner          2.504319\n",
       "Probable Owner     1.000000\n",
       "Probable Renter    1.917883\n",
       "Renter             1.945038\n",
       "Unknown            1.546578\n",
       "Name: quantity, dtype: float64"
      ]
     },
     "execution_count": 63,
     "metadata": {},
     "output_type": "execute_result"
    }
   ],
   "source": [
    "for col in hd: hd[col] = hd[col] / hd[col].min()\n",
    "# homeowner_desc = {ind: round(hd['quantity'][ind] * hd['sales_value'][ind], 3) for ind in hd.index}\n",
    "homeowner_desc = hd['quantity']\n",
    "homeowner_desc"
   ]
  },
  {
   "cell_type": "code",
   "execution_count": 64,
   "metadata": {},
   "outputs": [],
   "source": [
    "user_features['homeowner_desc'] = user_features['homeowner_desc'].replace(homeowner_desc)"
   ]
  },
  {
   "cell_type": "code",
   "execution_count": 65,
   "metadata": {},
   "outputs": [
    {
     "data": {
      "text/plain": [
       "['2 Adults No Kids',\n",
       " '2 Adults Kids',\n",
       " 'Single Female',\n",
       " 'Unknown',\n",
       " 'Single Male',\n",
       " '1 Adult Kids']"
      ]
     },
     "execution_count": 65,
     "metadata": {},
     "output_type": "execute_result"
    }
   ],
   "source": [
    "# hh_comp_desc\n",
    "hh_comp_desc = user_features['hh_comp_desc'].unique().tolist()\n",
    "hh_comp_desc"
   ]
  },
  {
   "cell_type": "code",
   "execution_count": 66,
   "metadata": {},
   "outputs": [
    {
     "name": "stderr",
     "output_type": "stream",
     "text": [
      "/home/sergey/anaconda3/lib/python3.7/site-packages/ipykernel_launcher.py:3: FutureWarning: Indexing with multiple keys (implicitly converted to a tuple of keys) will be deprecated, use a list instead.\n",
      "  This is separate from the ipykernel package so we can avoid doing imports until\n"
     ]
    },
    {
     "data": {
      "text/html": [
       "<div>\n",
       "<style scoped>\n",
       "    .dataframe tbody tr th:only-of-type {\n",
       "        vertical-align: middle;\n",
       "    }\n",
       "\n",
       "    .dataframe tbody tr th {\n",
       "        vertical-align: top;\n",
       "    }\n",
       "\n",
       "    .dataframe thead th {\n",
       "        text-align: right;\n",
       "    }\n",
       "</style>\n",
       "<table border=\"1\" class=\"dataframe\">\n",
       "  <thead>\n",
       "    <tr style=\"text-align: right;\">\n",
       "      <th></th>\n",
       "      <th>quantity</th>\n",
       "      <th>sales_value</th>\n",
       "    </tr>\n",
       "    <tr>\n",
       "      <th>hh_comp_desc</th>\n",
       "      <th></th>\n",
       "      <th></th>\n",
       "    </tr>\n",
       "  </thead>\n",
       "  <tbody>\n",
       "    <tr>\n",
       "      <th>1 Adult Kids</th>\n",
       "      <td>72.774976</td>\n",
       "      <td>2.887673</td>\n",
       "    </tr>\n",
       "    <tr>\n",
       "      <th>2 Adults Kids</th>\n",
       "      <td>128.892619</td>\n",
       "      <td>3.200989</td>\n",
       "    </tr>\n",
       "    <tr>\n",
       "      <th>2 Adults No Kids</th>\n",
       "      <td>120.876584</td>\n",
       "      <td>3.256483</td>\n",
       "    </tr>\n",
       "    <tr>\n",
       "      <th>Single Female</th>\n",
       "      <td>95.358114</td>\n",
       "      <td>3.009910</td>\n",
       "    </tr>\n",
       "    <tr>\n",
       "      <th>Single Male</th>\n",
       "      <td>108.560633</td>\n",
       "      <td>3.145966</td>\n",
       "    </tr>\n",
       "    <tr>\n",
       "      <th>Unknown</th>\n",
       "      <td>127.410604</td>\n",
       "      <td>3.087286</td>\n",
       "    </tr>\n",
       "  </tbody>\n",
       "</table>\n",
       "</div>"
      ],
      "text/plain": [
       "                    quantity  sales_value\n",
       "hh_comp_desc                             \n",
       "1 Adult Kids       72.774976     2.887673\n",
       "2 Adults Kids     128.892619     3.200989\n",
       "2 Adults No Kids  120.876584     3.256483\n",
       "Single Female      95.358114     3.009910\n",
       "Single Male       108.560633     3.145966\n",
       "Unknown           127.410604     3.087286"
      ]
     },
     "execution_count": 66,
     "metadata": {},
     "output_type": "execute_result"
    }
   ],
   "source": [
    "hhcd = data\\\n",
    "    .join(user_features[['user_id', 'hh_comp_desc']].set_index('user_id'), on='user_id')\\\n",
    "    .groupby('hh_comp_desc')['quantity', 'sales_value', 'user_id']\\\n",
    "    .agg({'quantity': np.sum, 'sales_value': np.sum, 'user_id': 'count'})\n",
    "hhcd['quantity'] = hhcd['quantity'] / hhcd['user_id']\n",
    "hhcd['sales_value'] = hhcd['sales_value'] / hhcd['user_id']\n",
    "hhcd = hhcd[['quantity', 'sales_value']]\n",
    "hhcd"
   ]
  },
  {
   "cell_type": "code",
   "execution_count": 67,
   "metadata": {},
   "outputs": [
    {
     "data": {
      "text/plain": [
       "hh_comp_desc\n",
       "1 Adult Kids        1.000000\n",
       "2 Adults Kids       1.771112\n",
       "2 Adults No Kids    1.660964\n",
       "Single Female       1.310315\n",
       "Single Male         1.491730\n",
       "Unknown             1.750747\n",
       "Name: quantity, dtype: float64"
      ]
     },
     "execution_count": 67,
     "metadata": {},
     "output_type": "execute_result"
    }
   ],
   "source": [
    "for col in hhcd: hhcd[col] = hhcd[col] / hhcd[col].min()\n",
    "# hh_comp_desc = {ind: round(hhcd['quantity'][ind] * hhcd['sales_value'][ind], 3) for ind in hhcd.index}\n",
    "hh_comp_desc = hhcd['quantity']\n",
    "hh_comp_desc"
   ]
  },
  {
   "cell_type": "code",
   "execution_count": 68,
   "metadata": {},
   "outputs": [],
   "source": [
    "user_features['hh_comp_desc'] = user_features['hh_comp_desc'].replace(hh_comp_desc)"
   ]
  },
  {
   "cell_type": "code",
   "execution_count": 69,
   "metadata": {},
   "outputs": [
    {
     "data": {
      "text/plain": [
       "['1', '2', '3', '4', '5+']"
      ]
     },
     "execution_count": 69,
     "metadata": {},
     "output_type": "execute_result"
    }
   ],
   "source": [
    "# household_size_desc\n",
    "household_size_desc = user_features['household_size_desc'].sort_values().unique().tolist()\n",
    "household_size_desc"
   ]
  },
  {
   "cell_type": "code",
   "execution_count": 70,
   "metadata": {},
   "outputs": [
    {
     "data": {
      "text/plain": [
       "{'1': 1, '2': 2, '3': 3, '4': 4, '5+': 5}"
      ]
     },
     "execution_count": 70,
     "metadata": {},
     "output_type": "execute_result"
    }
   ],
   "source": [
    "household_size_desc = {i: household_size_desc.index(i) + 1 for i in household_size_desc}\n",
    "household_size_desc"
   ]
  },
  {
   "cell_type": "code",
   "execution_count": 71,
   "metadata": {},
   "outputs": [],
   "source": [
    "user_features['household_size_desc'] = user_features['household_size_desc'].replace(household_size_desc)"
   ]
  },
  {
   "cell_type": "code",
   "execution_count": 72,
   "metadata": {},
   "outputs": [
    {
     "data": {
      "text/plain": [
       "['None/Unknown', '1', '2', '3+']"
      ]
     },
     "execution_count": 72,
     "metadata": {},
     "output_type": "execute_result"
    }
   ],
   "source": [
    "# kid_category_desc\n",
    "kid_category_desc = user_features['kid_category_desc'].unique().tolist()\n",
    "kid_category_desc"
   ]
  },
  {
   "cell_type": "code",
   "execution_count": 73,
   "metadata": {},
   "outputs": [
    {
     "data": {
      "text/plain": [
       "{'None/Unknown': 0, '1': 1, '2': 2, '3+': 3}"
      ]
     },
     "execution_count": 73,
     "metadata": {},
     "output_type": "execute_result"
    }
   ],
   "source": [
    "kid_category_desc = {i: kid_category_desc.index(i) for i in kid_category_desc}\n",
    "kid_category_desc"
   ]
  },
  {
   "cell_type": "code",
   "execution_count": 74,
   "metadata": {},
   "outputs": [],
   "source": [
    "user_features['kid_category_desc'] = user_features['kid_category_desc'].replace(kid_category_desc)"
   ]
  },
  {
   "cell_type": "code",
   "execution_count": 75,
   "metadata": {},
   "outputs": [
    {
     "data": {
      "text/html": [
       "<div>\n",
       "<style scoped>\n",
       "    .dataframe tbody tr th:only-of-type {\n",
       "        vertical-align: middle;\n",
       "    }\n",
       "\n",
       "    .dataframe tbody tr th {\n",
       "        vertical-align: top;\n",
       "    }\n",
       "\n",
       "    .dataframe thead th {\n",
       "        text-align: right;\n",
       "    }\n",
       "</style>\n",
       "<table border=\"1\" class=\"dataframe\">\n",
       "  <thead>\n",
       "    <tr style=\"text-align: right;\">\n",
       "      <th></th>\n",
       "      <th>age_desc</th>\n",
       "      <th>marital_status_code</th>\n",
       "      <th>income_desc</th>\n",
       "      <th>homeowner_desc</th>\n",
       "      <th>hh_comp_desc</th>\n",
       "      <th>household_size_desc</th>\n",
       "      <th>kid_category_desc</th>\n",
       "      <th>user_id</th>\n",
       "    </tr>\n",
       "  </thead>\n",
       "  <tbody>\n",
       "    <tr>\n",
       "      <th>0</th>\n",
       "      <td>6</td>\n",
       "      <td>1.307414</td>\n",
       "      <td>4</td>\n",
       "      <td>2.504319</td>\n",
       "      <td>1.660964</td>\n",
       "      <td>2</td>\n",
       "      <td>0</td>\n",
       "      <td>1</td>\n",
       "    </tr>\n",
       "    <tr>\n",
       "      <th>1</th>\n",
       "      <td>4</td>\n",
       "      <td>1.307414</td>\n",
       "      <td>5</td>\n",
       "      <td>2.504319</td>\n",
       "      <td>1.660964</td>\n",
       "      <td>2</td>\n",
       "      <td>0</td>\n",
       "      <td>7</td>\n",
       "    </tr>\n",
       "    <tr>\n",
       "      <th>2</th>\n",
       "      <td>2</td>\n",
       "      <td>1.093168</td>\n",
       "      <td>3</td>\n",
       "      <td>1.546578</td>\n",
       "      <td>1.771112</td>\n",
       "      <td>3</td>\n",
       "      <td>1</td>\n",
       "      <td>8</td>\n",
       "    </tr>\n",
       "  </tbody>\n",
       "</table>\n",
       "</div>"
      ],
      "text/plain": [
       "   age_desc  marital_status_code  income_desc  homeowner_desc  hh_comp_desc  \\\n",
       "0         6             1.307414            4        2.504319      1.660964   \n",
       "1         4             1.307414            5        2.504319      1.660964   \n",
       "2         2             1.093168            3        1.546578      1.771112   \n",
       "\n",
       "   household_size_desc  kid_category_desc  user_id  \n",
       "0                    2                  0        1  \n",
       "1                    2                  0        7  \n",
       "2                    3                  1        8  "
      ]
     },
     "execution_count": 75,
     "metadata": {},
     "output_type": "execute_result"
    }
   ],
   "source": [
    "user_features.head(3)"
   ]
  },
  {
   "cell_type": "code",
   "execution_count": 76,
   "metadata": {},
   "outputs": [
    {
     "data": {
      "text/html": [
       "<div>\n",
       "<style scoped>\n",
       "    .dataframe tbody tr th:only-of-type {\n",
       "        vertical-align: middle;\n",
       "    }\n",
       "\n",
       "    .dataframe tbody tr th {\n",
       "        vertical-align: top;\n",
       "    }\n",
       "\n",
       "    .dataframe thead th {\n",
       "        text-align: right;\n",
       "    }\n",
       "</style>\n",
       "<table border=\"1\" class=\"dataframe\">\n",
       "  <thead>\n",
       "    <tr style=\"text-align: right;\">\n",
       "      <th></th>\n",
       "      <th>user_id</th>\n",
       "      <th>item_id</th>\n",
       "      <th>target</th>\n",
       "      <th>avg_chek</th>\n",
       "      <th>AUTOMOTIVE_avg_cost_by_user</th>\n",
       "      <th>CHARITABLE CONT_avg_cost_by_user</th>\n",
       "      <th>CHEF SHOPPE_avg_cost_by_user</th>\n",
       "      <th>CNTRL/STORE SUP_avg_cost_by_user</th>\n",
       "      <th>COSMETICS_avg_cost_by_user</th>\n",
       "      <th>COUP/STR &amp; MFG_avg_cost_by_user</th>\n",
       "      <th>...</th>\n",
       "      <th>department_2</th>\n",
       "      <th>department_3</th>\n",
       "      <th>department_4</th>\n",
       "      <th>age_desc</th>\n",
       "      <th>marital_status_code</th>\n",
       "      <th>income_desc</th>\n",
       "      <th>homeowner_desc</th>\n",
       "      <th>hh_comp_desc</th>\n",
       "      <th>household_size_desc</th>\n",
       "      <th>kid_category_desc</th>\n",
       "    </tr>\n",
       "  </thead>\n",
       "  <tbody>\n",
       "    <tr>\n",
       "      <th>0</th>\n",
       "      <td>2070</td>\n",
       "      <td>1082185.0</td>\n",
       "      <td>1.0</td>\n",
       "      <td>2.891039</td>\n",
       "      <td>0.0</td>\n",
       "      <td>0.0</td>\n",
       "      <td>3.24</td>\n",
       "      <td>0.0</td>\n",
       "      <td>21.132</td>\n",
       "      <td>4.99</td>\n",
       "      <td>...</td>\n",
       "      <td>297164.0</td>\n",
       "      <td>3128.042105</td>\n",
       "      <td>2.354539</td>\n",
       "      <td>4.0</td>\n",
       "      <td>1.093168</td>\n",
       "      <td>5.0</td>\n",
       "      <td>1.546578</td>\n",
       "      <td>1.750747</td>\n",
       "      <td>1.0</td>\n",
       "      <td>0.0</td>\n",
       "    </tr>\n",
       "    <tr>\n",
       "      <th>1</th>\n",
       "      <td>2070</td>\n",
       "      <td>1029743.0</td>\n",
       "      <td>0.0</td>\n",
       "      <td>2.891039</td>\n",
       "      <td>0.0</td>\n",
       "      <td>0.0</td>\n",
       "      <td>3.24</td>\n",
       "      <td>0.0</td>\n",
       "      <td>21.132</td>\n",
       "      <td>4.99</td>\n",
       "      <td>...</td>\n",
       "      <td>2025562.0</td>\n",
       "      <td>21321.705263</td>\n",
       "      <td>2.747838</td>\n",
       "      <td>4.0</td>\n",
       "      <td>1.093168</td>\n",
       "      <td>5.0</td>\n",
       "      <td>1.546578</td>\n",
       "      <td>1.750747</td>\n",
       "      <td>1.0</td>\n",
       "      <td>0.0</td>\n",
       "    </tr>\n",
       "    <tr>\n",
       "      <th>2</th>\n",
       "      <td>2070</td>\n",
       "      <td>1098066.0</td>\n",
       "      <td>0.0</td>\n",
       "      <td>2.891039</td>\n",
       "      <td>0.0</td>\n",
       "      <td>0.0</td>\n",
       "      <td>3.24</td>\n",
       "      <td>0.0</td>\n",
       "      <td>21.132</td>\n",
       "      <td>4.99</td>\n",
       "      <td>...</td>\n",
       "      <td>2025562.0</td>\n",
       "      <td>21321.705263</td>\n",
       "      <td>2.747838</td>\n",
       "      <td>4.0</td>\n",
       "      <td>1.093168</td>\n",
       "      <td>5.0</td>\n",
       "      <td>1.546578</td>\n",
       "      <td>1.750747</td>\n",
       "      <td>1.0</td>\n",
       "      <td>0.0</td>\n",
       "    </tr>\n",
       "  </tbody>\n",
       "</table>\n",
       "<p>3 rows × 115 columns</p>\n",
       "</div>"
      ],
      "text/plain": [
       "   user_id    item_id  target  avg_chek  AUTOMOTIVE_avg_cost_by_user  \\\n",
       "0     2070  1082185.0     1.0  2.891039                          0.0   \n",
       "1     2070  1029743.0     0.0  2.891039                          0.0   \n",
       "2     2070  1098066.0     0.0  2.891039                          0.0   \n",
       "\n",
       "   CHARITABLE CONT_avg_cost_by_user  CHEF SHOPPE_avg_cost_by_user  \\\n",
       "0                               0.0                          3.24   \n",
       "1                               0.0                          3.24   \n",
       "2                               0.0                          3.24   \n",
       "\n",
       "   CNTRL/STORE SUP_avg_cost_by_user  COSMETICS_avg_cost_by_user  \\\n",
       "0                               0.0                      21.132   \n",
       "1                               0.0                      21.132   \n",
       "2                               0.0                      21.132   \n",
       "\n",
       "   COUP/STR & MFG_avg_cost_by_user  ...  department_2  department_3  \\\n",
       "0                             4.99  ...      297164.0   3128.042105   \n",
       "1                             4.99  ...     2025562.0  21321.705263   \n",
       "2                             4.99  ...     2025562.0  21321.705263   \n",
       "\n",
       "   department_4  age_desc  marital_status_code  income_desc  homeowner_desc  \\\n",
       "0      2.354539       4.0             1.093168          5.0        1.546578   \n",
       "1      2.747838       4.0             1.093168          5.0        1.546578   \n",
       "2      2.747838       4.0             1.093168          5.0        1.546578   \n",
       "\n",
       "   hh_comp_desc  household_size_desc  kid_category_desc  \n",
       "0      1.750747                  1.0                0.0  \n",
       "1      1.750747                  1.0                0.0  \n",
       "2      1.750747                  1.0                0.0  \n",
       "\n",
       "[3 rows x 115 columns]"
      ]
     },
     "execution_count": 76,
     "metadata": {},
     "output_type": "execute_result"
    }
   ],
   "source": [
    "target_lvl_2 = target_lvl_2.merge(avg_chek, on='user_id', how='left')\n",
    "target_lvl_2 = target_lvl_2.merge(user_dep, on='user_id', how='left')\n",
    "target_lvl_2 = target_lvl_2.merge(user_dep_2, on='user_id', how='left')\n",
    "target_lvl_2 = target_lvl_2.merge(pf, on='user_id', how='left')\n",
    "target_lvl_2 = target_lvl_2.merge(pw, on='user_id', how='left')\n",
    "target_lvl_2 = target_lvl_2.merge(sp, on='user_id', how='left')\n",
    "\n",
    "target_lvl_2 = target_lvl_2.merge(npw, on='item_id', how='left')\n",
    "target_lvl_2 = target_lvl_2.merge(aip, on='item_id', how='left')\n",
    "\n",
    "target_lvl_2 = target_lvl_2.merge(item_features, on='item_id', how='left')\n",
    "target_lvl_2 = target_lvl_2.merge(user_features, on='user_id', how='left')\n",
    "\n",
    "target_lvl_2.head(3)"
   ]
  },
  {
   "cell_type": "markdown",
   "metadata": {},
   "source": [
    "---"
   ]
  },
  {
   "cell_type": "code",
   "execution_count": 183,
   "metadata": {},
   "outputs": [],
   "source": [
    "X_train = target_lvl_2.drop('target', axis=1)\n",
    "y_train = target_lvl_2[['target']]"
   ]
  },
  {
   "cell_type": "code",
   "execution_count": 184,
   "metadata": {},
   "outputs": [],
   "source": [
    "# cat_feats = X_train.columns[2:].tolist()\n",
    "cat_feats = ['commodity_desc', 'sub_commodity_desc', 'curr_size_of_product']\n",
    "X_train[cat_feats] = X_train[cat_feats].astype('category')"
   ]
  },
  {
   "cell_type": "code",
   "execution_count": null,
   "metadata": {},
   "outputs": [],
   "source": [
    "from sklearn.model_selection import GridSearchCV, RandomizedSearchCV\n",
    "\n",
    "params_LGBMC = {\n",
    "    'objective': ['binary'],\n",
    "    'categorical_column': [cat_feats],\n",
    "    'max_depth': [1, 3, 5, 7, 10],\n",
    "    'num_leaves': [10, 20, 30, 40, 50],\n",
    "    'n_estimators': [50, 100, 200, 300, 400, 500],\n",
    "    'learning_rate': [0.05, 0.1, 0.15, 0.2, 0.25, 0.3],\n",
    "    'random_state': [42]\n",
    "}\n",
    "\n",
    "rand_search_LGBMC = RandomizedSearchCV(\n",
    "    LGBMClassifier(),\n",
    "    param_distributions=params_LGBMC,\n",
    "    n_iter = 15,\n",
    "    cv=6,\n",
    "    refit=False\n",
    ")\n",
    "\n",
    "search_LGBMC = rand_search_LGBMC.fit(X_train, y_train)\n",
    "params_LGBMC = search_LGBMC.best_params_"
   ]
  },
  {
   "cell_type": "code",
   "execution_count": 186,
   "metadata": {},
   "outputs": [],
   "source": [
    "params_LGBMC ={\n",
    "    'random_state': 42,\n",
    "    'objective': 'binary',\n",
    "    'num_leaves': 30,\n",
    "    'n_estimators': 200,\n",
    "    'max_depth': 5,\n",
    "    'learning_rate': 0.2,\n",
    "    'categorical_column': [\n",
    "        'commodity_desc',\n",
    "        'sub_commodity_desc',\n",
    "        'curr_size_of_product'\n",
    "    ]\n",
    "}"
   ]
  },
  {
   "cell_type": "code",
   "execution_count": 187,
   "metadata": {},
   "outputs": [
    {
     "data": {
      "text/plain": [
       "LGBMClassifier(boosting_type='gbdt',\n",
       "               categorical_column=['commodity_desc', 'sub_commodity_desc',\n",
       "                                   'curr_size_of_product'],\n",
       "               class_weight=None, colsample_bytree=1.0, importance_type='split',\n",
       "               learning_rate=0.2, max_depth=5, min_child_samples=20,\n",
       "               min_child_weight=0.001, min_split_gain=0.0, n_estimators=200,\n",
       "               n_jobs=-1, num_leaves=30, objective='binary', random_state=42,\n",
       "               reg_alpha=0.0, reg_lambda=0.0, silent='warn', subsample=1.0,\n",
       "               subsample_for_bin=200000, subsample_freq=0)"
      ]
     },
     "execution_count": 187,
     "metadata": {},
     "output_type": "execute_result"
    }
   ],
   "source": [
    "lgb = LGBMClassifier(**params_LGBMC)\n",
    "lgb.fit(X_train, y_train)"
   ]
  },
  {
   "cell_type": "code",
   "execution_count": 188,
   "metadata": {},
   "outputs": [
    {
     "data": {
      "text/plain": [
       "array([ True,  True, False, ..., False, False, False])"
      ]
     },
     "execution_count": 188,
     "metadata": {},
     "output_type": "execute_result"
    }
   ],
   "source": [
    "preds = lgb.predict_proba(X_train)[:, 1]\n",
    "precision, recall, thresholds = precision_recall_curve(y_train, preds)\n",
    "fscore = (2 * precision * recall) / (precision + recall)\n",
    "ix = np.argmax(fscore)\n",
    "train_preds = preds > thresholds[ix]\n",
    "\n",
    "# train_preds = lgb.predict(X_train)\n",
    "\n",
    "train_preds"
   ]
  },
  {
   "cell_type": "code",
   "execution_count": 189,
   "metadata": {},
   "outputs": [
    {
     "data": {
      "text/plain": [
       "(41728, 41728)"
      ]
     },
     "execution_count": 189,
     "metadata": {},
     "output_type": "execute_result"
    }
   ],
   "source": [
    "len(X_train), len(train_preds)"
   ]
  },
  {
   "cell_type": "code",
   "execution_count": 190,
   "metadata": {},
   "outputs": [
    {
     "data": {
      "text/plain": [
       "0.15121740797546013"
      ]
     },
     "execution_count": 190,
     "metadata": {},
     "output_type": "execute_result"
    }
   ],
   "source": [
    "train_preds.mean()"
   ]
  },
  {
   "cell_type": "code",
   "execution_count": 191,
   "metadata": {},
   "outputs": [],
   "source": [
    "X_train['preds'] = train_preds"
   ]
  },
  {
   "cell_type": "code",
   "execution_count": 192,
   "metadata": {},
   "outputs": [],
   "source": [
    "X_train['y_true'] = y_train"
   ]
  },
  {
   "cell_type": "code",
   "execution_count": 193,
   "metadata": {},
   "outputs": [
    {
     "data": {
      "text/html": [
       "<div>\n",
       "<style scoped>\n",
       "    .dataframe tbody tr th:only-of-type {\n",
       "        vertical-align: middle;\n",
       "    }\n",
       "\n",
       "    .dataframe tbody tr th {\n",
       "        vertical-align: top;\n",
       "    }\n",
       "\n",
       "    .dataframe thead th {\n",
       "        text-align: right;\n",
       "    }\n",
       "</style>\n",
       "<table border=\"1\" class=\"dataframe\">\n",
       "  <thead>\n",
       "    <tr style=\"text-align: right;\">\n",
       "      <th></th>\n",
       "      <th>user_id</th>\n",
       "      <th>item_id</th>\n",
       "      <th>avg_chek</th>\n",
       "      <th>AUTOMOTIVE_avg_cost_by_user</th>\n",
       "      <th>CHARITABLE CONT_avg_cost_by_user</th>\n",
       "      <th>CHEF SHOPPE_avg_cost_by_user</th>\n",
       "      <th>CNTRL/STORE SUP_avg_cost_by_user</th>\n",
       "      <th>COSMETICS_avg_cost_by_user</th>\n",
       "      <th>COUP/STR &amp; MFG_avg_cost_by_user</th>\n",
       "      <th>DAIRY DELI_avg_cost_by_user</th>\n",
       "      <th>...</th>\n",
       "      <th>department_4</th>\n",
       "      <th>age_desc</th>\n",
       "      <th>marital_status_code</th>\n",
       "      <th>income_desc</th>\n",
       "      <th>homeowner_desc</th>\n",
       "      <th>hh_comp_desc</th>\n",
       "      <th>household_size_desc</th>\n",
       "      <th>kid_category_desc</th>\n",
       "      <th>preds</th>\n",
       "      <th>y_true</th>\n",
       "    </tr>\n",
       "  </thead>\n",
       "  <tbody>\n",
       "    <tr>\n",
       "      <th>0</th>\n",
       "      <td>2070</td>\n",
       "      <td>1082185.0</td>\n",
       "      <td>2.891039</td>\n",
       "      <td>0.0</td>\n",
       "      <td>0.0</td>\n",
       "      <td>3.24</td>\n",
       "      <td>0.0</td>\n",
       "      <td>21.132</td>\n",
       "      <td>4.99</td>\n",
       "      <td>0.0</td>\n",
       "      <td>...</td>\n",
       "      <td>2.354539</td>\n",
       "      <td>4.0</td>\n",
       "      <td>1.093168</td>\n",
       "      <td>5.0</td>\n",
       "      <td>1.546578</td>\n",
       "      <td>1.750747</td>\n",
       "      <td>1.0</td>\n",
       "      <td>0.0</td>\n",
       "      <td>True</td>\n",
       "      <td>1.0</td>\n",
       "    </tr>\n",
       "    <tr>\n",
       "      <th>1</th>\n",
       "      <td>2070</td>\n",
       "      <td>1029743.0</td>\n",
       "      <td>2.891039</td>\n",
       "      <td>0.0</td>\n",
       "      <td>0.0</td>\n",
       "      <td>3.24</td>\n",
       "      <td>0.0</td>\n",
       "      <td>21.132</td>\n",
       "      <td>4.99</td>\n",
       "      <td>0.0</td>\n",
       "      <td>...</td>\n",
       "      <td>2.747838</td>\n",
       "      <td>4.0</td>\n",
       "      <td>1.093168</td>\n",
       "      <td>5.0</td>\n",
       "      <td>1.546578</td>\n",
       "      <td>1.750747</td>\n",
       "      <td>1.0</td>\n",
       "      <td>0.0</td>\n",
       "      <td>True</td>\n",
       "      <td>0.0</td>\n",
       "    </tr>\n",
       "    <tr>\n",
       "      <th>2</th>\n",
       "      <td>2070</td>\n",
       "      <td>1098066.0</td>\n",
       "      <td>2.891039</td>\n",
       "      <td>0.0</td>\n",
       "      <td>0.0</td>\n",
       "      <td>3.24</td>\n",
       "      <td>0.0</td>\n",
       "      <td>21.132</td>\n",
       "      <td>4.99</td>\n",
       "      <td>0.0</td>\n",
       "      <td>...</td>\n",
       "      <td>2.747838</td>\n",
       "      <td>4.0</td>\n",
       "      <td>1.093168</td>\n",
       "      <td>5.0</td>\n",
       "      <td>1.546578</td>\n",
       "      <td>1.750747</td>\n",
       "      <td>1.0</td>\n",
       "      <td>0.0</td>\n",
       "      <td>False</td>\n",
       "      <td>0.0</td>\n",
       "    </tr>\n",
       "  </tbody>\n",
       "</table>\n",
       "<p>3 rows × 116 columns</p>\n",
       "</div>"
      ],
      "text/plain": [
       "   user_id    item_id  avg_chek  AUTOMOTIVE_avg_cost_by_user  \\\n",
       "0     2070  1082185.0  2.891039                          0.0   \n",
       "1     2070  1029743.0  2.891039                          0.0   \n",
       "2     2070  1098066.0  2.891039                          0.0   \n",
       "\n",
       "   CHARITABLE CONT_avg_cost_by_user  CHEF SHOPPE_avg_cost_by_user  \\\n",
       "0                               0.0                          3.24   \n",
       "1                               0.0                          3.24   \n",
       "2                               0.0                          3.24   \n",
       "\n",
       "   CNTRL/STORE SUP_avg_cost_by_user  COSMETICS_avg_cost_by_user  \\\n",
       "0                               0.0                      21.132   \n",
       "1                               0.0                      21.132   \n",
       "2                               0.0                      21.132   \n",
       "\n",
       "   COUP/STR & MFG_avg_cost_by_user  DAIRY DELI_avg_cost_by_user  ...  \\\n",
       "0                             4.99                          0.0  ...   \n",
       "1                             4.99                          0.0  ...   \n",
       "2                             4.99                          0.0  ...   \n",
       "\n",
       "   department_4  age_desc  marital_status_code  income_desc  homeowner_desc  \\\n",
       "0      2.354539       4.0             1.093168          5.0        1.546578   \n",
       "1      2.747838       4.0             1.093168          5.0        1.546578   \n",
       "2      2.747838       4.0             1.093168          5.0        1.546578   \n",
       "\n",
       "   hh_comp_desc  household_size_desc  kid_category_desc  preds  y_true  \n",
       "0      1.750747                  1.0                0.0   True     1.0  \n",
       "1      1.750747                  1.0                0.0   True     0.0  \n",
       "2      1.750747                  1.0                0.0  False     0.0  \n",
       "\n",
       "[3 rows x 116 columns]"
      ]
     },
     "execution_count": 193,
     "metadata": {},
     "output_type": "execute_result"
    }
   ],
   "source": [
    "X_train.head(3)"
   ]
  },
  {
   "cell_type": "code",
   "execution_count": 194,
   "metadata": {},
   "outputs": [
    {
     "data": {
      "text/html": [
       "<div>\n",
       "<style scoped>\n",
       "    .dataframe tbody tr th:only-of-type {\n",
       "        vertical-align: middle;\n",
       "    }\n",
       "\n",
       "    .dataframe tbody tr th {\n",
       "        vertical-align: top;\n",
       "    }\n",
       "\n",
       "    .dataframe thead th {\n",
       "        text-align: right;\n",
       "    }\n",
       "</style>\n",
       "<table border=\"1\" class=\"dataframe\">\n",
       "  <thead>\n",
       "    <tr style=\"text-align: right;\">\n",
       "      <th></th>\n",
       "      <th>user_id</th>\n",
       "      <th>actual</th>\n",
       "    </tr>\n",
       "  </thead>\n",
       "  <tbody>\n",
       "    <tr>\n",
       "      <th>0</th>\n",
       "      <td>1</td>\n",
       "      <td>[1082185.0, 1004906.0, 1005186.0]</td>\n",
       "    </tr>\n",
       "    <tr>\n",
       "      <th>1</th>\n",
       "      <td>2</td>\n",
       "      <td>[1082185.0, 1133018.0, 1106523.0, 1053690.0]</td>\n",
       "    </tr>\n",
       "    <tr>\n",
       "      <th>2</th>\n",
       "      <td>4</td>\n",
       "      <td>[6773204.0]</td>\n",
       "    </tr>\n",
       "  </tbody>\n",
       "</table>\n",
       "</div>"
      ],
      "text/plain": [
       "   user_id                                        actual\n",
       "0        1             [1082185.0, 1004906.0, 1005186.0]\n",
       "1        2  [1082185.0, 1133018.0, 1106523.0, 1053690.0]\n",
       "2        4                                   [6773204.0]"
      ]
     },
     "execution_count": 194,
     "metadata": {},
     "output_type": "execute_result"
    }
   ],
   "source": [
    "train_data_result = X_train[X_train['y_true']>0]\\\n",
    "    .groupby('user_id')['item_id'].agg(list).reset_index()\\\n",
    "    .rename(columns={'item_id': 'actual'})\n",
    "train_data_result.head(3)"
   ]
  },
  {
   "cell_type": "code",
   "execution_count": 195,
   "metadata": {},
   "outputs": [
    {
     "data": {
      "text/html": [
       "<div>\n",
       "<style scoped>\n",
       "    .dataframe tbody tr th:only-of-type {\n",
       "        vertical-align: middle;\n",
       "    }\n",
       "\n",
       "    .dataframe tbody tr th {\n",
       "        vertical-align: top;\n",
       "    }\n",
       "\n",
       "    .dataframe thead th {\n",
       "        text-align: right;\n",
       "    }\n",
       "</style>\n",
       "<table border=\"1\" class=\"dataframe\">\n",
       "  <thead>\n",
       "    <tr style=\"text-align: right;\">\n",
       "      <th></th>\n",
       "      <th>user_id</th>\n",
       "      <th>lightGBM</th>\n",
       "    </tr>\n",
       "  </thead>\n",
       "  <tbody>\n",
       "    <tr>\n",
       "      <th>0</th>\n",
       "      <td>1</td>\n",
       "      <td>[1082185.0, 1029743.0, 1005186.0]</td>\n",
       "    </tr>\n",
       "    <tr>\n",
       "      <th>1</th>\n",
       "      <td>2</td>\n",
       "      <td>[1082185.0, 1133018.0, 1106523.0, 1053690.0]</td>\n",
       "    </tr>\n",
       "    <tr>\n",
       "      <th>2</th>\n",
       "      <td>4</td>\n",
       "      <td>[6773204.0]</td>\n",
       "    </tr>\n",
       "  </tbody>\n",
       "</table>\n",
       "</div>"
      ],
      "text/plain": [
       "   user_id                                      lightGBM\n",
       "0        1             [1082185.0, 1029743.0, 1005186.0]\n",
       "1        2  [1082185.0, 1133018.0, 1106523.0, 1053690.0]\n",
       "2        4                                   [6773204.0]"
      ]
     },
     "execution_count": 195,
     "metadata": {},
     "output_type": "execute_result"
    }
   ],
   "source": [
    "preds = X_train[X_train['preds']>0]\\\n",
    "    .groupby('user_id')['item_id'].agg(list).reset_index()\\\n",
    "    .rename(columns={'item_id': 'lightGBM'})\n",
    "preds.head(3)"
   ]
  },
  {
   "cell_type": "code",
   "execution_count": 196,
   "metadata": {},
   "outputs": [
    {
     "data": {
      "text/html": [
       "<div>\n",
       "<style scoped>\n",
       "    .dataframe tbody tr th:only-of-type {\n",
       "        vertical-align: middle;\n",
       "    }\n",
       "\n",
       "    .dataframe tbody tr th {\n",
       "        vertical-align: top;\n",
       "    }\n",
       "\n",
       "    .dataframe thead th {\n",
       "        text-align: right;\n",
       "    }\n",
       "</style>\n",
       "<table border=\"1\" class=\"dataframe\">\n",
       "  <thead>\n",
       "    <tr style=\"text-align: right;\">\n",
       "      <th></th>\n",
       "      <th>user_id</th>\n",
       "      <th>actual</th>\n",
       "      <th>lightGBM</th>\n",
       "    </tr>\n",
       "  </thead>\n",
       "  <tbody>\n",
       "    <tr>\n",
       "      <th>0</th>\n",
       "      <td>1</td>\n",
       "      <td>[1082185.0, 1004906.0, 1005186.0]</td>\n",
       "      <td>[1082185.0, 1029743.0, 1005186.0]</td>\n",
       "    </tr>\n",
       "    <tr>\n",
       "      <th>1</th>\n",
       "      <td>2</td>\n",
       "      <td>[1082185.0, 1133018.0, 1106523.0, 1053690.0]</td>\n",
       "      <td>[1082185.0, 1133018.0, 1106523.0, 1053690.0]</td>\n",
       "    </tr>\n",
       "    <tr>\n",
       "      <th>2</th>\n",
       "      <td>4</td>\n",
       "      <td>[6773204.0]</td>\n",
       "      <td>[6773204.0]</td>\n",
       "    </tr>\n",
       "  </tbody>\n",
       "</table>\n",
       "</div>"
      ],
      "text/plain": [
       "   user_id                                        actual  \\\n",
       "0        1             [1082185.0, 1004906.0, 1005186.0]   \n",
       "1        2  [1082185.0, 1133018.0, 1106523.0, 1053690.0]   \n",
       "2        4                                   [6773204.0]   \n",
       "\n",
       "                                       lightGBM  \n",
       "0             [1082185.0, 1029743.0, 1005186.0]  \n",
       "1  [1082185.0, 1133018.0, 1106523.0, 1053690.0]  \n",
       "2                                   [6773204.0]  "
      ]
     },
     "execution_count": 196,
     "metadata": {},
     "output_type": "execute_result"
    }
   ],
   "source": [
    "train_data_result = train_data_result.merge(preds, on='user_id', how='left')\n",
    "train_data_result.head(3)"
   ]
  },
  {
   "cell_type": "code",
   "execution_count": 197,
   "metadata": {},
   "outputs": [],
   "source": [
    "def precision_at_k(recommended_list, bought_list, k=5):\n",
    "    \n",
    "    bought_list = np.array(bought_list)\n",
    "    recommended_list = np.array(recommended_list)\n",
    "    try: recommended_list = recommended_list[:k]\n",
    "    except: recommended_list = []\n",
    "    flags = np.isin(bought_list, recommended_list)\n",
    "    \n",
    "    return flags.sum() / len(recommended_list)"
   ]
  },
  {
   "cell_type": "code",
   "execution_count": 198,
   "metadata": {},
   "outputs": [
    {
     "name": "stderr",
     "output_type": "stream",
     "text": [
      "/home/sergey/anaconda3/lib/python3.7/site-packages/ipykernel_launcher.py:9: RuntimeWarning: invalid value encountered in long_scalars\n",
      "  if __name__ == '__main__':\n"
     ]
    },
    {
     "data": {
      "text/plain": [
       "0.7330765939238308"
      ]
     },
     "execution_count": 198,
     "metadata": {},
     "output_type": "execute_result"
    }
   ],
   "source": [
    "train_data_result.apply(lambda row: precision_at_k(row['lightGBM'], row['actual']), axis=1).mean()"
   ]
  },
  {
   "cell_type": "markdown",
   "metadata": {},
   "source": [
    "---"
   ]
  },
  {
   "cell_type": "code",
   "execution_count": 199,
   "metadata": {},
   "outputs": [],
   "source": [
    "# your code\n",
    "# X_val подготовить из data_val_lvl_2 также как и X_train из targets_lvl_2\n",
    "# val_preds = lgb.predict(X_val) #, где X_val - датасет подготовленный по аналогии с data_train_lvl_2"
   ]
  },
  {
   "cell_type": "code",
   "execution_count": 200,
   "metadata": {},
   "outputs": [
    {
     "name": "stderr",
     "output_type": "stream",
     "text": [
      "/home/sergey/anaconda3/lib/python3.7/site-packages/ipykernel_launcher.py:5: DeprecationWarning: The default dtype for empty Series will be 'object' instead of 'float64' in a future version. Specify a dtype explicitly to silence this warning.\n",
      "  \"\"\"\n"
     ]
    },
    {
     "data": {
      "text/html": [
       "<div>\n",
       "<style scoped>\n",
       "    .dataframe tbody tr th:only-of-type {\n",
       "        vertical-align: middle;\n",
       "    }\n",
       "\n",
       "    .dataframe tbody tr th {\n",
       "        vertical-align: top;\n",
       "    }\n",
       "\n",
       "    .dataframe thead th {\n",
       "        text-align: right;\n",
       "    }\n",
       "</style>\n",
       "<table border=\"1\" class=\"dataframe\">\n",
       "  <thead>\n",
       "    <tr style=\"text-align: right;\">\n",
       "      <th></th>\n",
       "      <th>user_id</th>\n",
       "      <th>item_id</th>\n",
       "      <th>avg_chek</th>\n",
       "      <th>AUTOMOTIVE_avg_cost_by_user</th>\n",
       "      <th>CHARITABLE CONT_avg_cost_by_user</th>\n",
       "      <th>CHEF SHOPPE_avg_cost_by_user</th>\n",
       "      <th>CNTRL/STORE SUP_avg_cost_by_user</th>\n",
       "      <th>COSMETICS_avg_cost_by_user</th>\n",
       "      <th>COUP/STR &amp; MFG_avg_cost_by_user</th>\n",
       "      <th>DAIRY DELI_avg_cost_by_user</th>\n",
       "      <th>...</th>\n",
       "      <th>department_2</th>\n",
       "      <th>department_3</th>\n",
       "      <th>department_4</th>\n",
       "      <th>age_desc</th>\n",
       "      <th>marital_status_code</th>\n",
       "      <th>income_desc</th>\n",
       "      <th>homeowner_desc</th>\n",
       "      <th>hh_comp_desc</th>\n",
       "      <th>household_size_desc</th>\n",
       "      <th>kid_category_desc</th>\n",
       "    </tr>\n",
       "  </thead>\n",
       "  <tbody>\n",
       "    <tr>\n",
       "      <th>0</th>\n",
       "      <td>338</td>\n",
       "      <td>1082185.0</td>\n",
       "      <td>2.491748</td>\n",
       "      <td>0.0</td>\n",
       "      <td>0.0</td>\n",
       "      <td>2.99</td>\n",
       "      <td>0.0</td>\n",
       "      <td>10.798</td>\n",
       "      <td>0.0</td>\n",
       "      <td>0.0</td>\n",
       "      <td>...</td>\n",
       "      <td>297164.0</td>\n",
       "      <td>3128.042105</td>\n",
       "      <td>2.354539</td>\n",
       "      <td>NaN</td>\n",
       "      <td>NaN</td>\n",
       "      <td>NaN</td>\n",
       "      <td>NaN</td>\n",
       "      <td>NaN</td>\n",
       "      <td>NaN</td>\n",
       "      <td>NaN</td>\n",
       "    </tr>\n",
       "    <tr>\n",
       "      <th>1</th>\n",
       "      <td>338</td>\n",
       "      <td>1029743.0</td>\n",
       "      <td>2.491748</td>\n",
       "      <td>0.0</td>\n",
       "      <td>0.0</td>\n",
       "      <td>2.99</td>\n",
       "      <td>0.0</td>\n",
       "      <td>10.798</td>\n",
       "      <td>0.0</td>\n",
       "      <td>0.0</td>\n",
       "      <td>...</td>\n",
       "      <td>2025562.0</td>\n",
       "      <td>21321.705263</td>\n",
       "      <td>2.747838</td>\n",
       "      <td>NaN</td>\n",
       "      <td>NaN</td>\n",
       "      <td>NaN</td>\n",
       "      <td>NaN</td>\n",
       "      <td>NaN</td>\n",
       "      <td>NaN</td>\n",
       "      <td>NaN</td>\n",
       "    </tr>\n",
       "    <tr>\n",
       "      <th>2</th>\n",
       "      <td>338</td>\n",
       "      <td>1098066.0</td>\n",
       "      <td>2.491748</td>\n",
       "      <td>0.0</td>\n",
       "      <td>0.0</td>\n",
       "      <td>2.99</td>\n",
       "      <td>0.0</td>\n",
       "      <td>10.798</td>\n",
       "      <td>0.0</td>\n",
       "      <td>0.0</td>\n",
       "      <td>...</td>\n",
       "      <td>2025562.0</td>\n",
       "      <td>21321.705263</td>\n",
       "      <td>2.747838</td>\n",
       "      <td>NaN</td>\n",
       "      <td>NaN</td>\n",
       "      <td>NaN</td>\n",
       "      <td>NaN</td>\n",
       "      <td>NaN</td>\n",
       "      <td>NaN</td>\n",
       "      <td>NaN</td>\n",
       "    </tr>\n",
       "    <tr>\n",
       "      <th>3</th>\n",
       "      <td>338</td>\n",
       "      <td>1127831.0</td>\n",
       "      <td>2.491748</td>\n",
       "      <td>0.0</td>\n",
       "      <td>0.0</td>\n",
       "      <td>2.99</td>\n",
       "      <td>0.0</td>\n",
       "      <td>10.798</td>\n",
       "      <td>0.0</td>\n",
       "      <td>0.0</td>\n",
       "      <td>...</td>\n",
       "      <td>297164.0</td>\n",
       "      <td>3128.042105</td>\n",
       "      <td>2.354539</td>\n",
       "      <td>NaN</td>\n",
       "      <td>NaN</td>\n",
       "      <td>NaN</td>\n",
       "      <td>NaN</td>\n",
       "      <td>NaN</td>\n",
       "      <td>NaN</td>\n",
       "      <td>NaN</td>\n",
       "    </tr>\n",
       "    <tr>\n",
       "      <th>4</th>\n",
       "      <td>338</td>\n",
       "      <td>995785.0</td>\n",
       "      <td>2.491748</td>\n",
       "      <td>0.0</td>\n",
       "      <td>0.0</td>\n",
       "      <td>2.99</td>\n",
       "      <td>0.0</td>\n",
       "      <td>10.798</td>\n",
       "      <td>0.0</td>\n",
       "      <td>0.0</td>\n",
       "      <td>...</td>\n",
       "      <td>297164.0</td>\n",
       "      <td>3128.042105</td>\n",
       "      <td>2.354539</td>\n",
       "      <td>NaN</td>\n",
       "      <td>NaN</td>\n",
       "      <td>NaN</td>\n",
       "      <td>NaN</td>\n",
       "      <td>NaN</td>\n",
       "      <td>NaN</td>\n",
       "      <td>NaN</td>\n",
       "    </tr>\n",
       "  </tbody>\n",
       "</table>\n",
       "<p>5 rows × 114 columns</p>\n",
       "</div>"
      ],
      "text/plain": [
       "   user_id    item_id  avg_chek  AUTOMOTIVE_avg_cost_by_user  \\\n",
       "0      338  1082185.0  2.491748                          0.0   \n",
       "1      338  1029743.0  2.491748                          0.0   \n",
       "2      338  1098066.0  2.491748                          0.0   \n",
       "3      338  1127831.0  2.491748                          0.0   \n",
       "4      338   995785.0  2.491748                          0.0   \n",
       "\n",
       "   CHARITABLE CONT_avg_cost_by_user  CHEF SHOPPE_avg_cost_by_user  \\\n",
       "0                               0.0                          2.99   \n",
       "1                               0.0                          2.99   \n",
       "2                               0.0                          2.99   \n",
       "3                               0.0                          2.99   \n",
       "4                               0.0                          2.99   \n",
       "\n",
       "   CNTRL/STORE SUP_avg_cost_by_user  COSMETICS_avg_cost_by_user  \\\n",
       "0                               0.0                      10.798   \n",
       "1                               0.0                      10.798   \n",
       "2                               0.0                      10.798   \n",
       "3                               0.0                      10.798   \n",
       "4                               0.0                      10.798   \n",
       "\n",
       "   COUP/STR & MFG_avg_cost_by_user  DAIRY DELI_avg_cost_by_user  ...  \\\n",
       "0                              0.0                          0.0  ...   \n",
       "1                              0.0                          0.0  ...   \n",
       "2                              0.0                          0.0  ...   \n",
       "3                              0.0                          0.0  ...   \n",
       "4                              0.0                          0.0  ...   \n",
       "\n",
       "   department_2  department_3  department_4  age_desc  marital_status_code  \\\n",
       "0      297164.0   3128.042105      2.354539       NaN                  NaN   \n",
       "1     2025562.0  21321.705263      2.747838       NaN                  NaN   \n",
       "2     2025562.0  21321.705263      2.747838       NaN                  NaN   \n",
       "3      297164.0   3128.042105      2.354539       NaN                  NaN   \n",
       "4      297164.0   3128.042105      2.354539       NaN                  NaN   \n",
       "\n",
       "   income_desc  homeowner_desc  hh_comp_desc  household_size_desc  \\\n",
       "0          NaN             NaN           NaN                  NaN   \n",
       "1          NaN             NaN           NaN                  NaN   \n",
       "2          NaN             NaN           NaN                  NaN   \n",
       "3          NaN             NaN           NaN                  NaN   \n",
       "4          NaN             NaN           NaN                  NaN   \n",
       "\n",
       "   kid_category_desc  \n",
       "0                NaN  \n",
       "1                NaN  \n",
       "2                NaN  \n",
       "3                NaN  \n",
       "4                NaN  \n",
       "\n",
       "[5 rows x 114 columns]"
      ]
     },
     "execution_count": 200,
     "metadata": {},
     "output_type": "execute_result"
    }
   ],
   "source": [
    "users_val_lvl_2 = pd.DataFrame(data_val_lvl_2['user_id'].unique(), columns=['user_id'])\n",
    "train_users = data_train_lvl_1['user_id'].unique()\n",
    "users_val_lvl_2 = users_val_lvl_2[users_val_lvl_2['user_id'].isin(train_users)]\n",
    "users_val_lvl_2['candidates'] = users_val_lvl_2['user_id'].apply(lambda x: recommender.get_own_recommendations(x, N=20))\n",
    "s = users_val_lvl_2.apply(lambda x: pd.Series(x['candidates']), axis=1).stack().reset_index(level=1, drop=True)\n",
    "s.name = 'item_id'\n",
    "users_val_lvl_2 = users_val_lvl_2.drop('candidates', axis=1).join(s)\n",
    "users_val_lvl_2['flag'] = 1\n",
    "targets_val_lvl_2 = data_val_lvl_2[['user_id', 'item_id']].copy()\n",
    "targets_val_lvl_2['target'] = 1\n",
    "targets_val_lvl_2 = users_val_lvl_2.merge(targets_val_lvl_2, on=['user_id', 'item_id'], how='left')\n",
    "targets_val_lvl_2 = targets_val_lvl_2[~targets_val_lvl_2.duplicated()]\n",
    "targets_val_lvl_2['target'].fillna(0, inplace= True)\n",
    "targets_val_lvl_2.drop('flag', axis=1, inplace=True)\n",
    "\n",
    "targets_val_lvl_2 = targets_val_lvl_2.merge(avg_chek, on='user_id', how='left')\n",
    "targets_val_lvl_2 = targets_val_lvl_2.merge(user_dep, on='user_id', how='left')\n",
    "targets_val_lvl_2 = targets_val_lvl_2.merge(user_dep_2, on='user_id', how='left')\n",
    "targets_val_lvl_2 = targets_val_lvl_2.merge(pf, on='user_id', how='left')\n",
    "targets_val_lvl_2 = targets_val_lvl_2.merge(pw, on='user_id', how='left')\n",
    "targets_val_lvl_2 = targets_val_lvl_2.merge(sp, on='user_id', how='left')\n",
    "\n",
    "targets_val_lvl_2 = targets_val_lvl_2.merge(npw, on='item_id', how='left')\n",
    "targets_val_lvl_2 = targets_val_lvl_2.merge(aip, on='item_id', how='left')\n",
    "\n",
    "targets_val_lvl_2 = targets_val_lvl_2.merge(item_features, on='item_id', how='left')\n",
    "targets_val_lvl_2 = targets_val_lvl_2.merge(user_features, on='user_id', how='left')\n",
    "\n",
    "X_val = targets_val_lvl_2.drop('target', axis=1)\n",
    "y_val = targets_val_lvl_2[['target']]\n",
    "X_val[cat_feats] = X_val[cat_feats].astype('category')\n",
    "\n",
    "X_val.head()"
   ]
  },
  {
   "cell_type": "code",
   "execution_count": 201,
   "metadata": {},
   "outputs": [
    {
     "data": {
      "text/html": [
       "<div>\n",
       "<style scoped>\n",
       "    .dataframe tbody tr th:only-of-type {\n",
       "        vertical-align: middle;\n",
       "    }\n",
       "\n",
       "    .dataframe tbody tr th {\n",
       "        vertical-align: top;\n",
       "    }\n",
       "\n",
       "    .dataframe thead th {\n",
       "        text-align: right;\n",
       "    }\n",
       "</style>\n",
       "<table border=\"1\" class=\"dataframe\">\n",
       "  <thead>\n",
       "    <tr style=\"text-align: right;\">\n",
       "      <th></th>\n",
       "      <th>user_id</th>\n",
       "      <th>actual</th>\n",
       "      <th>own</th>\n",
       "      <th>lightGBM</th>\n",
       "    </tr>\n",
       "  </thead>\n",
       "  <tbody>\n",
       "    <tr>\n",
       "      <th>0</th>\n",
       "      <td>1</td>\n",
       "      <td>[1082185.0, 1004906.0, 1005186.0]</td>\n",
       "      <td>[1082185, 1029743, 995785, 1004906, 1081177]</td>\n",
       "      <td>[1082185.0, 1029743.0, 1005186.0]</td>\n",
       "    </tr>\n",
       "    <tr>\n",
       "      <th>1</th>\n",
       "      <td>3</td>\n",
       "      <td>[1053690.0]</td>\n",
       "      <td>[1082185, 1098066, 1127831, 6534178, 1044078]</td>\n",
       "      <td>[1082185.0, 1044078.0, 1106523.0, 1053690.0, 1...</td>\n",
       "    </tr>\n",
       "    <tr>\n",
       "      <th>2</th>\n",
       "      <td>6</td>\n",
       "      <td>[5569230.0, 1024306.0, 1037863.0]</td>\n",
       "      <td>[1082185, 1029743, 1127831, 6534178, 995785]</td>\n",
       "      <td>[1082185.0, 1029743.0, 1024306.0, 1037863.0]</td>\n",
       "    </tr>\n",
       "  </tbody>\n",
       "</table>\n",
       "</div>"
      ],
      "text/plain": [
       "   user_id                             actual  \\\n",
       "0        1  [1082185.0, 1004906.0, 1005186.0]   \n",
       "1        3                        [1053690.0]   \n",
       "2        6  [5569230.0, 1024306.0, 1037863.0]   \n",
       "\n",
       "                                             own  \\\n",
       "0   [1082185, 1029743, 995785, 1004906, 1081177]   \n",
       "1  [1082185, 1098066, 1127831, 6534178, 1044078]   \n",
       "2   [1082185, 1029743, 1127831, 6534178, 995785]   \n",
       "\n",
       "                                            lightGBM  \n",
       "0                  [1082185.0, 1029743.0, 1005186.0]  \n",
       "1  [1082185.0, 1044078.0, 1106523.0, 1053690.0, 1...  \n",
       "2       [1082185.0, 1029743.0, 1024306.0, 1037863.0]  "
      ]
     },
     "execution_count": 201,
     "metadata": {},
     "output_type": "execute_result"
    }
   ],
   "source": [
    "preds = lgb.predict_proba(X_val)[:, 1]\n",
    "X_val['preds'] = preds > thresholds[ix]\n",
    "# preds = lgb.predict(X_val)\n",
    "# X_val['preds'] = preds\n",
    "X_val['y_true'] = y_val\n",
    "\n",
    "val_data_result = X_val[X_val['y_true']>0]\\\n",
    "    .groupby('user_id')['item_id'].agg(list).reset_index()\\\n",
    "    .rename(columns={'item_id': 'actual'})\n",
    "\n",
    "val_data_result['own'] = val_data_result['user_id']\\\n",
    "    .apply(lambda x: recommender.get_own_recommendations(x, N=5))\n",
    "\n",
    "preds = X_val[X_val['preds']>0]\\\n",
    "    .groupby('user_id')['item_id'].agg(list).reset_index()\\\n",
    "    .rename(columns={'item_id': 'lightGBM'})\n",
    "\n",
    "val_data_result = val_data_result.merge(preds, on='user_id', how='left')\n",
    "\n",
    "val_data_result.head(3)"
   ]
  },
  {
   "cell_type": "code",
   "execution_count": 202,
   "metadata": {},
   "outputs": [
    {
     "name": "stderr",
     "output_type": "stream",
     "text": [
      "/home/sergey/anaconda3/lib/python3.7/site-packages/ipykernel_launcher.py:9: RuntimeWarning: invalid value encountered in long_scalars\n",
      "  if __name__ == '__main__':\n"
     ]
    },
    {
     "data": {
      "text/html": [
       "<div>\n",
       "<style scoped>\n",
       "    .dataframe tbody tr th:only-of-type {\n",
       "        vertical-align: middle;\n",
       "    }\n",
       "\n",
       "    .dataframe tbody tr th {\n",
       "        vertical-align: top;\n",
       "    }\n",
       "\n",
       "    .dataframe thead th {\n",
       "        text-align: right;\n",
       "    }\n",
       "</style>\n",
       "<table border=\"1\" class=\"dataframe\">\n",
       "  <thead>\n",
       "    <tr style=\"text-align: right;\">\n",
       "      <th></th>\n",
       "      <th>precision_at_k</th>\n",
       "    </tr>\n",
       "  </thead>\n",
       "  <tbody>\n",
       "    <tr>\n",
       "      <th>own</th>\n",
       "      <td>0.2582</td>\n",
       "    </tr>\n",
       "    <tr>\n",
       "      <th>lightGBM</th>\n",
       "      <td>0.4576</td>\n",
       "    </tr>\n",
       "  </tbody>\n",
       "</table>\n",
       "</div>"
      ],
      "text/plain": [
       "          precision_at_k\n",
       "own               0.2582\n",
       "lightGBM          0.4576"
      ]
     },
     "execution_count": 202,
     "metadata": {},
     "output_type": "execute_result"
    }
   ],
   "source": [
    "pd.DataFrame(\n",
    "    pd.Series({\n",
    "        col: round(val_data_result.apply(\n",
    "            lambda row: precision_at_k(row[col], row['actual'], k=5),\n",
    "            axis=1).mean(), 4) for col in val_data_result.columns[2:].tolist()\n",
    "    }), \n",
    "    columns=['precision_at_k']\n",
    ")"
   ]
  }
 ],
 "metadata": {
  "kernelspec": {
   "display_name": "Python 3 (ipykernel)",
   "language": "python",
   "name": "python3"
  },
  "language_info": {
   "codemirror_mode": {
    "name": "ipython",
    "version": 3
   },
   "file_extension": ".py",
   "mimetype": "text/x-python",
   "name": "python",
   "nbconvert_exporter": "python",
   "pygments_lexer": "ipython3",
   "version": "3.9.12"
  }
 },
 "nbformat": 4,
 "nbformat_minor": 4
}
