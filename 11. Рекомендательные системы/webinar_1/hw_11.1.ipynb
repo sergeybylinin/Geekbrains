{
 "cells": [
  {
   "cell_type": "code",
   "execution_count": 184,
   "id": "3e5caef5",
   "metadata": {},
   "outputs": [],
   "source": [
    "import pandas as pd\n",
    "import numpy as np"
   ]
  },
  {
   "cell_type": "code",
   "execution_count": null,
   "id": "5a2437be",
   "metadata": {},
   "outputs": [],
   "source": [
    "from random import randint"
   ]
  },
  {
   "cell_type": "code",
   "execution_count": 187,
   "id": "7e81ed66",
   "metadata": {},
   "outputs": [
    {
     "data": {
      "text/html": [
       "<div>\n",
       "<style scoped>\n",
       "    .dataframe tbody tr th:only-of-type {\n",
       "        vertical-align: middle;\n",
       "    }\n",
       "\n",
       "    .dataframe tbody tr th {\n",
       "        vertical-align: top;\n",
       "    }\n",
       "\n",
       "    .dataframe thead th {\n",
       "        text-align: right;\n",
       "    }\n",
       "</style>\n",
       "<table border=\"1\" class=\"dataframe\">\n",
       "  <thead>\n",
       "    <tr style=\"text-align: right;\">\n",
       "      <th></th>\n",
       "      <th>user</th>\n",
       "      <th>item</th>\n",
       "      <th>purchase_fact</th>\n",
       "    </tr>\n",
       "  </thead>\n",
       "  <tbody>\n",
       "    <tr>\n",
       "      <th>0</th>\n",
       "      <td>Иван</td>\n",
       "      <td>Хлеб Бородинский</td>\n",
       "      <td>1</td>\n",
       "    </tr>\n",
       "    <tr>\n",
       "      <th>1</th>\n",
       "      <td>Иван</td>\n",
       "      <td>Хлеб Белый</td>\n",
       "      <td>0</td>\n",
       "    </tr>\n",
       "    <tr>\n",
       "      <th>2</th>\n",
       "      <td>Василий</td>\n",
       "      <td>Йогурт Epica</td>\n",
       "      <td>1</td>\n",
       "    </tr>\n",
       "  </tbody>\n",
       "</table>\n",
       "</div>"
      ],
      "text/plain": [
       "      user              item  purchase_fact\n",
       "0     Иван  Хлеб Бородинский              1\n",
       "1     Иван        Хлеб Белый              0\n",
       "2  Василий      Йогурт Epica              1"
      ]
     },
     "execution_count": 187,
     "metadata": {},
     "output_type": "execute_result"
    }
   ],
   "source": [
    "pd.DataFrame([\n",
    "    ['Иван', 'Хлеб Бородинский', 1],\n",
    "    ['Иван', 'Хлеб Белый', 0],\n",
    "    ['Василий', 'Йогурт Epica', 1]\n",
    "], columns=['user', 'item', 'purchase_fact'])"
   ]
  },
  {
   "cell_type": "code",
   "execution_count": 277,
   "id": "79bae9b8",
   "metadata": {},
   "outputs": [],
   "source": [
    "recommended_list = [143, 156, 1134, 991, 27, 1543, 3345, 533, 11, 43] #id товаров\n",
    "bought_list = [521, 32, 143, 991]"
   ]
  },
  {
   "cell_type": "code",
   "execution_count": null,
   "id": "4b7ceb38",
   "metadata": {},
   "outputs": [],
   "source": [
    "prices_recommended = [randint(100, 500) for i in range(10)]\n",
    "prices_recommended"
   ]
  },
  {
   "cell_type": "code",
   "execution_count": 191,
   "id": "61ea8553",
   "metadata": {},
   "outputs": [],
   "source": [
    "def hit_rate(recommended_list, bought_list):\n",
    "    \n",
    "    \"\"\"был ли хотя бы 1 релевантный товар среди рекомендованных\"\"\"\n",
    "    \n",
    "    bought_list = np.array(bought_list)\n",
    "    recommended_list = np.array(recommended_list)\n",
    "    \n",
    "    flags = np.isin(bought_list, recommended_list)\n",
    "    \n",
    "    hit_rate = (flags.sum() > 0) * 1\n",
    "    \n",
    "    return hit_rate"
   ]
  },
  {
   "cell_type": "code",
   "execution_count": 206,
   "id": "8c5a5f9a",
   "metadata": {},
   "outputs": [],
   "source": [
    "def hit_rate_at_k(recommended_list, bought_list, k=5):\n",
    "    \n",
    "    \"\"\"был ли хотя бы 1 релевантный товар среди топ-k рекомендованных\"\"\"\n",
    "    \n",
    "    bought_list = np.array(bought_list)\n",
    "    recommended_list = np.array(recommended_list)[:k]\n",
    "    \n",
    "    flags = np.isin(bought_list, recommended_list)\n",
    "    \n",
    "    hit_rate_at_k = (flags.sum() > 0) * 1\n",
    "    \n",
    "    return hit_rate_at_k"
   ]
  },
  {
   "cell_type": "code",
   "execution_count": 205,
   "id": "7a955f18",
   "metadata": {},
   "outputs": [],
   "source": [
    "def precision(recommended_list, bought_list):\n",
    "    \n",
    "    bought_list = np.array(bought_list)\n",
    "    recommended_list = np.array(recommended_list)\n",
    "    \n",
    "    flags = np.isin(bought_list, recommended_list)\n",
    "    \n",
    "    precision = flags.sum() / len(recommended_list)\n",
    "    \n",
    "    return precision"
   ]
  },
  {
   "cell_type": "code",
   "execution_count": 207,
   "id": "26d628a1",
   "metadata": {},
   "outputs": [],
   "source": [
    "def precision_at_k(recommended_list, bought_list, k=5):\n",
    "    \n",
    "    bought_list = np.array(bought_list)\n",
    "    recommended_list = np.array(recommended_list)[:5]\n",
    "          \n",
    "    flags = np.isin(bought_list, recommended_list)\n",
    "    \n",
    "    precision_at_k = flags.sum() / len(recommended_list)\n",
    "    \n",
    "    return precision_at_k"
   ]
  },
  {
   "cell_type": "code",
   "execution_count": 273,
   "id": "8ab0e357",
   "metadata": {},
   "outputs": [],
   "source": [
    "def money_pricision_at_k(recommended_list, bought_list, prices_recommended, k=5):\n",
    "    \n",
    "    bought_list = np.array(bought_list)\n",
    "    recommended_list = np.array(recommended_list)[:k]\n",
    "    prices_recommended = np.array(prices_recommended)[:k]\n",
    "    \n",
    "    flags = np.isin(recommended_list, bought_list)\n",
    "    \n",
    "    money_pricision_at_k = (flags * prices_recommended).sum() / prices_recommended.sum()\n",
    "    \n",
    "    return money_pricision_at_k"
   ]
  },
  {
   "cell_type": "code",
   "execution_count": 271,
   "id": "0cec244f",
   "metadata": {},
   "outputs": [],
   "source": [
    "def recall(recommended_list, bought_list):\n",
    "    \n",
    "    \"\"\"доля рекомендованных товаров среди релевантных \"\"\"\n",
    "    \n",
    "    bought_list = np.array(bought_list)\n",
    "    recommended_list = np.array(recommended_list)\n",
    "    \n",
    "    flags = np.isin(bought_list, recommended_list)\n",
    "    \n",
    "    recall = flags.sum() / len(bought_list)\n",
    "    \n",
    "    return recall"
   ]
  },
  {
   "cell_type": "code",
   "execution_count": 272,
   "id": "989009d7",
   "metadata": {},
   "outputs": [],
   "source": [
    "def recall_at_k(recommended_list, bought_list, k=5):\n",
    "    \n",
    "    bought_list = np.array(bought_list)\n",
    "    recommended_list = np.array(recommended_list)[:k]\n",
    "    \n",
    "    flags = np.isin(bought_list, recommended_list)\n",
    "    \n",
    "    recall_at_k = flags.sum() / len(bought_list)\n",
    "    \n",
    "    return recall_at_k"
   ]
  },
  {
   "cell_type": "code",
   "execution_count": 276,
   "id": "d9e02172",
   "metadata": {},
   "outputs": [],
   "source": [
    "def money_recall_at_k(recommended_list, bought_list, prices_recommended, prices_bought, k=5):\n",
    "    \n",
    "    bought_list = np.array(bought_list)\n",
    "    recommended_list = np.array(recommended_list)[:k]\n",
    "    prices_recommended = np.array(prices_recommended)[:k]\n",
    "    prices_bought = np.array(prices_bought)\n",
    "        \n",
    "    flags = np.isin(recommended_list, bought_list)\n",
    "    \n",
    "    money_recall_at_k = (flags * prices_recommended).sum() / prices_bought.sum()\n",
    "    \n",
    "    return money_recall_at_k"
   ]
  },
  {
   "cell_type": "code",
   "execution_count": 311,
   "id": "508e7cbe",
   "metadata": {},
   "outputs": [],
   "source": [
    "def ap_at_k(recommended_list, bought_list, k=5):\n",
    "    \n",
    "    bought_list = np.array(bought_list)\n",
    "    recommended_list = np.array(recommended_list)\n",
    "    \n",
    "    flags = np.isin(recommended_list, bought_list)\n",
    "    \n",
    "    if not flags.sum(): return 0\n",
    "    \n",
    "    sum_ = np.array([\n",
    "        precision_at_k(recommended_list, bought_list, k=i+1)\n",
    "        for i in range(k-1) if flags[i]\n",
    "    ]).sum()\n",
    "    \n",
    "    result = sum_ / flags.sum()\n",
    "    \n",
    "    return result"
   ]
  },
  {
   "cell_type": "code",
   "execution_count": 332,
   "id": "fdd315c2",
   "metadata": {},
   "outputs": [],
   "source": [
    "recommended_list = [\n",
    "    [143, 156, 1134, 991, 27, 1543, 3345, 533, 11, 43],\n",
    "    [146, 156, 1134, 991, 27, 1543, 3345, 533, 11, 43]\n",
    "] #id товаров\n",
    "bought_list = [[521, 32, 143, 991], [146, 29]]"
   ]
  },
  {
   "cell_type": "code",
   "execution_count": 345,
   "id": "0e09fca4",
   "metadata": {},
   "outputs": [],
   "source": [
    "def map_at_k(recommended_list, bought_list, k=5):\n",
    "    \n",
    "    u = len(recommended_list)\n",
    "    map_at_k = np.array(\n",
    "        [ap_at_k(recommended_list[i], bought_list[i], k=k) \n",
    "        for i in range(u)]\n",
    "    ).sum() / u\n",
    "    \n",
    "    return map_at_k"
   ]
  },
  {
   "cell_type": "markdown",
   "id": "c7327745",
   "metadata": {},
   "source": [
    "---"
   ]
  },
  {
   "cell_type": "code",
   "execution_count": 60,
   "id": "3ffb9bc5",
   "metadata": {},
   "outputs": [],
   "source": [
    "import torch"
   ]
  },
  {
   "cell_type": "code",
   "execution_count": 61,
   "id": "c993a62c",
   "metadata": {},
   "outputs": [],
   "source": [
    "N = 5\n",
    "ys_true = torch.randint(0, 5, (N, ))\n",
    "ys_pred = torch.rand(N)"
   ]
  },
  {
   "cell_type": "code",
   "execution_count": 62,
   "id": "9885d5f0",
   "metadata": {},
   "outputs": [
    {
     "data": {
      "text/plain": [
       "tensor([1, 1, 3, 0, 4])"
      ]
     },
     "execution_count": 62,
     "metadata": {},
     "output_type": "execute_result"
    }
   ],
   "source": [
    "ys_true"
   ]
  },
  {
   "cell_type": "code",
   "execution_count": 63,
   "id": "0af9ef56",
   "metadata": {},
   "outputs": [
    {
     "data": {
      "text/plain": [
       "tensor([0.6729, 0.0711, 0.0695, 0.5213, 0.9205])"
      ]
     },
     "execution_count": 63,
     "metadata": {},
     "output_type": "execute_result"
    }
   ],
   "source": [
    "ys_pred"
   ]
  },
  {
   "cell_type": "code",
   "execution_count": 64,
   "id": "80e1978e",
   "metadata": {},
   "outputs": [],
   "source": [
    "def compute_gain(y_value: float, gain_scheme: str) -> float:\n",
    "    if gain_scheme == 'exp2':\n",
    "        gain = 2 * y_value - 1\n",
    "    elif gain_scheme == 'const':\n",
    "        gain = y_value\n",
    "    else:\n",
    "        raise ValueError(F'{gain_scheme} метод не поддерживается, только exp2 и const')\n",
    "    return float(gain)"
   ]
  },
  {
   "cell_type": "code",
   "execution_count": 65,
   "id": "fc235cad",
   "metadata": {},
   "outputs": [],
   "source": [
    "def dcg(ys_true: torch.Tensor, ys_pred: torch.Tensor, gain_scheme: str) -> float:\n",
    "    _, argsort = torch.sort(ys_pred, descending=True, dim=0)\n",
    "    ys_true_sorted = ys_true[argsort]\n",
    "    ret = 0\n",
    "    for idx, cor_y in enumerate(ys_true_sorted, 1):\n",
    "        gain = compute_gain(cur_y, gain_scheme)\n",
    "        ret += (2 ** gain - 1) / np.log2(1 + idx)\n",
    "    return ret"
   ]
  },
  {
   "cell_type": "code",
   "execution_count": 66,
   "id": "ad23ff6b",
   "metadata": {},
   "outputs": [],
   "source": [
    "def ndcg(ys_true: torch.Tensor, ys_pred: torch.Tensor, gain_scheme: str = 'const') -> float:\n",
    "    \n",
    "    pred_dcg = dcg(ys_true, ys_pred, gain_scheme)\n",
    "    ideal_dcg = dcg(ys_true, ys_true, gain_scheme)\n",
    "    \n",
    "    ndcg = pred_dcg / ideal_dcg\n",
    "    return ndcg"
   ]
  },
  {
   "cell_type": "markdown",
   "id": "3b907e0c",
   "metadata": {},
   "source": [
    "def ndcg(ys_true, ys_pred):\n",
    "    def dcg(ys_true, ys_pred):\n",
    "        _, argsort = torch.sort(ys_pred, descending=True, dim=0)\n",
    "        ys_true_sorted = ys_true[argsort]\n",
    "        ret = 0\n",
    "        for i, l in enumerate(ys_true_sorted, 1):\n",
    "            ret += (2 ** l - 1) / np.log2(1 + i)\n",
    "        return ret\n",
    "    ideal_dcg = dcg(ys_true, ys_true)\n",
    "    pred_dcg = dcg(ys_true, ys_pred)\n",
    "    return pred_dcg / ideal_dcg\n"
   ]
  },
  {
   "cell_type": "code",
   "execution_count": 68,
   "id": "a21dea04",
   "metadata": {},
   "outputs": [
    {
     "name": "stdout",
     "output_type": "stream",
     "text": [
      "tensor([0.6729, 0.0711, 0.0695, 0.5213, 0.9205])\n",
      "tensor([4, 0, 3, 1, 2])\n"
     ]
    }
   ],
   "source": [
    " _, argsort = torch.sort(ys_pred, descending=True, dim=0)\n",
    "print(ys_pred, argsort, sep='\\n')"
   ]
  },
  {
   "cell_type": "code",
   "execution_count": 55,
   "id": "bc98c89a",
   "metadata": {},
   "outputs": [
    {
     "data": {
      "text/plain": [
       "tensor([2, 4, 3, 1, 1])"
      ]
     },
     "execution_count": 55,
     "metadata": {},
     "output_type": "execute_result"
    }
   ],
   "source": [
    "ys_true"
   ]
  },
  {
   "cell_type": "code",
   "execution_count": 54,
   "id": "eaa1ffb0",
   "metadata": {},
   "outputs": [
    {
     "data": {
      "text/plain": [
       "tensor([1, 2, 3, 1, 4])"
      ]
     },
     "execution_count": 54,
     "metadata": {},
     "output_type": "execute_result"
    }
   ],
   "source": [
    "ys_true_sorted = ys_true[argsort]\n",
    "ys_true_sorted"
   ]
  },
  {
   "cell_type": "code",
   "execution_count": 59,
   "id": "cb3b00af",
   "metadata": {},
   "outputs": [
    {
     "data": {
      "text/plain": [
       "[(1, tensor(1)),\n",
       " (2, tensor(2)),\n",
       " (3, tensor(3)),\n",
       " (4, tensor(1)),\n",
       " (5, tensor(4))]"
      ]
     },
     "execution_count": 59,
     "metadata": {},
     "output_type": "execute_result"
    }
   ],
   "source": [
    "list(enumerate(ys_true_sorted, 1))"
   ]
  },
  {
   "cell_type": "code",
   "execution_count": null,
   "id": "a73e8576",
   "metadata": {},
   "outputs": [],
   "source": []
  }
 ],
 "metadata": {
  "kernelspec": {
   "display_name": "Python 3 (ipykernel)",
   "language": "python",
   "name": "python3"
  },
  "language_info": {
   "codemirror_mode": {
    "name": "ipython",
    "version": 3
   },
   "file_extension": ".py",
   "mimetype": "text/x-python",
   "name": "python",
   "nbconvert_exporter": "python",
   "pygments_lexer": "ipython3",
   "version": "3.9.12"
  }
 },
 "nbformat": 4,
 "nbformat_minor": 5
}
